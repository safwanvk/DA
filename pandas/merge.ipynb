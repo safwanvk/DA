{
 "metadata": {
  "language_info": {
   "codemirror_mode": {
    "name": "ipython",
    "version": 3
   },
   "file_extension": ".py",
   "mimetype": "text/x-python",
   "name": "python",
   "nbconvert_exporter": "python",
   "pygments_lexer": "ipython3",
   "version": "3.8.5-final"
  },
  "orig_nbformat": 2,
  "kernelspec": {
   "name": "python385jvsc74a57bd08f3acc5225abed06ffc5b305e810ea628c3b712ef69ce3c38ff3f20fb057bcd9",
   "display_name": "Python 3.8.5 64-bit ('venv')"
  },
  "metadata": {
   "interpreter": {
    "hash": "8f3acc5225abed06ffc5b305e810ea628c3b712ef69ce3c38ff3f20fb057bcd9"
   }
  }
 },
 "nbformat": 4,
 "nbformat_minor": 2,
 "cells": [
  {
   "cell_type": "code",
   "execution_count": 1,
   "metadata": {},
   "outputs": [
    {
     "output_type": "execute_result",
     "data": {
      "text/plain": [
       "       city  temperature\n",
       "0  new york           21\n",
       "1   chicago           14\n",
       "2   orlando           35"
      ],
      "text/html": "<div>\n<style scoped>\n    .dataframe tbody tr th:only-of-type {\n        vertical-align: middle;\n    }\n\n    .dataframe tbody tr th {\n        vertical-align: top;\n    }\n\n    .dataframe thead th {\n        text-align: right;\n    }\n</style>\n<table border=\"1\" class=\"dataframe\">\n  <thead>\n    <tr style=\"text-align: right;\">\n      <th></th>\n      <th>city</th>\n      <th>temperature</th>\n    </tr>\n  </thead>\n  <tbody>\n    <tr>\n      <th>0</th>\n      <td>new york</td>\n      <td>21</td>\n    </tr>\n    <tr>\n      <th>1</th>\n      <td>chicago</td>\n      <td>14</td>\n    </tr>\n    <tr>\n      <th>2</th>\n      <td>orlando</td>\n      <td>35</td>\n    </tr>\n  </tbody>\n</table>\n</div>"
     },
     "metadata": {},
     "execution_count": 1
    }
   ],
   "source": [
    "import pandas as pd\n",
    "df1 = pd.DataFrame({\n",
    "    \"city\": [\"new york\",\"chicago\",\"orlando\"],\n",
    "    \"temperature\": [21,14,35],\n",
    "})\n",
    "df1"
   ]
  },
  {
   "cell_type": "code",
   "execution_count": 2,
   "metadata": {},
   "outputs": [
    {
     "output_type": "execute_result",
     "data": {
      "text/plain": [
       "       city  humidity\n",
       "0   chicago        65\n",
       "1  new york        68\n",
       "2   orlando        75"
      ],
      "text/html": "<div>\n<style scoped>\n    .dataframe tbody tr th:only-of-type {\n        vertical-align: middle;\n    }\n\n    .dataframe tbody tr th {\n        vertical-align: top;\n    }\n\n    .dataframe thead th {\n        text-align: right;\n    }\n</style>\n<table border=\"1\" class=\"dataframe\">\n  <thead>\n    <tr style=\"text-align: right;\">\n      <th></th>\n      <th>city</th>\n      <th>humidity</th>\n    </tr>\n  </thead>\n  <tbody>\n    <tr>\n      <th>0</th>\n      <td>chicago</td>\n      <td>65</td>\n    </tr>\n    <tr>\n      <th>1</th>\n      <td>new york</td>\n      <td>68</td>\n    </tr>\n    <tr>\n      <th>2</th>\n      <td>orlando</td>\n      <td>75</td>\n    </tr>\n  </tbody>\n</table>\n</div>"
     },
     "metadata": {},
     "execution_count": 2
    }
   ],
   "source": [
    "df2 = pd.DataFrame({\n",
    "    \"city\": [\"chicago\",\"new york\",\"orlando\"],\n",
    "    \"humidity\": [65,68,75],\n",
    "})\n",
    "df2"
   ]
  },
  {
   "cell_type": "code",
   "execution_count": 3,
   "metadata": {},
   "outputs": [
    {
     "output_type": "execute_result",
     "data": {
      "text/plain": [
       "       city  temperature  humidity\n",
       "0  new york           21        68\n",
       "1   chicago           14        65\n",
       "2   orlando           35        75"
      ],
      "text/html": "<div>\n<style scoped>\n    .dataframe tbody tr th:only-of-type {\n        vertical-align: middle;\n    }\n\n    .dataframe tbody tr th {\n        vertical-align: top;\n    }\n\n    .dataframe thead th {\n        text-align: right;\n    }\n</style>\n<table border=\"1\" class=\"dataframe\">\n  <thead>\n    <tr style=\"text-align: right;\">\n      <th></th>\n      <th>city</th>\n      <th>temperature</th>\n      <th>humidity</th>\n    </tr>\n  </thead>\n  <tbody>\n    <tr>\n      <th>0</th>\n      <td>new york</td>\n      <td>21</td>\n      <td>68</td>\n    </tr>\n    <tr>\n      <th>1</th>\n      <td>chicago</td>\n      <td>14</td>\n      <td>65</td>\n    </tr>\n    <tr>\n      <th>2</th>\n      <td>orlando</td>\n      <td>35</td>\n      <td>75</td>\n    </tr>\n  </tbody>\n</table>\n</div>"
     },
     "metadata": {},
     "execution_count": 3
    }
   ],
   "source": [
    "# Merge two df\n",
    "df = pd.merge(df1,df2, on='city')\n",
    "df"
   ]
  },
  {
   "cell_type": "code",
   "execution_count": 4,
   "metadata": {},
   "outputs": [
    {
     "output_type": "execute_result",
     "data": {
      "text/plain": [
       "        city  temperature\n",
       "0   new york           21\n",
       "1    chicago           14\n",
       "2    orlando           35\n",
       "3  baltimore           38"
      ],
      "text/html": "<div>\n<style scoped>\n    .dataframe tbody tr th:only-of-type {\n        vertical-align: middle;\n    }\n\n    .dataframe tbody tr th {\n        vertical-align: top;\n    }\n\n    .dataframe thead th {\n        text-align: right;\n    }\n</style>\n<table border=\"1\" class=\"dataframe\">\n  <thead>\n    <tr style=\"text-align: right;\">\n      <th></th>\n      <th>city</th>\n      <th>temperature</th>\n    </tr>\n  </thead>\n  <tbody>\n    <tr>\n      <th>0</th>\n      <td>new york</td>\n      <td>21</td>\n    </tr>\n    <tr>\n      <th>1</th>\n      <td>chicago</td>\n      <td>14</td>\n    </tr>\n    <tr>\n      <th>2</th>\n      <td>orlando</td>\n      <td>35</td>\n    </tr>\n    <tr>\n      <th>3</th>\n      <td>baltimore</td>\n      <td>38</td>\n    </tr>\n  </tbody>\n</table>\n</div>"
     },
     "metadata": {},
     "execution_count": 4
    }
   ],
   "source": [
    "df1 = pd.DataFrame({\n",
    "    \"city\": [\"new york\",\"chicago\",\"orlando\", \"baltimore\"],\n",
    "    \"temperature\": [21,14,35, 38],\n",
    "})\n",
    "df1"
   ]
  },
  {
   "cell_type": "code",
   "execution_count": 5,
   "metadata": {},
   "outputs": [
    {
     "output_type": "execute_result",
     "data": {
      "text/plain": [
       "        city  humidity\n",
       "0    chicago        65\n",
       "1   new york        68\n",
       "2  san diego        71"
      ],
      "text/html": "<div>\n<style scoped>\n    .dataframe tbody tr th:only-of-type {\n        vertical-align: middle;\n    }\n\n    .dataframe tbody tr th {\n        vertical-align: top;\n    }\n\n    .dataframe thead th {\n        text-align: right;\n    }\n</style>\n<table border=\"1\" class=\"dataframe\">\n  <thead>\n    <tr style=\"text-align: right;\">\n      <th></th>\n      <th>city</th>\n      <th>humidity</th>\n    </tr>\n  </thead>\n  <tbody>\n    <tr>\n      <th>0</th>\n      <td>chicago</td>\n      <td>65</td>\n    </tr>\n    <tr>\n      <th>1</th>\n      <td>new york</td>\n      <td>68</td>\n    </tr>\n    <tr>\n      <th>2</th>\n      <td>san diego</td>\n      <td>71</td>\n    </tr>\n  </tbody>\n</table>\n</div>"
     },
     "metadata": {},
     "execution_count": 5
    }
   ],
   "source": [
    "df2 = pd.DataFrame({\n",
    "    \"city\": [\"chicago\",\"new york\",\"san diego\"],\n",
    "    \"humidity\": [65,68,71],\n",
    "})\n",
    "df2"
   ]
  },
  {
   "cell_type": "code",
   "execution_count": 6,
   "metadata": {},
   "outputs": [
    {
     "output_type": "execute_result",
     "data": {
      "text/plain": [
       "       city  temperature  humidity\n",
       "0  new york           21        68\n",
       "1   chicago           14        65"
      ],
      "text/html": "<div>\n<style scoped>\n    .dataframe tbody tr th:only-of-type {\n        vertical-align: middle;\n    }\n\n    .dataframe tbody tr th {\n        vertical-align: top;\n    }\n\n    .dataframe thead th {\n        text-align: right;\n    }\n</style>\n<table border=\"1\" class=\"dataframe\">\n  <thead>\n    <tr style=\"text-align: right;\">\n      <th></th>\n      <th>city</th>\n      <th>temperature</th>\n      <th>humidity</th>\n    </tr>\n  </thead>\n  <tbody>\n    <tr>\n      <th>0</th>\n      <td>new york</td>\n      <td>21</td>\n      <td>68</td>\n    </tr>\n    <tr>\n      <th>1</th>\n      <td>chicago</td>\n      <td>14</td>\n      <td>65</td>\n    </tr>\n  </tbody>\n</table>\n</div>"
     },
     "metadata": {},
     "execution_count": 6
    }
   ],
   "source": [
    "# Inner join - common\n",
    "# how - dafault is inner\n",
    "df = pd.merge(df1, df2 ,how='inner')\n",
    "df"
   ]
  },
  {
   "cell_type": "code",
   "execution_count": 7,
   "metadata": {},
   "outputs": [
    {
     "output_type": "execute_result",
     "data": {
      "text/plain": [
       "        city  temperature  humidity\n",
       "0   new york         21.0      68.0\n",
       "1    chicago         14.0      65.0\n",
       "2    orlando         35.0       NaN\n",
       "3  baltimore         38.0       NaN\n",
       "4  san diego          NaN      71.0"
      ],
      "text/html": "<div>\n<style scoped>\n    .dataframe tbody tr th:only-of-type {\n        vertical-align: middle;\n    }\n\n    .dataframe tbody tr th {\n        vertical-align: top;\n    }\n\n    .dataframe thead th {\n        text-align: right;\n    }\n</style>\n<table border=\"1\" class=\"dataframe\">\n  <thead>\n    <tr style=\"text-align: right;\">\n      <th></th>\n      <th>city</th>\n      <th>temperature</th>\n      <th>humidity</th>\n    </tr>\n  </thead>\n  <tbody>\n    <tr>\n      <th>0</th>\n      <td>new york</td>\n      <td>21.0</td>\n      <td>68.0</td>\n    </tr>\n    <tr>\n      <th>1</th>\n      <td>chicago</td>\n      <td>14.0</td>\n      <td>65.0</td>\n    </tr>\n    <tr>\n      <th>2</th>\n      <td>orlando</td>\n      <td>35.0</td>\n      <td>NaN</td>\n    </tr>\n    <tr>\n      <th>3</th>\n      <td>baltimore</td>\n      <td>38.0</td>\n      <td>NaN</td>\n    </tr>\n    <tr>\n      <th>4</th>\n      <td>san diego</td>\n      <td>NaN</td>\n      <td>71.0</td>\n    </tr>\n  </tbody>\n</table>\n</div>"
     },
     "metadata": {},
     "execution_count": 7
    }
   ],
   "source": [
    "# Outer\n",
    "df = pd.merge(df1, df2 ,how='outer')\n",
    "df"
   ]
  },
  {
   "cell_type": "code",
   "execution_count": 8,
   "metadata": {},
   "outputs": [
    {
     "output_type": "execute_result",
     "data": {
      "text/plain": [
       "        city  temperature  humidity\n",
       "0   new york           21      68.0\n",
       "1    chicago           14      65.0\n",
       "2    orlando           35       NaN\n",
       "3  baltimore           38       NaN"
      ],
      "text/html": "<div>\n<style scoped>\n    .dataframe tbody tr th:only-of-type {\n        vertical-align: middle;\n    }\n\n    .dataframe tbody tr th {\n        vertical-align: top;\n    }\n\n    .dataframe thead th {\n        text-align: right;\n    }\n</style>\n<table border=\"1\" class=\"dataframe\">\n  <thead>\n    <tr style=\"text-align: right;\">\n      <th></th>\n      <th>city</th>\n      <th>temperature</th>\n      <th>humidity</th>\n    </tr>\n  </thead>\n  <tbody>\n    <tr>\n      <th>0</th>\n      <td>new york</td>\n      <td>21</td>\n      <td>68.0</td>\n    </tr>\n    <tr>\n      <th>1</th>\n      <td>chicago</td>\n      <td>14</td>\n      <td>65.0</td>\n    </tr>\n    <tr>\n      <th>2</th>\n      <td>orlando</td>\n      <td>35</td>\n      <td>NaN</td>\n    </tr>\n    <tr>\n      <th>3</th>\n      <td>baltimore</td>\n      <td>38</td>\n      <td>NaN</td>\n    </tr>\n  </tbody>\n</table>\n</div>"
     },
     "metadata": {},
     "execution_count": 8
    }
   ],
   "source": [
    "# Left join - take commen element and remaining element in left table\n",
    "df = pd.merge(df1, df2 ,how='left')\n",
    "df"
   ]
  },
  {
   "cell_type": "code",
   "execution_count": 9,
   "metadata": {},
   "outputs": [
    {
     "output_type": "execute_result",
     "data": {
      "text/plain": [
       "        city  temperature  humidity\n",
       "0    chicago         14.0        65\n",
       "1   new york         21.0        68\n",
       "2  san diego          NaN        71"
      ],
      "text/html": "<div>\n<style scoped>\n    .dataframe tbody tr th:only-of-type {\n        vertical-align: middle;\n    }\n\n    .dataframe tbody tr th {\n        vertical-align: top;\n    }\n\n    .dataframe thead th {\n        text-align: right;\n    }\n</style>\n<table border=\"1\" class=\"dataframe\">\n  <thead>\n    <tr style=\"text-align: right;\">\n      <th></th>\n      <th>city</th>\n      <th>temperature</th>\n      <th>humidity</th>\n    </tr>\n  </thead>\n  <tbody>\n    <tr>\n      <th>0</th>\n      <td>chicago</td>\n      <td>14.0</td>\n      <td>65</td>\n    </tr>\n    <tr>\n      <th>1</th>\n      <td>new york</td>\n      <td>21.0</td>\n      <td>68</td>\n    </tr>\n    <tr>\n      <th>2</th>\n      <td>san diego</td>\n      <td>NaN</td>\n      <td>71</td>\n    </tr>\n  </tbody>\n</table>\n</div>"
     },
     "metadata": {},
     "execution_count": 9
    }
   ],
   "source": [
    "# right join\n",
    "df = pd.merge(df1, df2 ,how='right')\n",
    "df"
   ]
  },
  {
   "cell_type": "code",
   "execution_count": 10,
   "metadata": {},
   "outputs": [
    {
     "output_type": "execute_result",
     "data": {
      "text/plain": [
       "        city  temperature  humidity      _merge\n",
       "0   new york         21.0      68.0        both\n",
       "1    chicago         14.0      65.0        both\n",
       "2    orlando         35.0       NaN   left_only\n",
       "3  baltimore         38.0       NaN   left_only\n",
       "4  san diego          NaN      71.0  right_only"
      ],
      "text/html": "<div>\n<style scoped>\n    .dataframe tbody tr th:only-of-type {\n        vertical-align: middle;\n    }\n\n    .dataframe tbody tr th {\n        vertical-align: top;\n    }\n\n    .dataframe thead th {\n        text-align: right;\n    }\n</style>\n<table border=\"1\" class=\"dataframe\">\n  <thead>\n    <tr style=\"text-align: right;\">\n      <th></th>\n      <th>city</th>\n      <th>temperature</th>\n      <th>humidity</th>\n      <th>_merge</th>\n    </tr>\n  </thead>\n  <tbody>\n    <tr>\n      <th>0</th>\n      <td>new york</td>\n      <td>21.0</td>\n      <td>68.0</td>\n      <td>both</td>\n    </tr>\n    <tr>\n      <th>1</th>\n      <td>chicago</td>\n      <td>14.0</td>\n      <td>65.0</td>\n      <td>both</td>\n    </tr>\n    <tr>\n      <th>2</th>\n      <td>orlando</td>\n      <td>35.0</td>\n      <td>NaN</td>\n      <td>left_only</td>\n    </tr>\n    <tr>\n      <th>3</th>\n      <td>baltimore</td>\n      <td>38.0</td>\n      <td>NaN</td>\n      <td>left_only</td>\n    </tr>\n    <tr>\n      <th>4</th>\n      <td>san diego</td>\n      <td>NaN</td>\n      <td>71.0</td>\n      <td>right_only</td>\n    </tr>\n  </tbody>\n</table>\n</div>"
     },
     "metadata": {},
     "execution_count": 10
    }
   ],
   "source": [
    "# see table indication\n",
    "# indicator\n",
    "df3=pd.merge(df1,df2,on=\"city\",how=\"outer\",indicator=True)\n",
    "df3"
   ]
  },
  {
   "cell_type": "code",
   "execution_count": 11,
   "metadata": {},
   "outputs": [
    {
     "output_type": "execute_result",
     "data": {
      "text/plain": [
       "        city  temperature  humidity\n",
       "0   new york           21        65\n",
       "1    chicago           14        68\n",
       "2    orlando           35        71\n",
       "3  baltimore           38        75"
      ],
      "text/html": "<div>\n<style scoped>\n    .dataframe tbody tr th:only-of-type {\n        vertical-align: middle;\n    }\n\n    .dataframe tbody tr th {\n        vertical-align: top;\n    }\n\n    .dataframe thead th {\n        text-align: right;\n    }\n</style>\n<table border=\"1\" class=\"dataframe\">\n  <thead>\n    <tr style=\"text-align: right;\">\n      <th></th>\n      <th>city</th>\n      <th>temperature</th>\n      <th>humidity</th>\n    </tr>\n  </thead>\n  <tbody>\n    <tr>\n      <th>0</th>\n      <td>new york</td>\n      <td>21</td>\n      <td>65</td>\n    </tr>\n    <tr>\n      <th>1</th>\n      <td>chicago</td>\n      <td>14</td>\n      <td>68</td>\n    </tr>\n    <tr>\n      <th>2</th>\n      <td>orlando</td>\n      <td>35</td>\n      <td>71</td>\n    </tr>\n    <tr>\n      <th>3</th>\n      <td>baltimore</td>\n      <td>38</td>\n      <td>75</td>\n    </tr>\n  </tbody>\n</table>\n</div>"
     },
     "metadata": {},
     "execution_count": 11
    }
   ],
   "source": [
    "df1 = pd.DataFrame({\n",
    "    \"city\": [\"new york\",\"chicago\",\"orlando\", \"baltimore\"],\n",
    "    \"temperature\": [21,14,35,38],\n",
    "    \"humidity\": [65,68,71, 75]\n",
    "})\n",
    "df1"
   ]
  },
  {
   "cell_type": "code",
   "execution_count": 12,
   "metadata": {},
   "outputs": [
    {
     "output_type": "execute_result",
     "data": {
      "text/plain": [
       "        city  temperature  humidity\n",
       "0    chicago           21        65\n",
       "1   new york           14        68\n",
       "2  san diego           35        71"
      ],
      "text/html": "<div>\n<style scoped>\n    .dataframe tbody tr th:only-of-type {\n        vertical-align: middle;\n    }\n\n    .dataframe tbody tr th {\n        vertical-align: top;\n    }\n\n    .dataframe thead th {\n        text-align: right;\n    }\n</style>\n<table border=\"1\" class=\"dataframe\">\n  <thead>\n    <tr style=\"text-align: right;\">\n      <th></th>\n      <th>city</th>\n      <th>temperature</th>\n      <th>humidity</th>\n    </tr>\n  </thead>\n  <tbody>\n    <tr>\n      <th>0</th>\n      <td>chicago</td>\n      <td>21</td>\n      <td>65</td>\n    </tr>\n    <tr>\n      <th>1</th>\n      <td>new york</td>\n      <td>14</td>\n      <td>68</td>\n    </tr>\n    <tr>\n      <th>2</th>\n      <td>san diego</td>\n      <td>35</td>\n      <td>71</td>\n    </tr>\n  </tbody>\n</table>\n</div>"
     },
     "metadata": {},
     "execution_count": 12
    }
   ],
   "source": [
    "df2 = pd.DataFrame({\n",
    "    \"city\": [\"chicago\",\"new york\",\"san diego\"],\n",
    "    \"temperature\": [21,14,35],\n",
    "    \"humidity\": [65,68,71]\n",
    "})\n",
    "df2"
   ]
  },
  {
   "cell_type": "code",
   "execution_count": 13,
   "metadata": {},
   "outputs": [
    {
     "output_type": "execute_result",
     "data": {
      "text/plain": [
       "        city  temperature_first  humidity_first  temperature_second  \\\n",
       "0   new york               21.0            65.0                14.0   \n",
       "1    chicago               14.0            68.0                21.0   \n",
       "2    orlando               35.0            71.0                 NaN   \n",
       "3  baltimore               38.0            75.0                 NaN   \n",
       "4  san diego                NaN             NaN                35.0   \n",
       "\n",
       "   humidity_second  \n",
       "0             68.0  \n",
       "1             65.0  \n",
       "2              NaN  \n",
       "3              NaN  \n",
       "4             71.0  "
      ],
      "text/html": "<div>\n<style scoped>\n    .dataframe tbody tr th:only-of-type {\n        vertical-align: middle;\n    }\n\n    .dataframe tbody tr th {\n        vertical-align: top;\n    }\n\n    .dataframe thead th {\n        text-align: right;\n    }\n</style>\n<table border=\"1\" class=\"dataframe\">\n  <thead>\n    <tr style=\"text-align: right;\">\n      <th></th>\n      <th>city</th>\n      <th>temperature_first</th>\n      <th>humidity_first</th>\n      <th>temperature_second</th>\n      <th>humidity_second</th>\n    </tr>\n  </thead>\n  <tbody>\n    <tr>\n      <th>0</th>\n      <td>new york</td>\n      <td>21.0</td>\n      <td>65.0</td>\n      <td>14.0</td>\n      <td>68.0</td>\n    </tr>\n    <tr>\n      <th>1</th>\n      <td>chicago</td>\n      <td>14.0</td>\n      <td>68.0</td>\n      <td>21.0</td>\n      <td>65.0</td>\n    </tr>\n    <tr>\n      <th>2</th>\n      <td>orlando</td>\n      <td>35.0</td>\n      <td>71.0</td>\n      <td>NaN</td>\n      <td>NaN</td>\n    </tr>\n    <tr>\n      <th>3</th>\n      <td>baltimore</td>\n      <td>38.0</td>\n      <td>75.0</td>\n      <td>NaN</td>\n      <td>NaN</td>\n    </tr>\n    <tr>\n      <th>4</th>\n      <td>san diego</td>\n      <td>NaN</td>\n      <td>NaN</td>\n      <td>35.0</td>\n      <td>71.0</td>\n    </tr>\n  </tbody>\n</table>\n</div>"
     },
     "metadata": {},
     "execution_count": 13
    }
   ],
   "source": [
    "# distinguish table\n",
    "# suffixes\n",
    "df3= pd.merge(df1,df2,on=\"city\",how=\"outer\", suffixes=('_first','_second'))\n",
    "df3"
   ]
  }
 ]
}