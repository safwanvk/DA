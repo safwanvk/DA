{
 "metadata": {
  "language_info": {
   "codemirror_mode": {
    "name": "ipython",
    "version": 3
   },
   "file_extension": ".py",
   "mimetype": "text/x-python",
   "name": "python",
   "nbconvert_exporter": "python",
   "pygments_lexer": "ipython3",
   "version": "3.8.5-final"
  },
  "orig_nbformat": 2,
  "kernelspec": {
   "name": "python385jvsc74a57bd08f3acc5225abed06ffc5b305e810ea628c3b712ef69ce3c38ff3f20fb057bcd9",
   "display_name": "Python 3.8.5 64-bit ('venv')"
  },
  "metadata": {
   "interpreter": {
    "hash": "8f3acc5225abed06ffc5b305e810ea628c3b712ef69ce3c38ff3f20fb057bcd9"
   }
  }
 },
 "nbformat": 4,
 "nbformat_minor": 2,
 "cells": [
  {
   "cell_type": "code",
   "execution_count": 1,
   "metadata": {},
   "outputs": [
    {
     "output_type": "execute_result",
     "data": {
      "text/plain": [
       "  tickers            eps  revenue price         people\n",
       "0   GOOGL          27.82       87   845     larry page\n",
       "1     WMT           4.61      484    65           n.a.\n",
       "2    MSFT             -1       85    64     bill gates\n",
       "3    RIL   not available       50  1023  mukesh ambani\n",
       "4    TATA            5.6       -1  n.a.     ratan tata"
      ],
      "text/html": "<div>\n<style scoped>\n    .dataframe tbody tr th:only-of-type {\n        vertical-align: middle;\n    }\n\n    .dataframe tbody tr th {\n        vertical-align: top;\n    }\n\n    .dataframe thead th {\n        text-align: right;\n    }\n</style>\n<table border=\"1\" class=\"dataframe\">\n  <thead>\n    <tr style=\"text-align: right;\">\n      <th></th>\n      <th>tickers</th>\n      <th>eps</th>\n      <th>revenue</th>\n      <th>price</th>\n      <th>people</th>\n    </tr>\n  </thead>\n  <tbody>\n    <tr>\n      <th>0</th>\n      <td>GOOGL</td>\n      <td>27.82</td>\n      <td>87</td>\n      <td>845</td>\n      <td>larry page</td>\n    </tr>\n    <tr>\n      <th>1</th>\n      <td>WMT</td>\n      <td>4.61</td>\n      <td>484</td>\n      <td>65</td>\n      <td>n.a.</td>\n    </tr>\n    <tr>\n      <th>2</th>\n      <td>MSFT</td>\n      <td>-1</td>\n      <td>85</td>\n      <td>64</td>\n      <td>bill gates</td>\n    </tr>\n    <tr>\n      <th>3</th>\n      <td>RIL</td>\n      <td>not available</td>\n      <td>50</td>\n      <td>1023</td>\n      <td>mukesh ambani</td>\n    </tr>\n    <tr>\n      <th>4</th>\n      <td>TATA</td>\n      <td>5.6</td>\n      <td>-1</td>\n      <td>n.a.</td>\n      <td>ratan tata</td>\n    </tr>\n  </tbody>\n</table>\n</div>"
     },
     "metadata": {},
     "execution_count": 1
    }
   ],
   "source": [
    "import pandas as pd\n",
    "\n",
    "df = pd.read_csv('/home/safwan/Documents/projects/python/Data Analysis/pandas/data/stock_data.csv')\n",
    "df"
   ]
  },
  {
   "cell_type": "code",
   "execution_count": 2,
   "metadata": {},
   "outputs": [
    {
     "output_type": "execute_result",
     "data": {
      "text/plain": [
       "  GOOGL          27.82   87   845     larry page\n",
       "0   WMT           4.61  484    65           n.a.\n",
       "1  MSFT             -1   85    64     bill gates\n",
       "2  RIL   not available   50  1023  mukesh ambani\n",
       "3  TATA            5.6   -1  n.a.     ratan tata"
      ],
      "text/html": "<div>\n<style scoped>\n    .dataframe tbody tr th:only-of-type {\n        vertical-align: middle;\n    }\n\n    .dataframe tbody tr th {\n        vertical-align: top;\n    }\n\n    .dataframe thead th {\n        text-align: right;\n    }\n</style>\n<table border=\"1\" class=\"dataframe\">\n  <thead>\n    <tr style=\"text-align: right;\">\n      <th></th>\n      <th>GOOGL</th>\n      <th>27.82</th>\n      <th>87</th>\n      <th>845</th>\n      <th>larry page</th>\n    </tr>\n  </thead>\n  <tbody>\n    <tr>\n      <th>0</th>\n      <td>WMT</td>\n      <td>4.61</td>\n      <td>484</td>\n      <td>65</td>\n      <td>n.a.</td>\n    </tr>\n    <tr>\n      <th>1</th>\n      <td>MSFT</td>\n      <td>-1</td>\n      <td>85</td>\n      <td>64</td>\n      <td>bill gates</td>\n    </tr>\n    <tr>\n      <th>2</th>\n      <td>RIL</td>\n      <td>not available</td>\n      <td>50</td>\n      <td>1023</td>\n      <td>mukesh ambani</td>\n    </tr>\n    <tr>\n      <th>3</th>\n      <td>TATA</td>\n      <td>5.6</td>\n      <td>-1</td>\n      <td>n.a.</td>\n      <td>ratan tata</td>\n    </tr>\n  </tbody>\n</table>\n</div>"
     },
     "metadata": {},
     "execution_count": 2
    }
   ],
   "source": [
    "# Skip rows\n",
    "df = pd.read_csv('/home/safwan/Documents/projects/python/Data Analysis/pandas/data/stock_data.csv', skiprows=1)\n",
    "df"
   ]
  },
  {
   "cell_type": "code",
   "execution_count": 3,
   "metadata": {},
   "outputs": [
    {
     "output_type": "execute_result",
     "data": {
      "text/plain": [
       "  GOOGL          27.82   87   845     larry page\n",
       "0   WMT           4.61  484    65           n.a.\n",
       "1  MSFT             -1   85    64     bill gates\n",
       "2  RIL   not available   50  1023  mukesh ambani\n",
       "3  TATA            5.6   -1  n.a.     ratan tata"
      ],
      "text/html": "<div>\n<style scoped>\n    .dataframe tbody tr th:only-of-type {\n        vertical-align: middle;\n    }\n\n    .dataframe tbody tr th {\n        vertical-align: top;\n    }\n\n    .dataframe thead th {\n        text-align: right;\n    }\n</style>\n<table border=\"1\" class=\"dataframe\">\n  <thead>\n    <tr style=\"text-align: right;\">\n      <th></th>\n      <th>GOOGL</th>\n      <th>27.82</th>\n      <th>87</th>\n      <th>845</th>\n      <th>larry page</th>\n    </tr>\n  </thead>\n  <tbody>\n    <tr>\n      <th>0</th>\n      <td>WMT</td>\n      <td>4.61</td>\n      <td>484</td>\n      <td>65</td>\n      <td>n.a.</td>\n    </tr>\n    <tr>\n      <th>1</th>\n      <td>MSFT</td>\n      <td>-1</td>\n      <td>85</td>\n      <td>64</td>\n      <td>bill gates</td>\n    </tr>\n    <tr>\n      <th>2</th>\n      <td>RIL</td>\n      <td>not available</td>\n      <td>50</td>\n      <td>1023</td>\n      <td>mukesh ambani</td>\n    </tr>\n    <tr>\n      <th>3</th>\n      <td>TATA</td>\n      <td>5.6</td>\n      <td>-1</td>\n      <td>n.a.</td>\n      <td>ratan tata</td>\n    </tr>\n  </tbody>\n</table>\n</div>"
     },
     "metadata": {},
     "execution_count": 3
    }
   ],
   "source": [
    "df = pd.read_csv('/home/safwan/Documents/projects/python/Data Analysis/pandas/data/stock_data.csv', header=1)\n",
    "df"
   ]
  },
  {
   "cell_type": "code",
   "execution_count": 4,
   "metadata": {},
   "outputs": [
    {
     "output_type": "execute_result",
     "data": {
      "text/plain": [
       "   tickets            eps  revenue  price         people\n",
       "0  tickers            eps  revenue  price         people\n",
       "1    GOOGL          27.82       87    845     larry page\n",
       "2      WMT           4.61      484     65           n.a.\n",
       "3     MSFT             -1       85     64     bill gates\n",
       "4     RIL   not available       50   1023  mukesh ambani\n",
       "5     TATA            5.6       -1   n.a.     ratan tata"
      ],
      "text/html": "<div>\n<style scoped>\n    .dataframe tbody tr th:only-of-type {\n        vertical-align: middle;\n    }\n\n    .dataframe tbody tr th {\n        vertical-align: top;\n    }\n\n    .dataframe thead th {\n        text-align: right;\n    }\n</style>\n<table border=\"1\" class=\"dataframe\">\n  <thead>\n    <tr style=\"text-align: right;\">\n      <th></th>\n      <th>tickets</th>\n      <th>eps</th>\n      <th>revenue</th>\n      <th>price</th>\n      <th>people</th>\n    </tr>\n  </thead>\n  <tbody>\n    <tr>\n      <th>0</th>\n      <td>tickers</td>\n      <td>eps</td>\n      <td>revenue</td>\n      <td>price</td>\n      <td>people</td>\n    </tr>\n    <tr>\n      <th>1</th>\n      <td>GOOGL</td>\n      <td>27.82</td>\n      <td>87</td>\n      <td>845</td>\n      <td>larry page</td>\n    </tr>\n    <tr>\n      <th>2</th>\n      <td>WMT</td>\n      <td>4.61</td>\n      <td>484</td>\n      <td>65</td>\n      <td>n.a.</td>\n    </tr>\n    <tr>\n      <th>3</th>\n      <td>MSFT</td>\n      <td>-1</td>\n      <td>85</td>\n      <td>64</td>\n      <td>bill gates</td>\n    </tr>\n    <tr>\n      <th>4</th>\n      <td>RIL</td>\n      <td>not available</td>\n      <td>50</td>\n      <td>1023</td>\n      <td>mukesh ambani</td>\n    </tr>\n    <tr>\n      <th>5</th>\n      <td>TATA</td>\n      <td>5.6</td>\n      <td>-1</td>\n      <td>n.a.</td>\n      <td>ratan tata</td>\n    </tr>\n  </tbody>\n</table>\n</div>"
     },
     "metadata": {},
     "execution_count": 4
    }
   ],
   "source": [
    "# Import data with null header\n",
    "df = pd.read_csv('/home/safwan/Documents/projects/python/Data Analysis/pandas/data/stock_data.csv', header=None, names=['tickets','eps','revenue','price','people'])\n",
    "df"
   ]
  },
  {
   "cell_type": "code",
   "execution_count": 5,
   "metadata": {},
   "outputs": [
    {
     "output_type": "execute_result",
     "data": {
      "text/plain": [
       "  tickers    eps  revenue  price      people\n",
       "0   GOOGL  27.82       87    845  larry page\n",
       "1     WMT   4.61      484     65        n.a."
      ],
      "text/html": "<div>\n<style scoped>\n    .dataframe tbody tr th:only-of-type {\n        vertical-align: middle;\n    }\n\n    .dataframe tbody tr th {\n        vertical-align: top;\n    }\n\n    .dataframe thead th {\n        text-align: right;\n    }\n</style>\n<table border=\"1\" class=\"dataframe\">\n  <thead>\n    <tr style=\"text-align: right;\">\n      <th></th>\n      <th>tickers</th>\n      <th>eps</th>\n      <th>revenue</th>\n      <th>price</th>\n      <th>people</th>\n    </tr>\n  </thead>\n  <tbody>\n    <tr>\n      <th>0</th>\n      <td>GOOGL</td>\n      <td>27.82</td>\n      <td>87</td>\n      <td>845</td>\n      <td>larry page</td>\n    </tr>\n    <tr>\n      <th>1</th>\n      <td>WMT</td>\n      <td>4.61</td>\n      <td>484</td>\n      <td>65</td>\n      <td>n.a.</td>\n    </tr>\n  </tbody>\n</table>\n</div>"
     },
     "metadata": {},
     "execution_count": 5
    }
   ],
   "source": [
    "# Limit value\n",
    "df = pd.read_csv('/home/safwan/Documents/projects/python/Data Analysis/pandas/data/stock_data.csv', nrows=2)\n",
    "df"
   ]
  },
  {
   "cell_type": "code",
   "execution_count": 6,
   "metadata": {},
   "outputs": [
    {
     "output_type": "execute_result",
     "data": {
      "text/plain": [
       "  tickers    eps  revenue   price         people\n",
       "0   GOOGL  27.82       87   845.0     larry page\n",
       "1     WMT   4.61      484    65.0            NaN\n",
       "2    MSFT  -1.00       85    64.0     bill gates\n",
       "3    RIL     NaN       50  1023.0  mukesh ambani\n",
       "4    TATA   5.60       -1     NaN     ratan tata"
      ],
      "text/html": "<div>\n<style scoped>\n    .dataframe tbody tr th:only-of-type {\n        vertical-align: middle;\n    }\n\n    .dataframe tbody tr th {\n        vertical-align: top;\n    }\n\n    .dataframe thead th {\n        text-align: right;\n    }\n</style>\n<table border=\"1\" class=\"dataframe\">\n  <thead>\n    <tr style=\"text-align: right;\">\n      <th></th>\n      <th>tickers</th>\n      <th>eps</th>\n      <th>revenue</th>\n      <th>price</th>\n      <th>people</th>\n    </tr>\n  </thead>\n  <tbody>\n    <tr>\n      <th>0</th>\n      <td>GOOGL</td>\n      <td>27.82</td>\n      <td>87</td>\n      <td>845.0</td>\n      <td>larry page</td>\n    </tr>\n    <tr>\n      <th>1</th>\n      <td>WMT</td>\n      <td>4.61</td>\n      <td>484</td>\n      <td>65.0</td>\n      <td>NaN</td>\n    </tr>\n    <tr>\n      <th>2</th>\n      <td>MSFT</td>\n      <td>-1.00</td>\n      <td>85</td>\n      <td>64.0</td>\n      <td>bill gates</td>\n    </tr>\n    <tr>\n      <th>3</th>\n      <td>RIL</td>\n      <td>NaN</td>\n      <td>50</td>\n      <td>1023.0</td>\n      <td>mukesh ambani</td>\n    </tr>\n    <tr>\n      <th>4</th>\n      <td>TATA</td>\n      <td>5.60</td>\n      <td>-1</td>\n      <td>NaN</td>\n      <td>ratan tata</td>\n    </tr>\n  </tbody>\n</table>\n</div>"
     },
     "metadata": {},
     "execution_count": 6
    }
   ],
   "source": [
    "# Clean up\n",
    "df = pd.read_csv('/home/safwan/Documents/projects/python/Data Analysis/pandas/data/stock_data.csv', na_values=['not available', 'n.a.'])\n",
    "df"
   ]
  },
  {
   "cell_type": "code",
   "execution_count": 7,
   "metadata": {},
   "outputs": [
    {
     "output_type": "execute_result",
     "data": {
      "text/plain": [
       "  tickers    eps  revenue   price         people\n",
       "0   GOOGL  27.82     87.0   845.0     larry page\n",
       "1     WMT   4.61    484.0    65.0           n.a.\n",
       "2    MSFT  -1.00     85.0    64.0     bill gates\n",
       "3    RIL     NaN     50.0  1023.0  mukesh ambani\n",
       "4    TATA   5.60      NaN     NaN     ratan tata"
      ],
      "text/html": "<div>\n<style scoped>\n    .dataframe tbody tr th:only-of-type {\n        vertical-align: middle;\n    }\n\n    .dataframe tbody tr th {\n        vertical-align: top;\n    }\n\n    .dataframe thead th {\n        text-align: right;\n    }\n</style>\n<table border=\"1\" class=\"dataframe\">\n  <thead>\n    <tr style=\"text-align: right;\">\n      <th></th>\n      <th>tickers</th>\n      <th>eps</th>\n      <th>revenue</th>\n      <th>price</th>\n      <th>people</th>\n    </tr>\n  </thead>\n  <tbody>\n    <tr>\n      <th>0</th>\n      <td>GOOGL</td>\n      <td>27.82</td>\n      <td>87.0</td>\n      <td>845.0</td>\n      <td>larry page</td>\n    </tr>\n    <tr>\n      <th>1</th>\n      <td>WMT</td>\n      <td>4.61</td>\n      <td>484.0</td>\n      <td>65.0</td>\n      <td>n.a.</td>\n    </tr>\n    <tr>\n      <th>2</th>\n      <td>MSFT</td>\n      <td>-1.00</td>\n      <td>85.0</td>\n      <td>64.0</td>\n      <td>bill gates</td>\n    </tr>\n    <tr>\n      <th>3</th>\n      <td>RIL</td>\n      <td>NaN</td>\n      <td>50.0</td>\n      <td>1023.0</td>\n      <td>mukesh ambani</td>\n    </tr>\n    <tr>\n      <th>4</th>\n      <td>TATA</td>\n      <td>5.60</td>\n      <td>NaN</td>\n      <td>NaN</td>\n      <td>ratan tata</td>\n    </tr>\n  </tbody>\n</table>\n</div>"
     },
     "metadata": {},
     "execution_count": 7
    }
   ],
   "source": [
    "# With dict\n",
    "df = pd.read_csv('/home/safwan/Documents/projects/python/Data Analysis/pandas/data/stock_data.csv', na_values={\n",
    "    'eps': ['not available', 'n.a.'],\n",
    "    'revenue': ['not available', 'n.a.', '-1'],\n",
    "    'price': ['not available', 'n.a.']\n",
    "})\n",
    "df"
   ]
  },
  {
   "cell_type": "code",
   "execution_count": null,
   "metadata": {},
   "outputs": [],
   "source": [
    "# Write csv\n",
    "df.to_csv('data/new_data.csv')"
   ]
  },
  {
   "cell_type": "code",
   "execution_count": null,
   "metadata": {},
   "outputs": [],
   "source": [
    "# Remove index\n",
    "df.to_csv('data/new_data.csv', index=False)"
   ]
  },
  {
   "cell_type": "code",
   "execution_count": null,
   "metadata": {},
   "outputs": [],
   "source": [
    "# Remove Header\n",
    "df.to_csv('data/new_data.csv', header=False)"
   ]
  },
  {
   "cell_type": "code",
   "execution_count": null,
   "metadata": {},
   "outputs": [],
   "source": [
    "#Limit data to csc\n",
    "df.to_csv('data/new_data.csv', columns=['tickers','eps'],index=False)\n"
   ]
  },
  {
   "cell_type": "code",
   "execution_count": 9,
   "metadata": {},
   "outputs": [
    {
     "output_type": "execute_result",
     "data": {
      "text/plain": [
       "  tickers            eps  revenue price         people\n",
       "0   GOOGL          27.82       87   845     larry page\n",
       "1     WMT           4.61      484    65           n.a.\n",
       "2    MSFT             -1       85    64     bill gates\n",
       "3    RIL   not available       50  1023  mukesh ambani\n",
       "4    TATA            5.6       -1  n.a.     ratan tata"
      ],
      "text/html": "<div>\n<style scoped>\n    .dataframe tbody tr th:only-of-type {\n        vertical-align: middle;\n    }\n\n    .dataframe tbody tr th {\n        vertical-align: top;\n    }\n\n    .dataframe thead th {\n        text-align: right;\n    }\n</style>\n<table border=\"1\" class=\"dataframe\">\n  <thead>\n    <tr style=\"text-align: right;\">\n      <th></th>\n      <th>tickers</th>\n      <th>eps</th>\n      <th>revenue</th>\n      <th>price</th>\n      <th>people</th>\n    </tr>\n  </thead>\n  <tbody>\n    <tr>\n      <th>0</th>\n      <td>GOOGL</td>\n      <td>27.82</td>\n      <td>87</td>\n      <td>845</td>\n      <td>larry page</td>\n    </tr>\n    <tr>\n      <th>1</th>\n      <td>WMT</td>\n      <td>4.61</td>\n      <td>484</td>\n      <td>65</td>\n      <td>n.a.</td>\n    </tr>\n    <tr>\n      <th>2</th>\n      <td>MSFT</td>\n      <td>-1</td>\n      <td>85</td>\n      <td>64</td>\n      <td>bill gates</td>\n    </tr>\n    <tr>\n      <th>3</th>\n      <td>RIL</td>\n      <td>not available</td>\n      <td>50</td>\n      <td>1023</td>\n      <td>mukesh ambani</td>\n    </tr>\n    <tr>\n      <th>4</th>\n      <td>TATA</td>\n      <td>5.6</td>\n      <td>-1</td>\n      <td>n.a.</td>\n      <td>ratan tata</td>\n    </tr>\n  </tbody>\n</table>\n</div>"
     },
     "metadata": {},
     "execution_count": 9
    }
   ],
   "source": [
    "#############EXCEL####################\n",
    "# Read\n",
    "df = pd.read_excel('/home/safwan/Documents/projects/python/Data Analysis/pandas/data/stock_data.xlsx')\n",
    "df"
   ]
  },
  {
   "cell_type": "code",
   "execution_count": 10,
   "metadata": {},
   "outputs": [
    {
     "output_type": "execute_result",
     "data": {
      "text/plain": [
       "  tickers            eps  revenue  price         people\n",
       "0   GOOGL          27.82       87    845     larry page\n",
       "1     WMT           4.61      484     65           haty\n",
       "2    MSFT             -1       85     64     bill gates\n",
       "3    RIL   not available       50   1023  mukesh ambani\n",
       "4    TATA            5.6       -1     50     ratan tata"
      ],
      "text/html": "<div>\n<style scoped>\n    .dataframe tbody tr th:only-of-type {\n        vertical-align: middle;\n    }\n\n    .dataframe tbody tr th {\n        vertical-align: top;\n    }\n\n    .dataframe thead th {\n        text-align: right;\n    }\n</style>\n<table border=\"1\" class=\"dataframe\">\n  <thead>\n    <tr style=\"text-align: right;\">\n      <th></th>\n      <th>tickers</th>\n      <th>eps</th>\n      <th>revenue</th>\n      <th>price</th>\n      <th>people</th>\n    </tr>\n  </thead>\n  <tbody>\n    <tr>\n      <th>0</th>\n      <td>GOOGL</td>\n      <td>27.82</td>\n      <td>87</td>\n      <td>845</td>\n      <td>larry page</td>\n    </tr>\n    <tr>\n      <th>1</th>\n      <td>WMT</td>\n      <td>4.61</td>\n      <td>484</td>\n      <td>65</td>\n      <td>haty</td>\n    </tr>\n    <tr>\n      <th>2</th>\n      <td>MSFT</td>\n      <td>-1</td>\n      <td>85</td>\n      <td>64</td>\n      <td>bill gates</td>\n    </tr>\n    <tr>\n      <th>3</th>\n      <td>RIL</td>\n      <td>not available</td>\n      <td>50</td>\n      <td>1023</td>\n      <td>mukesh ambani</td>\n    </tr>\n    <tr>\n      <th>4</th>\n      <td>TATA</td>\n      <td>5.6</td>\n      <td>-1</td>\n      <td>50</td>\n      <td>ratan tata</td>\n    </tr>\n  </tbody>\n</table>\n</div>"
     },
     "metadata": {},
     "execution_count": 10
    }
   ],
   "source": [
    "#Convert data\n",
    "\n",
    "def people_cell_convert(cell):\n",
    "    if cell == 'n.a.':\n",
    "        return 'haty'\n",
    "    return cell\n",
    "\n",
    "def price_cell_convert(cell):\n",
    "    if cell == 'n.a.':\n",
    "        return 50\n",
    "    return cell\n",
    "\n",
    "df = pd.read_excel('/home/safwan/Documents/projects/python/Data Analysis/pandas/data/stock_data.xlsx',converters={\n",
    "    'people': people_cell_convert,\n",
    "    'price': price_cell_convert\n",
    "})\n",
    "df"
   ]
  },
  {
   "cell_type": "code",
   "execution_count": null,
   "metadata": {},
   "outputs": [],
   "source": [
    "df.to_excel('data/new_data.xlsx', sheet_name='stocks')"
   ]
  },
  {
   "cell_type": "code",
   "execution_count": null,
   "metadata": {},
   "outputs": [],
   "source": [
    "df.to_excel('data/new_data.xlsx', sheet_name='stocks',startrow=1,startcol=2)"
   ]
  },
  {
   "cell_type": "code",
   "execution_count": null,
   "metadata": {},
   "outputs": [],
   "source": [
    "# Remove index\n",
    "df.to_excel('data/new_data.xlsx', sheet_name='stocks', index=False)"
   ]
  },
  {
   "cell_type": "code",
   "execution_count": null,
   "metadata": {},
   "outputs": [],
   "source": [
    "# Write two dataframes to two separate sheets in excel\n",
    "\n",
    "df_stocks = pd.DataFrame({\n",
    "    'tickers': ['GOOGL', 'WMT', 'MSFT'],\n",
    "    'price': [845, 65, 64 ],\n",
    "    'pe': [30.37, 14.26, 30.97],\n",
    "    'eps': [27.82, 4.61, 2.12]\n",
    "})\n",
    "\n",
    "df_weather =  pd.DataFrame({\n",
    "    'day': ['1/1/2017','1/2/2017','1/3/2017'],\n",
    "    'temperature': [32,35,28],\n",
    "    'event': ['Rain', 'Sunny', 'Snow']\n",
    "})\n",
    "\n",
    "with pd.ExcelWriter('stock_weather.xlsx') as writer:\n",
    "    df_stocks.to_excel(writer, sheet_name='stocks')\n",
    "    df_weather.to_excel(writer, sheet_name='weather')"
   ]
  }
 ]
}