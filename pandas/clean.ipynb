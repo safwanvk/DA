{
 "metadata": {
  "language_info": {
   "codemirror_mode": {
    "name": "ipython",
    "version": 3
   },
   "file_extension": ".py",
   "mimetype": "text/x-python",
   "name": "python",
   "nbconvert_exporter": "python",
   "pygments_lexer": "ipython3",
   "version": "3.8.5-final"
  },
  "orig_nbformat": 2,
  "kernelspec": {
   "name": "python385jvsc74a57bd08f3acc5225abed06ffc5b305e810ea628c3b712ef69ce3c38ff3f20fb057bcd9",
   "display_name": "Python 3.8.5 64-bit ('venv')"
  },
  "metadata": {
   "interpreter": {
    "hash": "8f3acc5225abed06ffc5b305e810ea628c3b712ef69ce3c38ff3f20fb057bcd9"
   }
  }
 },
 "nbformat": 4,
 "nbformat_minor": 2,
 "cells": [
  {
   "cell_type": "code",
   "execution_count": 1,
   "metadata": {},
   "outputs": [
    {
     "output_type": "execute_result",
     "data": {
      "text/plain": [
       "         day  temperature  windspeed   event\n",
       "0   1/1/2017         32.0        6.0    Rain\n",
       "1   1/4/2017          NaN        9.0   Sunny\n",
       "2   1/5/2017         28.0        NaN    Snow\n",
       "3   1/6/2017          NaN        7.0     NaN\n",
       "4   1/7/2017         32.0        NaN    Rain\n",
       "5   1/8/2017          NaN        NaN   Sunny\n",
       "6   1/9/2017          NaN        NaN     NaN\n",
       "7  1/10/2017         34.0        8.0  Cloudy\n",
       "8  1/11/2017         40.0       12.0   Sunny"
      ],
      "text/html": "<div>\n<style scoped>\n    .dataframe tbody tr th:only-of-type {\n        vertical-align: middle;\n    }\n\n    .dataframe tbody tr th {\n        vertical-align: top;\n    }\n\n    .dataframe thead th {\n        text-align: right;\n    }\n</style>\n<table border=\"1\" class=\"dataframe\">\n  <thead>\n    <tr style=\"text-align: right;\">\n      <th></th>\n      <th>day</th>\n      <th>temperature</th>\n      <th>windspeed</th>\n      <th>event</th>\n    </tr>\n  </thead>\n  <tbody>\n    <tr>\n      <th>0</th>\n      <td>1/1/2017</td>\n      <td>32.0</td>\n      <td>6.0</td>\n      <td>Rain</td>\n    </tr>\n    <tr>\n      <th>1</th>\n      <td>1/4/2017</td>\n      <td>NaN</td>\n      <td>9.0</td>\n      <td>Sunny</td>\n    </tr>\n    <tr>\n      <th>2</th>\n      <td>1/5/2017</td>\n      <td>28.0</td>\n      <td>NaN</td>\n      <td>Snow</td>\n    </tr>\n    <tr>\n      <th>3</th>\n      <td>1/6/2017</td>\n      <td>NaN</td>\n      <td>7.0</td>\n      <td>NaN</td>\n    </tr>\n    <tr>\n      <th>4</th>\n      <td>1/7/2017</td>\n      <td>32.0</td>\n      <td>NaN</td>\n      <td>Rain</td>\n    </tr>\n    <tr>\n      <th>5</th>\n      <td>1/8/2017</td>\n      <td>NaN</td>\n      <td>NaN</td>\n      <td>Sunny</td>\n    </tr>\n    <tr>\n      <th>6</th>\n      <td>1/9/2017</td>\n      <td>NaN</td>\n      <td>NaN</td>\n      <td>NaN</td>\n    </tr>\n    <tr>\n      <th>7</th>\n      <td>1/10/2017</td>\n      <td>34.0</td>\n      <td>8.0</td>\n      <td>Cloudy</td>\n    </tr>\n    <tr>\n      <th>8</th>\n      <td>1/11/2017</td>\n      <td>40.0</td>\n      <td>12.0</td>\n      <td>Sunny</td>\n    </tr>\n  </tbody>\n</table>\n</div>"
     },
     "metadata": {},
     "execution_count": 1
    }
   ],
   "source": [
    "import pandas as pd\n",
    "\n",
    "df = pd.read_csv('/home/safwan/Documents/projects/python/Data Analysis/pandas/data/weather_data_missing.csv')\n",
    "df"
   ]
  },
  {
   "cell_type": "code",
   "execution_count": 2,
   "metadata": {},
   "outputs": [
    {
     "output_type": "execute_result",
     "data": {
      "text/plain": [
       "str"
      ]
     },
     "metadata": {},
     "execution_count": 2
    }
   ],
   "source": [
    "type(df.day[0])"
   ]
  },
  {
   "cell_type": "code",
   "execution_count": 3,
   "metadata": {},
   "outputs": [
    {
     "output_type": "execute_result",
     "data": {
      "text/plain": [
       "         day  temperature  windspeed   event\n",
       "0 2017-01-01         32.0        6.0    Rain\n",
       "1 2017-01-04          NaN        9.0   Sunny\n",
       "2 2017-01-05         28.0        NaN    Snow\n",
       "3 2017-01-06          NaN        7.0     NaN\n",
       "4 2017-01-07         32.0        NaN    Rain\n",
       "5 2017-01-08          NaN        NaN   Sunny\n",
       "6 2017-01-09          NaN        NaN     NaN\n",
       "7 2017-01-10         34.0        8.0  Cloudy\n",
       "8 2017-01-11         40.0       12.0   Sunny"
      ],
      "text/html": "<div>\n<style scoped>\n    .dataframe tbody tr th:only-of-type {\n        vertical-align: middle;\n    }\n\n    .dataframe tbody tr th {\n        vertical-align: top;\n    }\n\n    .dataframe thead th {\n        text-align: right;\n    }\n</style>\n<table border=\"1\" class=\"dataframe\">\n  <thead>\n    <tr style=\"text-align: right;\">\n      <th></th>\n      <th>day</th>\n      <th>temperature</th>\n      <th>windspeed</th>\n      <th>event</th>\n    </tr>\n  </thead>\n  <tbody>\n    <tr>\n      <th>0</th>\n      <td>2017-01-01</td>\n      <td>32.0</td>\n      <td>6.0</td>\n      <td>Rain</td>\n    </tr>\n    <tr>\n      <th>1</th>\n      <td>2017-01-04</td>\n      <td>NaN</td>\n      <td>9.0</td>\n      <td>Sunny</td>\n    </tr>\n    <tr>\n      <th>2</th>\n      <td>2017-01-05</td>\n      <td>28.0</td>\n      <td>NaN</td>\n      <td>Snow</td>\n    </tr>\n    <tr>\n      <th>3</th>\n      <td>2017-01-06</td>\n      <td>NaN</td>\n      <td>7.0</td>\n      <td>NaN</td>\n    </tr>\n    <tr>\n      <th>4</th>\n      <td>2017-01-07</td>\n      <td>32.0</td>\n      <td>NaN</td>\n      <td>Rain</td>\n    </tr>\n    <tr>\n      <th>5</th>\n      <td>2017-01-08</td>\n      <td>NaN</td>\n      <td>NaN</td>\n      <td>Sunny</td>\n    </tr>\n    <tr>\n      <th>6</th>\n      <td>2017-01-09</td>\n      <td>NaN</td>\n      <td>NaN</td>\n      <td>NaN</td>\n    </tr>\n    <tr>\n      <th>7</th>\n      <td>2017-01-10</td>\n      <td>34.0</td>\n      <td>8.0</td>\n      <td>Cloudy</td>\n    </tr>\n    <tr>\n      <th>8</th>\n      <td>2017-01-11</td>\n      <td>40.0</td>\n      <td>12.0</td>\n      <td>Sunny</td>\n    </tr>\n  </tbody>\n</table>\n</div>"
     },
     "metadata": {},
     "execution_count": 3
    }
   ],
   "source": [
    "# Convert type str into date type\n",
    "df = pd.read_csv('/home/safwan/Documents/projects/python/Data Analysis/pandas/data/weather_data_missing.csv',parse_dates=['day'])\n",
    "df"
   ]
  },
  {
   "cell_type": "code",
   "execution_count": 4,
   "metadata": {},
   "outputs": [
    {
     "output_type": "execute_result",
     "data": {
      "text/plain": [
       "pandas._libs.tslibs.timestamps.Timestamp"
      ]
     },
     "metadata": {},
     "execution_count": 4
    }
   ],
   "source": [
    "type(df.day[0])"
   ]
  },
  {
   "cell_type": "code",
   "execution_count": 5,
   "metadata": {},
   "outputs": [
    {
     "output_type": "execute_result",
     "data": {
      "text/plain": [
       "            temperature  windspeed   event\n",
       "day                                       \n",
       "2017-01-01         32.0        6.0    Rain\n",
       "2017-01-04          NaN        9.0   Sunny\n",
       "2017-01-05         28.0        NaN    Snow\n",
       "2017-01-06          NaN        7.0     NaN\n",
       "2017-01-07         32.0        NaN    Rain\n",
       "2017-01-08          NaN        NaN   Sunny\n",
       "2017-01-09          NaN        NaN     NaN\n",
       "2017-01-10         34.0        8.0  Cloudy\n",
       "2017-01-11         40.0       12.0   Sunny"
      ],
      "text/html": "<div>\n<style scoped>\n    .dataframe tbody tr th:only-of-type {\n        vertical-align: middle;\n    }\n\n    .dataframe tbody tr th {\n        vertical-align: top;\n    }\n\n    .dataframe thead th {\n        text-align: right;\n    }\n</style>\n<table border=\"1\" class=\"dataframe\">\n  <thead>\n    <tr style=\"text-align: right;\">\n      <th></th>\n      <th>temperature</th>\n      <th>windspeed</th>\n      <th>event</th>\n    </tr>\n    <tr>\n      <th>day</th>\n      <th></th>\n      <th></th>\n      <th></th>\n    </tr>\n  </thead>\n  <tbody>\n    <tr>\n      <th>2017-01-01</th>\n      <td>32.0</td>\n      <td>6.0</td>\n      <td>Rain</td>\n    </tr>\n    <tr>\n      <th>2017-01-04</th>\n      <td>NaN</td>\n      <td>9.0</td>\n      <td>Sunny</td>\n    </tr>\n    <tr>\n      <th>2017-01-05</th>\n      <td>28.0</td>\n      <td>NaN</td>\n      <td>Snow</td>\n    </tr>\n    <tr>\n      <th>2017-01-06</th>\n      <td>NaN</td>\n      <td>7.0</td>\n      <td>NaN</td>\n    </tr>\n    <tr>\n      <th>2017-01-07</th>\n      <td>32.0</td>\n      <td>NaN</td>\n      <td>Rain</td>\n    </tr>\n    <tr>\n      <th>2017-01-08</th>\n      <td>NaN</td>\n      <td>NaN</td>\n      <td>Sunny</td>\n    </tr>\n    <tr>\n      <th>2017-01-09</th>\n      <td>NaN</td>\n      <td>NaN</td>\n      <td>NaN</td>\n    </tr>\n    <tr>\n      <th>2017-01-10</th>\n      <td>34.0</td>\n      <td>8.0</td>\n      <td>Cloudy</td>\n    </tr>\n    <tr>\n      <th>2017-01-11</th>\n      <td>40.0</td>\n      <td>12.0</td>\n      <td>Sunny</td>\n    </tr>\n  </tbody>\n</table>\n</div>"
     },
     "metadata": {},
     "execution_count": 5
    }
   ],
   "source": [
    "# Set index date value\n",
    "df.set_index('day',inplace=True)\n",
    "df"
   ]
  },
  {
   "cell_type": "code",
   "execution_count": 6,
   "metadata": {},
   "outputs": [
    {
     "output_type": "execute_result",
     "data": {
      "text/plain": [
       "            temperature  windspeed   event\n",
       "day                                       \n",
       "2017-01-01         32.0        6.0    Rain\n",
       "2017-01-04          0.0        9.0   Sunny\n",
       "2017-01-05         28.0        0.0    Snow\n",
       "2017-01-06          0.0        7.0       0\n",
       "2017-01-07         32.0        0.0    Rain\n",
       "2017-01-08          0.0        0.0   Sunny\n",
       "2017-01-09          0.0        0.0       0\n",
       "2017-01-10         34.0        8.0  Cloudy\n",
       "2017-01-11         40.0       12.0   Sunny"
      ],
      "text/html": "<div>\n<style scoped>\n    .dataframe tbody tr th:only-of-type {\n        vertical-align: middle;\n    }\n\n    .dataframe tbody tr th {\n        vertical-align: top;\n    }\n\n    .dataframe thead th {\n        text-align: right;\n    }\n</style>\n<table border=\"1\" class=\"dataframe\">\n  <thead>\n    <tr style=\"text-align: right;\">\n      <th></th>\n      <th>temperature</th>\n      <th>windspeed</th>\n      <th>event</th>\n    </tr>\n    <tr>\n      <th>day</th>\n      <th></th>\n      <th></th>\n      <th></th>\n    </tr>\n  </thead>\n  <tbody>\n    <tr>\n      <th>2017-01-01</th>\n      <td>32.0</td>\n      <td>6.0</td>\n      <td>Rain</td>\n    </tr>\n    <tr>\n      <th>2017-01-04</th>\n      <td>0.0</td>\n      <td>9.0</td>\n      <td>Sunny</td>\n    </tr>\n    <tr>\n      <th>2017-01-05</th>\n      <td>28.0</td>\n      <td>0.0</td>\n      <td>Snow</td>\n    </tr>\n    <tr>\n      <th>2017-01-06</th>\n      <td>0.0</td>\n      <td>7.0</td>\n      <td>0</td>\n    </tr>\n    <tr>\n      <th>2017-01-07</th>\n      <td>32.0</td>\n      <td>0.0</td>\n      <td>Rain</td>\n    </tr>\n    <tr>\n      <th>2017-01-08</th>\n      <td>0.0</td>\n      <td>0.0</td>\n      <td>Sunny</td>\n    </tr>\n    <tr>\n      <th>2017-01-09</th>\n      <td>0.0</td>\n      <td>0.0</td>\n      <td>0</td>\n    </tr>\n    <tr>\n      <th>2017-01-10</th>\n      <td>34.0</td>\n      <td>8.0</td>\n      <td>Cloudy</td>\n    </tr>\n    <tr>\n      <th>2017-01-11</th>\n      <td>40.0</td>\n      <td>12.0</td>\n      <td>Sunny</td>\n    </tr>\n  </tbody>\n</table>\n</div>"
     },
     "metadata": {},
     "execution_count": 6
    }
   ],
   "source": [
    "# Handling Missinf data\n",
    "\n",
    "# fillna()\n",
    "\n",
    "new_df = df.fillna(0)\n",
    "new_df"
   ]
  },
  {
   "cell_type": "code",
   "execution_count": 7,
   "metadata": {},
   "outputs": [
    {
     "output_type": "execute_result",
     "data": {
      "text/plain": [
       "            temperature  windspeed     event\n",
       "day                                         \n",
       "2017-01-01         32.0        6.0      Rain\n",
       "2017-01-04          0.0        9.0     Sunny\n",
       "2017-01-05         28.0        0.0      Snow\n",
       "2017-01-06          0.0        7.0  no event\n",
       "2017-01-07         32.0        0.0      Rain\n",
       "2017-01-08          0.0        0.0     Sunny\n",
       "2017-01-09          0.0        0.0  no event\n",
       "2017-01-10         34.0        8.0    Cloudy\n",
       "2017-01-11         40.0       12.0     Sunny"
      ],
      "text/html": "<div>\n<style scoped>\n    .dataframe tbody tr th:only-of-type {\n        vertical-align: middle;\n    }\n\n    .dataframe tbody tr th {\n        vertical-align: top;\n    }\n\n    .dataframe thead th {\n        text-align: right;\n    }\n</style>\n<table border=\"1\" class=\"dataframe\">\n  <thead>\n    <tr style=\"text-align: right;\">\n      <th></th>\n      <th>temperature</th>\n      <th>windspeed</th>\n      <th>event</th>\n    </tr>\n    <tr>\n      <th>day</th>\n      <th></th>\n      <th></th>\n      <th></th>\n    </tr>\n  </thead>\n  <tbody>\n    <tr>\n      <th>2017-01-01</th>\n      <td>32.0</td>\n      <td>6.0</td>\n      <td>Rain</td>\n    </tr>\n    <tr>\n      <th>2017-01-04</th>\n      <td>0.0</td>\n      <td>9.0</td>\n      <td>Sunny</td>\n    </tr>\n    <tr>\n      <th>2017-01-05</th>\n      <td>28.0</td>\n      <td>0.0</td>\n      <td>Snow</td>\n    </tr>\n    <tr>\n      <th>2017-01-06</th>\n      <td>0.0</td>\n      <td>7.0</td>\n      <td>no event</td>\n    </tr>\n    <tr>\n      <th>2017-01-07</th>\n      <td>32.0</td>\n      <td>0.0</td>\n      <td>Rain</td>\n    </tr>\n    <tr>\n      <th>2017-01-08</th>\n      <td>0.0</td>\n      <td>0.0</td>\n      <td>Sunny</td>\n    </tr>\n    <tr>\n      <th>2017-01-09</th>\n      <td>0.0</td>\n      <td>0.0</td>\n      <td>no event</td>\n    </tr>\n    <tr>\n      <th>2017-01-10</th>\n      <td>34.0</td>\n      <td>8.0</td>\n      <td>Cloudy</td>\n    </tr>\n    <tr>\n      <th>2017-01-11</th>\n      <td>40.0</td>\n      <td>12.0</td>\n      <td>Sunny</td>\n    </tr>\n  </tbody>\n</table>\n</div>"
     },
     "metadata": {},
     "execution_count": 7
    }
   ],
   "source": [
    "new_df = df.fillna({\n",
    "    'temperature': 0,\n",
    "    'windspeed': 0,\n",
    "    'event': 'no event'\n",
    "})\n",
    "new_df"
   ]
  },
  {
   "cell_type": "code",
   "execution_count": 8,
   "metadata": {},
   "outputs": [
    {
     "output_type": "execute_result",
     "data": {
      "text/plain": [
       "            temperature  windspeed   event\n",
       "day                                       \n",
       "2017-01-01         32.0        6.0    Rain\n",
       "2017-01-04         32.0        9.0   Sunny\n",
       "2017-01-05         28.0        9.0    Snow\n",
       "2017-01-06         28.0        7.0    Snow\n",
       "2017-01-07         32.0        7.0    Rain\n",
       "2017-01-08         32.0        7.0   Sunny\n",
       "2017-01-09         32.0        7.0   Sunny\n",
       "2017-01-10         34.0        8.0  Cloudy\n",
       "2017-01-11         40.0       12.0   Sunny"
      ],
      "text/html": "<div>\n<style scoped>\n    .dataframe tbody tr th:only-of-type {\n        vertical-align: middle;\n    }\n\n    .dataframe tbody tr th {\n        vertical-align: top;\n    }\n\n    .dataframe thead th {\n        text-align: right;\n    }\n</style>\n<table border=\"1\" class=\"dataframe\">\n  <thead>\n    <tr style=\"text-align: right;\">\n      <th></th>\n      <th>temperature</th>\n      <th>windspeed</th>\n      <th>event</th>\n    </tr>\n    <tr>\n      <th>day</th>\n      <th></th>\n      <th></th>\n      <th></th>\n    </tr>\n  </thead>\n  <tbody>\n    <tr>\n      <th>2017-01-01</th>\n      <td>32.0</td>\n      <td>6.0</td>\n      <td>Rain</td>\n    </tr>\n    <tr>\n      <th>2017-01-04</th>\n      <td>32.0</td>\n      <td>9.0</td>\n      <td>Sunny</td>\n    </tr>\n    <tr>\n      <th>2017-01-05</th>\n      <td>28.0</td>\n      <td>9.0</td>\n      <td>Snow</td>\n    </tr>\n    <tr>\n      <th>2017-01-06</th>\n      <td>28.0</td>\n      <td>7.0</td>\n      <td>Snow</td>\n    </tr>\n    <tr>\n      <th>2017-01-07</th>\n      <td>32.0</td>\n      <td>7.0</td>\n      <td>Rain</td>\n    </tr>\n    <tr>\n      <th>2017-01-08</th>\n      <td>32.0</td>\n      <td>7.0</td>\n      <td>Sunny</td>\n    </tr>\n    <tr>\n      <th>2017-01-09</th>\n      <td>32.0</td>\n      <td>7.0</td>\n      <td>Sunny</td>\n    </tr>\n    <tr>\n      <th>2017-01-10</th>\n      <td>34.0</td>\n      <td>8.0</td>\n      <td>Cloudy</td>\n    </tr>\n    <tr>\n      <th>2017-01-11</th>\n      <td>40.0</td>\n      <td>12.0</td>\n      <td>Sunny</td>\n    </tr>\n  </tbody>\n</table>\n</div>"
     },
     "metadata": {},
     "execution_count": 8
    }
   ],
   "source": [
    "# carry forward the previous value\n",
    "# method=ffill\n",
    "new_df = df.fillna(method='ffill')\n",
    "new_df"
   ]
  },
  {
   "cell_type": "code",
   "execution_count": 9,
   "metadata": {},
   "outputs": [
    {
     "output_type": "execute_result",
     "data": {
      "text/plain": [
       "            temperature  windspeed   event\n",
       "day                                       \n",
       "2017-01-01         32.0        6.0    Rain\n",
       "2017-01-04         28.0        9.0   Sunny\n",
       "2017-01-05         28.0        7.0    Snow\n",
       "2017-01-06         32.0        7.0    Rain\n",
       "2017-01-07         32.0        8.0    Rain\n",
       "2017-01-08         34.0        8.0   Sunny\n",
       "2017-01-09         34.0        8.0  Cloudy\n",
       "2017-01-10         34.0        8.0  Cloudy\n",
       "2017-01-11         40.0       12.0   Sunny"
      ],
      "text/html": "<div>\n<style scoped>\n    .dataframe tbody tr th:only-of-type {\n        vertical-align: middle;\n    }\n\n    .dataframe tbody tr th {\n        vertical-align: top;\n    }\n\n    .dataframe thead th {\n        text-align: right;\n    }\n</style>\n<table border=\"1\" class=\"dataframe\">\n  <thead>\n    <tr style=\"text-align: right;\">\n      <th></th>\n      <th>temperature</th>\n      <th>windspeed</th>\n      <th>event</th>\n    </tr>\n    <tr>\n      <th>day</th>\n      <th></th>\n      <th></th>\n      <th></th>\n    </tr>\n  </thead>\n  <tbody>\n    <tr>\n      <th>2017-01-01</th>\n      <td>32.0</td>\n      <td>6.0</td>\n      <td>Rain</td>\n    </tr>\n    <tr>\n      <th>2017-01-04</th>\n      <td>28.0</td>\n      <td>9.0</td>\n      <td>Sunny</td>\n    </tr>\n    <tr>\n      <th>2017-01-05</th>\n      <td>28.0</td>\n      <td>7.0</td>\n      <td>Snow</td>\n    </tr>\n    <tr>\n      <th>2017-01-06</th>\n      <td>32.0</td>\n      <td>7.0</td>\n      <td>Rain</td>\n    </tr>\n    <tr>\n      <th>2017-01-07</th>\n      <td>32.0</td>\n      <td>8.0</td>\n      <td>Rain</td>\n    </tr>\n    <tr>\n      <th>2017-01-08</th>\n      <td>34.0</td>\n      <td>8.0</td>\n      <td>Sunny</td>\n    </tr>\n    <tr>\n      <th>2017-01-09</th>\n      <td>34.0</td>\n      <td>8.0</td>\n      <td>Cloudy</td>\n    </tr>\n    <tr>\n      <th>2017-01-10</th>\n      <td>34.0</td>\n      <td>8.0</td>\n      <td>Cloudy</td>\n    </tr>\n    <tr>\n      <th>2017-01-11</th>\n      <td>40.0</td>\n      <td>12.0</td>\n      <td>Sunny</td>\n    </tr>\n  </tbody>\n</table>\n</div>"
     },
     "metadata": {},
     "execution_count": 9
    }
   ],
   "source": [
    "# carry forward the next value\n",
    "# method=bfill\n",
    "new_df = df.fillna(method='bfill')\n",
    "new_df"
   ]
  },
  {
   "cell_type": "code",
   "execution_count": 10,
   "metadata": {},
   "outputs": [
    {
     "output_type": "execute_result",
     "data": {
      "text/plain": [
       "            temperature  windspeed   event\n",
       "day                                       \n",
       "2017-01-01         32.0        6.0    Rain\n",
       "2017-01-04         28.0        9.0   Sunny\n",
       "2017-01-05         28.0        7.0    Snow\n",
       "2017-01-06         32.0        7.0    Rain\n",
       "2017-01-07         32.0        8.0    Rain\n",
       "2017-01-08         34.0        8.0   Sunny\n",
       "2017-01-09         34.0        8.0  Cloudy\n",
       "2017-01-10         34.0        8.0  Cloudy\n",
       "2017-01-11         40.0       12.0   Sunny"
      ],
      "text/html": "<div>\n<style scoped>\n    .dataframe tbody tr th:only-of-type {\n        vertical-align: middle;\n    }\n\n    .dataframe tbody tr th {\n        vertical-align: top;\n    }\n\n    .dataframe thead th {\n        text-align: right;\n    }\n</style>\n<table border=\"1\" class=\"dataframe\">\n  <thead>\n    <tr style=\"text-align: right;\">\n      <th></th>\n      <th>temperature</th>\n      <th>windspeed</th>\n      <th>event</th>\n    </tr>\n    <tr>\n      <th>day</th>\n      <th></th>\n      <th></th>\n      <th></th>\n    </tr>\n  </thead>\n  <tbody>\n    <tr>\n      <th>2017-01-01</th>\n      <td>32.0</td>\n      <td>6.0</td>\n      <td>Rain</td>\n    </tr>\n    <tr>\n      <th>2017-01-04</th>\n      <td>28.0</td>\n      <td>9.0</td>\n      <td>Sunny</td>\n    </tr>\n    <tr>\n      <th>2017-01-05</th>\n      <td>28.0</td>\n      <td>7.0</td>\n      <td>Snow</td>\n    </tr>\n    <tr>\n      <th>2017-01-06</th>\n      <td>32.0</td>\n      <td>7.0</td>\n      <td>Rain</td>\n    </tr>\n    <tr>\n      <th>2017-01-07</th>\n      <td>32.0</td>\n      <td>8.0</td>\n      <td>Rain</td>\n    </tr>\n    <tr>\n      <th>2017-01-08</th>\n      <td>34.0</td>\n      <td>8.0</td>\n      <td>Sunny</td>\n    </tr>\n    <tr>\n      <th>2017-01-09</th>\n      <td>34.0</td>\n      <td>8.0</td>\n      <td>Cloudy</td>\n    </tr>\n    <tr>\n      <th>2017-01-10</th>\n      <td>34.0</td>\n      <td>8.0</td>\n      <td>Cloudy</td>\n    </tr>\n    <tr>\n      <th>2017-01-11</th>\n      <td>40.0</td>\n      <td>12.0</td>\n      <td>Sunny</td>\n    </tr>\n  </tbody>\n</table>\n</div>"
     },
     "metadata": {},
     "execution_count": 10
    }
   ],
   "source": [
    "# with index and column\n",
    "# axis=0 or 'index' and axis=1 or 'columns\n",
    "new_df = df.fillna(method='bfill', axis='index')\n",
    "new_df"
   ]
  },
  {
   "cell_type": "code",
   "execution_count": 11,
   "metadata": {},
   "outputs": [
    {
     "output_type": "execute_result",
     "data": {
      "text/plain": [
       "           temperature windspeed   event\n",
       "day                                     \n",
       "2017-01-01        32.0       6.0    Rain\n",
       "2017-01-04         9.0       9.0   Sunny\n",
       "2017-01-05        28.0      Snow    Snow\n",
       "2017-01-06         7.0       7.0     NaN\n",
       "2017-01-07        32.0      Rain    Rain\n",
       "2017-01-08       Sunny     Sunny   Sunny\n",
       "2017-01-09         NaN       NaN     NaN\n",
       "2017-01-10        34.0       8.0  Cloudy\n",
       "2017-01-11        40.0      12.0   Sunny"
      ],
      "text/html": "<div>\n<style scoped>\n    .dataframe tbody tr th:only-of-type {\n        vertical-align: middle;\n    }\n\n    .dataframe tbody tr th {\n        vertical-align: top;\n    }\n\n    .dataframe thead th {\n        text-align: right;\n    }\n</style>\n<table border=\"1\" class=\"dataframe\">\n  <thead>\n    <tr style=\"text-align: right;\">\n      <th></th>\n      <th>temperature</th>\n      <th>windspeed</th>\n      <th>event</th>\n    </tr>\n    <tr>\n      <th>day</th>\n      <th></th>\n      <th></th>\n      <th></th>\n    </tr>\n  </thead>\n  <tbody>\n    <tr>\n      <th>2017-01-01</th>\n      <td>32.0</td>\n      <td>6.0</td>\n      <td>Rain</td>\n    </tr>\n    <tr>\n      <th>2017-01-04</th>\n      <td>9.0</td>\n      <td>9.0</td>\n      <td>Sunny</td>\n    </tr>\n    <tr>\n      <th>2017-01-05</th>\n      <td>28.0</td>\n      <td>Snow</td>\n      <td>Snow</td>\n    </tr>\n    <tr>\n      <th>2017-01-06</th>\n      <td>7.0</td>\n      <td>7.0</td>\n      <td>NaN</td>\n    </tr>\n    <tr>\n      <th>2017-01-07</th>\n      <td>32.0</td>\n      <td>Rain</td>\n      <td>Rain</td>\n    </tr>\n    <tr>\n      <th>2017-01-08</th>\n      <td>Sunny</td>\n      <td>Sunny</td>\n      <td>Sunny</td>\n    </tr>\n    <tr>\n      <th>2017-01-09</th>\n      <td>NaN</td>\n      <td>NaN</td>\n      <td>NaN</td>\n    </tr>\n    <tr>\n      <th>2017-01-10</th>\n      <td>34.0</td>\n      <td>8.0</td>\n      <td>Cloudy</td>\n    </tr>\n    <tr>\n      <th>2017-01-11</th>\n      <td>40.0</td>\n      <td>12.0</td>\n      <td>Sunny</td>\n    </tr>\n  </tbody>\n</table>\n</div>"
     },
     "metadata": {},
     "execution_count": 11
    }
   ],
   "source": [
    "new_df = df.fillna(method='bfill', axis='columns')\n",
    "new_df"
   ]
  },
  {
   "cell_type": "code",
   "execution_count": 12,
   "metadata": {},
   "outputs": [
    {
     "output_type": "execute_result",
     "data": {
      "text/plain": [
       "            temperature  windspeed   event\n",
       "day                                       \n",
       "2017-01-01         32.0        6.0    Rain\n",
       "2017-01-04         32.0        9.0   Sunny\n",
       "2017-01-05         28.0        9.0    Snow\n",
       "2017-01-06         28.0        7.0    Snow\n",
       "2017-01-07         32.0        7.0    Rain\n",
       "2017-01-08         32.0        NaN   Sunny\n",
       "2017-01-09          NaN        NaN   Sunny\n",
       "2017-01-10         34.0        8.0  Cloudy\n",
       "2017-01-11         40.0       12.0   Sunny"
      ],
      "text/html": "<div>\n<style scoped>\n    .dataframe tbody tr th:only-of-type {\n        vertical-align: middle;\n    }\n\n    .dataframe tbody tr th {\n        vertical-align: top;\n    }\n\n    .dataframe thead th {\n        text-align: right;\n    }\n</style>\n<table border=\"1\" class=\"dataframe\">\n  <thead>\n    <tr style=\"text-align: right;\">\n      <th></th>\n      <th>temperature</th>\n      <th>windspeed</th>\n      <th>event</th>\n    </tr>\n    <tr>\n      <th>day</th>\n      <th></th>\n      <th></th>\n      <th></th>\n    </tr>\n  </thead>\n  <tbody>\n    <tr>\n      <th>2017-01-01</th>\n      <td>32.0</td>\n      <td>6.0</td>\n      <td>Rain</td>\n    </tr>\n    <tr>\n      <th>2017-01-04</th>\n      <td>32.0</td>\n      <td>9.0</td>\n      <td>Sunny</td>\n    </tr>\n    <tr>\n      <th>2017-01-05</th>\n      <td>28.0</td>\n      <td>9.0</td>\n      <td>Snow</td>\n    </tr>\n    <tr>\n      <th>2017-01-06</th>\n      <td>28.0</td>\n      <td>7.0</td>\n      <td>Snow</td>\n    </tr>\n    <tr>\n      <th>2017-01-07</th>\n      <td>32.0</td>\n      <td>7.0</td>\n      <td>Rain</td>\n    </tr>\n    <tr>\n      <th>2017-01-08</th>\n      <td>32.0</td>\n      <td>NaN</td>\n      <td>Sunny</td>\n    </tr>\n    <tr>\n      <th>2017-01-09</th>\n      <td>NaN</td>\n      <td>NaN</td>\n      <td>Sunny</td>\n    </tr>\n    <tr>\n      <th>2017-01-10</th>\n      <td>34.0</td>\n      <td>8.0</td>\n      <td>Cloudy</td>\n    </tr>\n    <tr>\n      <th>2017-01-11</th>\n      <td>40.0</td>\n      <td>12.0</td>\n      <td>Sunny</td>\n    </tr>\n  </tbody>\n</table>\n</div>"
     },
     "metadata": {},
     "execution_count": 12
    }
   ],
   "source": [
    "# limit to fill data\n",
    "new_df = df.fillna(method='ffill', limit=1)\n",
    "new_df"
   ]
  },
  {
   "cell_type": "code",
   "execution_count": 13,
   "metadata": {},
   "outputs": [
    {
     "output_type": "execute_result",
     "data": {
      "text/plain": [
       "            temperature  windspeed   event\n",
       "day                                       \n",
       "2017-01-01    32.000000       6.00    Rain\n",
       "2017-01-04    30.000000       9.00   Sunny\n",
       "2017-01-05    28.000000       8.00    Snow\n",
       "2017-01-06    30.000000       7.00     NaN\n",
       "2017-01-07    32.000000       7.25    Rain\n",
       "2017-01-08    32.666667       7.50   Sunny\n",
       "2017-01-09    33.333333       7.75     NaN\n",
       "2017-01-10    34.000000       8.00  Cloudy\n",
       "2017-01-11    40.000000      12.00   Sunny"
      ],
      "text/html": "<div>\n<style scoped>\n    .dataframe tbody tr th:only-of-type {\n        vertical-align: middle;\n    }\n\n    .dataframe tbody tr th {\n        vertical-align: top;\n    }\n\n    .dataframe thead th {\n        text-align: right;\n    }\n</style>\n<table border=\"1\" class=\"dataframe\">\n  <thead>\n    <tr style=\"text-align: right;\">\n      <th></th>\n      <th>temperature</th>\n      <th>windspeed</th>\n      <th>event</th>\n    </tr>\n    <tr>\n      <th>day</th>\n      <th></th>\n      <th></th>\n      <th></th>\n    </tr>\n  </thead>\n  <tbody>\n    <tr>\n      <th>2017-01-01</th>\n      <td>32.000000</td>\n      <td>6.00</td>\n      <td>Rain</td>\n    </tr>\n    <tr>\n      <th>2017-01-04</th>\n      <td>30.000000</td>\n      <td>9.00</td>\n      <td>Sunny</td>\n    </tr>\n    <tr>\n      <th>2017-01-05</th>\n      <td>28.000000</td>\n      <td>8.00</td>\n      <td>Snow</td>\n    </tr>\n    <tr>\n      <th>2017-01-06</th>\n      <td>30.000000</td>\n      <td>7.00</td>\n      <td>NaN</td>\n    </tr>\n    <tr>\n      <th>2017-01-07</th>\n      <td>32.000000</td>\n      <td>7.25</td>\n      <td>Rain</td>\n    </tr>\n    <tr>\n      <th>2017-01-08</th>\n      <td>32.666667</td>\n      <td>7.50</td>\n      <td>Sunny</td>\n    </tr>\n    <tr>\n      <th>2017-01-09</th>\n      <td>33.333333</td>\n      <td>7.75</td>\n      <td>NaN</td>\n    </tr>\n    <tr>\n      <th>2017-01-10</th>\n      <td>34.000000</td>\n      <td>8.00</td>\n      <td>Cloudy</td>\n    </tr>\n    <tr>\n      <th>2017-01-11</th>\n      <td>40.000000</td>\n      <td>12.00</td>\n      <td>Sunny</td>\n    </tr>\n  </tbody>\n</table>\n</div>"
     },
     "metadata": {},
     "execution_count": 13
    }
   ],
   "source": [
    "# interpolation\n",
    "# interpolate()\n",
    "# default linear. other quadratic,cubic\n",
    "new_df = df.interpolate()\n",
    "new_df"
   ]
  },
  {
   "cell_type": "code",
   "execution_count": 14,
   "metadata": {},
   "outputs": [
    {
     "output_type": "execute_result",
     "data": {
      "text/plain": [
       "            temperature  windspeed   event\n",
       "day                                       \n",
       "2017-01-01    32.000000       6.00    Rain\n",
       "2017-01-04    29.000000       9.00   Sunny\n",
       "2017-01-05    28.000000       8.00    Snow\n",
       "2017-01-06    30.000000       7.00     NaN\n",
       "2017-01-07    32.000000       7.25    Rain\n",
       "2017-01-08    32.666667       7.50   Sunny\n",
       "2017-01-09    33.333333       7.75     NaN\n",
       "2017-01-10    34.000000       8.00  Cloudy\n",
       "2017-01-11    40.000000      12.00   Sunny"
      ],
      "text/html": "<div>\n<style scoped>\n    .dataframe tbody tr th:only-of-type {\n        vertical-align: middle;\n    }\n\n    .dataframe tbody tr th {\n        vertical-align: top;\n    }\n\n    .dataframe thead th {\n        text-align: right;\n    }\n</style>\n<table border=\"1\" class=\"dataframe\">\n  <thead>\n    <tr style=\"text-align: right;\">\n      <th></th>\n      <th>temperature</th>\n      <th>windspeed</th>\n      <th>event</th>\n    </tr>\n    <tr>\n      <th>day</th>\n      <th></th>\n      <th></th>\n      <th></th>\n    </tr>\n  </thead>\n  <tbody>\n    <tr>\n      <th>2017-01-01</th>\n      <td>32.000000</td>\n      <td>6.00</td>\n      <td>Rain</td>\n    </tr>\n    <tr>\n      <th>2017-01-04</th>\n      <td>29.000000</td>\n      <td>9.00</td>\n      <td>Sunny</td>\n    </tr>\n    <tr>\n      <th>2017-01-05</th>\n      <td>28.000000</td>\n      <td>8.00</td>\n      <td>Snow</td>\n    </tr>\n    <tr>\n      <th>2017-01-06</th>\n      <td>30.000000</td>\n      <td>7.00</td>\n      <td>NaN</td>\n    </tr>\n    <tr>\n      <th>2017-01-07</th>\n      <td>32.000000</td>\n      <td>7.25</td>\n      <td>Rain</td>\n    </tr>\n    <tr>\n      <th>2017-01-08</th>\n      <td>32.666667</td>\n      <td>7.50</td>\n      <td>Sunny</td>\n    </tr>\n    <tr>\n      <th>2017-01-09</th>\n      <td>33.333333</td>\n      <td>7.75</td>\n      <td>NaN</td>\n    </tr>\n    <tr>\n      <th>2017-01-10</th>\n      <td>34.000000</td>\n      <td>8.00</td>\n      <td>Cloudy</td>\n    </tr>\n    <tr>\n      <th>2017-01-11</th>\n      <td>40.000000</td>\n      <td>12.00</td>\n      <td>Sunny</td>\n    </tr>\n  </tbody>\n</table>\n</div>"
     },
     "metadata": {},
     "execution_count": 14
    }
   ],
   "source": [
    "# Consider fill data with time\n",
    "new_df = df.interpolate(method='time')\n",
    "new_df"
   ]
  },
  {
   "cell_type": "code",
   "execution_count": 15,
   "metadata": {},
   "outputs": [
    {
     "output_type": "execute_result",
     "data": {
      "text/plain": [
       "            temperature  windspeed   event\n",
       "day                                       \n",
       "2017-01-01         32.0        6.0    Rain\n",
       "2017-01-10         34.0        8.0  Cloudy\n",
       "2017-01-11         40.0       12.0   Sunny"
      ],
      "text/html": "<div>\n<style scoped>\n    .dataframe tbody tr th:only-of-type {\n        vertical-align: middle;\n    }\n\n    .dataframe tbody tr th {\n        vertical-align: top;\n    }\n\n    .dataframe thead th {\n        text-align: right;\n    }\n</style>\n<table border=\"1\" class=\"dataframe\">\n  <thead>\n    <tr style=\"text-align: right;\">\n      <th></th>\n      <th>temperature</th>\n      <th>windspeed</th>\n      <th>event</th>\n    </tr>\n    <tr>\n      <th>day</th>\n      <th></th>\n      <th></th>\n      <th></th>\n    </tr>\n  </thead>\n  <tbody>\n    <tr>\n      <th>2017-01-01</th>\n      <td>32.0</td>\n      <td>6.0</td>\n      <td>Rain</td>\n    </tr>\n    <tr>\n      <th>2017-01-10</th>\n      <td>34.0</td>\n      <td>8.0</td>\n      <td>Cloudy</td>\n    </tr>\n    <tr>\n      <th>2017-01-11</th>\n      <td>40.0</td>\n      <td>12.0</td>\n      <td>Sunny</td>\n    </tr>\n  </tbody>\n</table>\n</div>"
     },
     "metadata": {},
     "execution_count": 15
    }
   ],
   "source": [
    "# Drop all the rows which has \"na\" in dataframe\n",
    "# dropna()\n",
    "new_df = df.dropna()\n",
    "new_df"
   ]
  },
  {
   "cell_type": "code",
   "execution_count": 16,
   "metadata": {},
   "outputs": [
    {
     "output_type": "execute_result",
     "data": {
      "text/plain": [
       "            temperature  windspeed   event\n",
       "day                                       \n",
       "2017-01-01         32.0        6.0    Rain\n",
       "2017-01-04          NaN        9.0   Sunny\n",
       "2017-01-05         28.0        NaN    Snow\n",
       "2017-01-06          NaN        7.0     NaN\n",
       "2017-01-07         32.0        NaN    Rain\n",
       "2017-01-08          NaN        NaN   Sunny\n",
       "2017-01-10         34.0        8.0  Cloudy\n",
       "2017-01-11         40.0       12.0   Sunny"
      ],
      "text/html": "<div>\n<style scoped>\n    .dataframe tbody tr th:only-of-type {\n        vertical-align: middle;\n    }\n\n    .dataframe tbody tr th {\n        vertical-align: top;\n    }\n\n    .dataframe thead th {\n        text-align: right;\n    }\n</style>\n<table border=\"1\" class=\"dataframe\">\n  <thead>\n    <tr style=\"text-align: right;\">\n      <th></th>\n      <th>temperature</th>\n      <th>windspeed</th>\n      <th>event</th>\n    </tr>\n    <tr>\n      <th>day</th>\n      <th></th>\n      <th></th>\n      <th></th>\n    </tr>\n  </thead>\n  <tbody>\n    <tr>\n      <th>2017-01-01</th>\n      <td>32.0</td>\n      <td>6.0</td>\n      <td>Rain</td>\n    </tr>\n    <tr>\n      <th>2017-01-04</th>\n      <td>NaN</td>\n      <td>9.0</td>\n      <td>Sunny</td>\n    </tr>\n    <tr>\n      <th>2017-01-05</th>\n      <td>28.0</td>\n      <td>NaN</td>\n      <td>Snow</td>\n    </tr>\n    <tr>\n      <th>2017-01-06</th>\n      <td>NaN</td>\n      <td>7.0</td>\n      <td>NaN</td>\n    </tr>\n    <tr>\n      <th>2017-01-07</th>\n      <td>32.0</td>\n      <td>NaN</td>\n      <td>Rain</td>\n    </tr>\n    <tr>\n      <th>2017-01-08</th>\n      <td>NaN</td>\n      <td>NaN</td>\n      <td>Sunny</td>\n    </tr>\n    <tr>\n      <th>2017-01-10</th>\n      <td>34.0</td>\n      <td>8.0</td>\n      <td>Cloudy</td>\n    </tr>\n    <tr>\n      <th>2017-01-11</th>\n      <td>40.0</td>\n      <td>12.0</td>\n      <td>Sunny</td>\n    </tr>\n  </tbody>\n</table>\n</div>"
     },
     "metadata": {},
     "execution_count": 16
    }
   ],
   "source": [
    "# Drop column as all cell na\n",
    "# how \n",
    "# all and any\n",
    "new_df = df.dropna(how='all')\n",
    "new_df"
   ]
  },
  {
   "cell_type": "code",
   "execution_count": 17,
   "metadata": {},
   "outputs": [
    {
     "output_type": "execute_result",
     "data": {
      "text/plain": [
       "            temperature  windspeed   event\n",
       "day                                       \n",
       "2017-01-01         32.0        6.0    Rain\n",
       "2017-01-04          NaN        9.0   Sunny\n",
       "2017-01-05         28.0        NaN    Snow\n",
       "2017-01-06          NaN        7.0     NaN\n",
       "2017-01-07         32.0        NaN    Rain\n",
       "2017-01-08          NaN        NaN   Sunny\n",
       "2017-01-10         34.0        8.0  Cloudy\n",
       "2017-01-11         40.0       12.0   Sunny"
      ],
      "text/html": "<div>\n<style scoped>\n    .dataframe tbody tr th:only-of-type {\n        vertical-align: middle;\n    }\n\n    .dataframe tbody tr th {\n        vertical-align: top;\n    }\n\n    .dataframe thead th {\n        text-align: right;\n    }\n</style>\n<table border=\"1\" class=\"dataframe\">\n  <thead>\n    <tr style=\"text-align: right;\">\n      <th></th>\n      <th>temperature</th>\n      <th>windspeed</th>\n      <th>event</th>\n    </tr>\n    <tr>\n      <th>day</th>\n      <th></th>\n      <th></th>\n      <th></th>\n    </tr>\n  </thead>\n  <tbody>\n    <tr>\n      <th>2017-01-01</th>\n      <td>32.0</td>\n      <td>6.0</td>\n      <td>Rain</td>\n    </tr>\n    <tr>\n      <th>2017-01-04</th>\n      <td>NaN</td>\n      <td>9.0</td>\n      <td>Sunny</td>\n    </tr>\n    <tr>\n      <th>2017-01-05</th>\n      <td>28.0</td>\n      <td>NaN</td>\n      <td>Snow</td>\n    </tr>\n    <tr>\n      <th>2017-01-06</th>\n      <td>NaN</td>\n      <td>7.0</td>\n      <td>NaN</td>\n    </tr>\n    <tr>\n      <th>2017-01-07</th>\n      <td>32.0</td>\n      <td>NaN</td>\n      <td>Rain</td>\n    </tr>\n    <tr>\n      <th>2017-01-08</th>\n      <td>NaN</td>\n      <td>NaN</td>\n      <td>Sunny</td>\n    </tr>\n    <tr>\n      <th>2017-01-10</th>\n      <td>34.0</td>\n      <td>8.0</td>\n      <td>Cloudy</td>\n    </tr>\n    <tr>\n      <th>2017-01-11</th>\n      <td>40.0</td>\n      <td>12.0</td>\n      <td>Sunny</td>\n    </tr>\n  </tbody>\n</table>\n</div>"
     },
     "metadata": {},
     "execution_count": 17
    }
   ],
   "source": [
    "# Drop atleast one no-na value\n",
    "# thresh\n",
    "new_df = df.dropna(thresh=1)\n",
    "new_df"
   ]
  },
  {
   "cell_type": "code",
   "execution_count": 18,
   "metadata": {},
   "outputs": [
    {
     "output_type": "execute_result",
     "data": {
      "text/plain": [
       "            temperature  windspeed   event\n",
       "day                                       \n",
       "2017-01-01         32.0        6.0    Rain\n",
       "2017-01-04          NaN        9.0   Sunny\n",
       "2017-01-05         28.0        NaN    Snow\n",
       "2017-01-06          NaN        7.0     NaN\n",
       "2017-01-07         32.0        NaN    Rain\n",
       "2017-01-08          NaN        NaN   Sunny\n",
       "2017-01-09          NaN        NaN     NaN\n",
       "2017-01-10         34.0        8.0  Cloudy\n",
       "2017-01-11         40.0       12.0   Sunny"
      ],
      "text/html": "<div>\n<style scoped>\n    .dataframe tbody tr th:only-of-type {\n        vertical-align: middle;\n    }\n\n    .dataframe tbody tr th {\n        vertical-align: top;\n    }\n\n    .dataframe thead th {\n        text-align: right;\n    }\n</style>\n<table border=\"1\" class=\"dataframe\">\n  <thead>\n    <tr style=\"text-align: right;\">\n      <th></th>\n      <th>temperature</th>\n      <th>windspeed</th>\n      <th>event</th>\n    </tr>\n    <tr>\n      <th>day</th>\n      <th></th>\n      <th></th>\n      <th></th>\n    </tr>\n  </thead>\n  <tbody>\n    <tr>\n      <th>2017-01-01</th>\n      <td>32.0</td>\n      <td>6.0</td>\n      <td>Rain</td>\n    </tr>\n    <tr>\n      <th>2017-01-04</th>\n      <td>NaN</td>\n      <td>9.0</td>\n      <td>Sunny</td>\n    </tr>\n    <tr>\n      <th>2017-01-05</th>\n      <td>28.0</td>\n      <td>NaN</td>\n      <td>Snow</td>\n    </tr>\n    <tr>\n      <th>2017-01-06</th>\n      <td>NaN</td>\n      <td>7.0</td>\n      <td>NaN</td>\n    </tr>\n    <tr>\n      <th>2017-01-07</th>\n      <td>32.0</td>\n      <td>NaN</td>\n      <td>Rain</td>\n    </tr>\n    <tr>\n      <th>2017-01-08</th>\n      <td>NaN</td>\n      <td>NaN</td>\n      <td>Sunny</td>\n    </tr>\n    <tr>\n      <th>2017-01-09</th>\n      <td>NaN</td>\n      <td>NaN</td>\n      <td>NaN</td>\n    </tr>\n    <tr>\n      <th>2017-01-10</th>\n      <td>34.0</td>\n      <td>8.0</td>\n      <td>Cloudy</td>\n    </tr>\n    <tr>\n      <th>2017-01-11</th>\n      <td>40.0</td>\n      <td>12.0</td>\n      <td>Sunny</td>\n    </tr>\n  </tbody>\n</table>\n</div>"
     },
     "metadata": {},
     "execution_count": 18
    }
   ],
   "source": [
    "dt = pd.date_range(\"01-01-2017\",\"01-11-2017\")\n",
    "idx = pd.DatetimeIndex(dt)\n",
    "df.reindex(idx)\n",
    "df"
   ]
  }
 ]
}