{
 "metadata": {
  "language_info": {
   "codemirror_mode": {
    "name": "ipython",
    "version": 3
   },
   "file_extension": ".py",
   "mimetype": "text/x-python",
   "name": "python",
   "nbconvert_exporter": "python",
   "pygments_lexer": "ipython3",
   "version": "3.8.5-final"
  },
  "orig_nbformat": 2,
  "kernelspec": {
   "name": "python385jvsc74a57bd08f3acc5225abed06ffc5b305e810ea628c3b712ef69ce3c38ff3f20fb057bcd9",
   "display_name": "Python 3.8.5 64-bit ('venv')"
  },
  "metadata": {
   "interpreter": {
    "hash": "8f3acc5225abed06ffc5b305e810ea628c3b712ef69ce3c38ff3f20fb057bcd9"
   }
  }
 },
 "nbformat": 4,
 "nbformat_minor": 2,
 "cells": [
  {
   "cell_type": "code",
   "execution_count": 2,
   "metadata": {},
   "outputs": [
    {
     "output_type": "execute_result",
     "data": {
      "text/plain": [
       "       country  price\n",
       "0        india   1234\n",
       "1  maharashtra   3456"
      ],
      "text/html": "<div>\n<style scoped>\n    .dataframe tbody tr th:only-of-type {\n        vertical-align: middle;\n    }\n\n    .dataframe tbody tr th {\n        vertical-align: top;\n    }\n\n    .dataframe thead th {\n        text-align: right;\n    }\n</style>\n<table border=\"1\" class=\"dataframe\">\n  <thead>\n    <tr style=\"text-align: right;\">\n      <th></th>\n      <th>country</th>\n      <th>price</th>\n    </tr>\n  </thead>\n  <tbody>\n    <tr>\n      <th>0</th>\n      <td>india</td>\n      <td>1234</td>\n    </tr>\n    <tr>\n      <th>1</th>\n      <td>maharashtra</td>\n      <td>3456</td>\n    </tr>\n  </tbody>\n</table>\n</div>"
     },
     "metadata": {},
     "execution_count": 2
    }
   ],
   "source": [
    "import pandas as pd\n",
    "\n",
    "dict = {\n",
    "    \"country\": [\"india\", \"maharashtra\"],\n",
    "    \"price\": [1234, 3456]\n",
    "}\n",
    "\n",
    "b = pd.DataFrame(dict)\n",
    "b"
   ]
  },
  {
   "cell_type": "code",
   "execution_count": 3,
   "metadata": {},
   "outputs": [
    {
     "output_type": "execute_result",
     "data": {
      "text/plain": [
       "       country  price\n",
       "0        india   1234\n",
       "1  maharashtra   3456"
      ],
      "text/html": "<div>\n<style scoped>\n    .dataframe tbody tr th:only-of-type {\n        vertical-align: middle;\n    }\n\n    .dataframe tbody tr th {\n        vertical-align: top;\n    }\n\n    .dataframe thead th {\n        text-align: right;\n    }\n</style>\n<table border=\"1\" class=\"dataframe\">\n  <thead>\n    <tr style=\"text-align: right;\">\n      <th></th>\n      <th>country</th>\n      <th>price</th>\n    </tr>\n  </thead>\n  <tbody>\n    <tr>\n      <th>0</th>\n      <td>india</td>\n      <td>1234</td>\n    </tr>\n    <tr>\n      <th>1</th>\n      <td>maharashtra</td>\n      <td>3456</td>\n    </tr>\n  </tbody>\n</table>\n</div>"
     },
     "metadata": {},
     "execution_count": 3
    }
   ],
   "source": [
    "s = b.drop('country',axis=1)\n",
    "b"
   ]
  },
  {
   "cell_type": "code",
   "execution_count": 4,
   "metadata": {},
   "outputs": [
    {
     "output_type": "execute_result",
     "data": {
      "text/plain": [
       "    Serial Number                   Company Name  Employee Markme  \\\n",
       "0   9788189999599                 TALES OF SHIVA             Mark   \n",
       "1   9780099578079      1Q84 THE COMPLETE TRILOGY  HARUKI MURAKAMI   \n",
       "2   9780198082897                       MY KUMAN             Mark   \n",
       "3   9780007880331        THE GOD OF SMAAL THINGS    ARUNDHATI ROY   \n",
       "4   9780545060455               THE BLACK CIRCLE             Mark   \n",
       "..            ...                            ...              ...   \n",
       "94  9788184821536  MORE STORIES FROM THE JATAKAS             Mark   \n",
       "95  9788184821543           MORE TALES OF BIRBAL                -   \n",
       "96  9788184821550         TALES FROM THE JATAKAS                -   \n",
       "97  9788184821567               RAMarkS OF MEWAR                -   \n",
       "98  9788184821574       THE SONS OF THE PANDAVAS                -   \n",
       "\n",
       "           Description  Leave  \n",
       "0                 mark      0  \n",
       "1                 Mark      0  \n",
       "2                 Mark      0  \n",
       "3   4TH HARPER COLLINS      2  \n",
       "4   4TH HARPER COLLINS      0  \n",
       "..                 ...    ...  \n",
       "94                 ACK      0  \n",
       "95                 ACK      0  \n",
       "96                 ACK      0  \n",
       "97                 ACK      0  \n",
       "98                 ACK      0  \n",
       "\n",
       "[99 rows x 5 columns]"
      ],
      "text/html": "<div>\n<style scoped>\n    .dataframe tbody tr th:only-of-type {\n        vertical-align: middle;\n    }\n\n    .dataframe tbody tr th {\n        vertical-align: top;\n    }\n\n    .dataframe thead th {\n        text-align: right;\n    }\n</style>\n<table border=\"1\" class=\"dataframe\">\n  <thead>\n    <tr style=\"text-align: right;\">\n      <th></th>\n      <th>Serial Number</th>\n      <th>Company Name</th>\n      <th>Employee Markme</th>\n      <th>Description</th>\n      <th>Leave</th>\n    </tr>\n  </thead>\n  <tbody>\n    <tr>\n      <th>0</th>\n      <td>9788189999599</td>\n      <td>TALES OF SHIVA</td>\n      <td>Mark</td>\n      <td>mark</td>\n      <td>0</td>\n    </tr>\n    <tr>\n      <th>1</th>\n      <td>9780099578079</td>\n      <td>1Q84 THE COMPLETE TRILOGY</td>\n      <td>HARUKI MURAKAMI</td>\n      <td>Mark</td>\n      <td>0</td>\n    </tr>\n    <tr>\n      <th>2</th>\n      <td>9780198082897</td>\n      <td>MY KUMAN</td>\n      <td>Mark</td>\n      <td>Mark</td>\n      <td>0</td>\n    </tr>\n    <tr>\n      <th>3</th>\n      <td>9780007880331</td>\n      <td>THE GOD OF SMAAL THINGS</td>\n      <td>ARUNDHATI ROY</td>\n      <td>4TH HARPER COLLINS</td>\n      <td>2</td>\n    </tr>\n    <tr>\n      <th>4</th>\n      <td>9780545060455</td>\n      <td>THE BLACK CIRCLE</td>\n      <td>Mark</td>\n      <td>4TH HARPER COLLINS</td>\n      <td>0</td>\n    </tr>\n    <tr>\n      <th>...</th>\n      <td>...</td>\n      <td>...</td>\n      <td>...</td>\n      <td>...</td>\n      <td>...</td>\n    </tr>\n    <tr>\n      <th>94</th>\n      <td>9788184821536</td>\n      <td>MORE STORIES FROM THE JATAKAS</td>\n      <td>Mark</td>\n      <td>ACK</td>\n      <td>0</td>\n    </tr>\n    <tr>\n      <th>95</th>\n      <td>9788184821543</td>\n      <td>MORE TALES OF BIRBAL</td>\n      <td>-</td>\n      <td>ACK</td>\n      <td>0</td>\n    </tr>\n    <tr>\n      <th>96</th>\n      <td>9788184821550</td>\n      <td>TALES FROM THE JATAKAS</td>\n      <td>-</td>\n      <td>ACK</td>\n      <td>0</td>\n    </tr>\n    <tr>\n      <th>97</th>\n      <td>9788184821567</td>\n      <td>RAMarkS OF MEWAR</td>\n      <td>-</td>\n      <td>ACK</td>\n      <td>0</td>\n    </tr>\n    <tr>\n      <th>98</th>\n      <td>9788184821574</td>\n      <td>THE SONS OF THE PANDAVAS</td>\n      <td>-</td>\n      <td>ACK</td>\n      <td>0</td>\n    </tr>\n  </tbody>\n</table>\n<p>99 rows × 5 columns</p>\n</div>"
     },
     "metadata": {},
     "execution_count": 4
    }
   ],
   "source": [
    "data = pd.read_csv('/home/safwan/Documents/projects/python/Data Analysis/pandas/data/Sample100.csv')\n",
    "data"
   ]
  },
  {
   "cell_type": "code",
   "execution_count": 5,
   "metadata": {},
   "outputs": [
    {
     "output_type": "execute_result",
     "data": {
      "text/plain": [
       "0     9788189999599\n",
       "1     9780099578079\n",
       "2     9780198082897\n",
       "3     9780007880331\n",
       "4     9780545060455\n",
       "          ...      \n",
       "94    9788184821536\n",
       "95    9788184821543\n",
       "96    9788184821550\n",
       "97    9788184821567\n",
       "98    9788184821574\n",
       "Name: Serial Number, Length: 99, dtype: int64"
      ]
     },
     "metadata": {},
     "execution_count": 5
    }
   ],
   "source": [
    "# Indexing\n",
    "\n",
    "# Pandas Series\n",
    "data['Serial Number']"
   ]
  },
  {
   "cell_type": "code",
   "execution_count": 7,
   "metadata": {},
   "outputs": [
    {
     "output_type": "execute_result",
     "data": {
      "text/plain": [
       "    Serial Number\n",
       "0   9788189999599\n",
       "1   9780099578079\n",
       "2   9780198082897\n",
       "3   9780007880331\n",
       "4   9780545060455\n",
       "..            ...\n",
       "94  9788184821536\n",
       "95  9788184821543\n",
       "96  9788184821550\n",
       "97  9788184821567\n",
       "98  9788184821574\n",
       "\n",
       "[99 rows x 1 columns]"
      ],
      "text/html": "<div>\n<style scoped>\n    .dataframe tbody tr th:only-of-type {\n        vertical-align: middle;\n    }\n\n    .dataframe tbody tr th {\n        vertical-align: top;\n    }\n\n    .dataframe thead th {\n        text-align: right;\n    }\n</style>\n<table border=\"1\" class=\"dataframe\">\n  <thead>\n    <tr style=\"text-align: right;\">\n      <th></th>\n      <th>Serial Number</th>\n    </tr>\n  </thead>\n  <tbody>\n    <tr>\n      <th>0</th>\n      <td>9788189999599</td>\n    </tr>\n    <tr>\n      <th>1</th>\n      <td>9780099578079</td>\n    </tr>\n    <tr>\n      <th>2</th>\n      <td>9780198082897</td>\n    </tr>\n    <tr>\n      <th>3</th>\n      <td>9780007880331</td>\n    </tr>\n    <tr>\n      <th>4</th>\n      <td>9780545060455</td>\n    </tr>\n    <tr>\n      <th>...</th>\n      <td>...</td>\n    </tr>\n    <tr>\n      <th>94</th>\n      <td>9788184821536</td>\n    </tr>\n    <tr>\n      <th>95</th>\n      <td>9788184821543</td>\n    </tr>\n    <tr>\n      <th>96</th>\n      <td>9788184821550</td>\n    </tr>\n    <tr>\n      <th>97</th>\n      <td>9788184821567</td>\n    </tr>\n    <tr>\n      <th>98</th>\n      <td>9788184821574</td>\n    </tr>\n  </tbody>\n</table>\n<p>99 rows × 1 columns</p>\n</div>"
     },
     "metadata": {},
     "execution_count": 7
    }
   ],
   "source": [
    "# Pandas DataFrame\n",
    "data[['Serial Number']]"
   ]
  },
  {
   "cell_type": "code",
   "execution_count": 8,
   "metadata": {},
   "outputs": [
    {
     "output_type": "execute_result",
     "data": {
      "text/plain": [
       "   Serial Number               Company Name  Employee Markme Description  \\\n",
       "0  9788189999599             TALES OF SHIVA             Mark        mark   \n",
       "1  9780099578079  1Q84 THE COMPLETE TRILOGY  HARUKI MURAKAMI        Mark   \n",
       "2  9780198082897                   MY KUMAN             Mark        Mark   \n",
       "\n",
       "   Leave  \n",
       "0      0  \n",
       "1      0  \n",
       "2      0  "
      ],
      "text/html": "<div>\n<style scoped>\n    .dataframe tbody tr th:only-of-type {\n        vertical-align: middle;\n    }\n\n    .dataframe tbody tr th {\n        vertical-align: top;\n    }\n\n    .dataframe thead th {\n        text-align: right;\n    }\n</style>\n<table border=\"1\" class=\"dataframe\">\n  <thead>\n    <tr style=\"text-align: right;\">\n      <th></th>\n      <th>Serial Number</th>\n      <th>Company Name</th>\n      <th>Employee Markme</th>\n      <th>Description</th>\n      <th>Leave</th>\n    </tr>\n  </thead>\n  <tbody>\n    <tr>\n      <th>0</th>\n      <td>9788189999599</td>\n      <td>TALES OF SHIVA</td>\n      <td>Mark</td>\n      <td>mark</td>\n      <td>0</td>\n    </tr>\n    <tr>\n      <th>1</th>\n      <td>9780099578079</td>\n      <td>1Q84 THE COMPLETE TRILOGY</td>\n      <td>HARUKI MURAKAMI</td>\n      <td>Mark</td>\n      <td>0</td>\n    </tr>\n    <tr>\n      <th>2</th>\n      <td>9780198082897</td>\n      <td>MY KUMAN</td>\n      <td>Mark</td>\n      <td>Mark</td>\n      <td>0</td>\n    </tr>\n  </tbody>\n</table>\n</div>"
     },
     "metadata": {},
     "execution_count": 8
    }
   ],
   "source": [
    "# access rows\n",
    "data[0:3]"
   ]
  },
  {
   "cell_type": "code",
   "execution_count": 10,
   "metadata": {},
   "outputs": [
    {
     "output_type": "execute_result",
     "data": {
      "text/plain": [
       "Serial Number      9780198082897\n",
       "Company Name            MY KUMAN\n",
       "Employee Markme             Mark\n",
       "Description                 Mark\n",
       "Leave                          0\n",
       "Name: 2, dtype: object"
      ]
     },
     "metadata": {},
     "execution_count": 10
    }
   ],
   "source": [
    "data.iloc[2]"
   ]
  },
  {
   "cell_type": "code",
   "execution_count": 11,
   "metadata": {},
   "outputs": [
    {
     "output_type": "execute_result",
     "data": {
      "text/plain": [
       "       country  price\n",
       "A        india   1234\n",
       "B  maharashtra   3456"
      ],
      "text/html": "<div>\n<style scoped>\n    .dataframe tbody tr th:only-of-type {\n        vertical-align: middle;\n    }\n\n    .dataframe tbody tr th {\n        vertical-align: top;\n    }\n\n    .dataframe thead th {\n        text-align: right;\n    }\n</style>\n<table border=\"1\" class=\"dataframe\">\n  <thead>\n    <tr style=\"text-align: right;\">\n      <th></th>\n      <th>country</th>\n      <th>price</th>\n    </tr>\n  </thead>\n  <tbody>\n    <tr>\n      <th>A</th>\n      <td>india</td>\n      <td>1234</td>\n    </tr>\n    <tr>\n      <th>B</th>\n      <td>maharashtra</td>\n      <td>3456</td>\n    </tr>\n  </tbody>\n</table>\n</div>"
     },
     "metadata": {},
     "execution_count": 11
    }
   ],
   "source": [
    "b.index = [\"A\", \"B\"]\n",
    "b.loc[['A', 'B']]"
   ]
  },
  {
   "cell_type": "code",
   "execution_count": 12,
   "metadata": {},
   "outputs": [
    {
     "output_type": "execute_result",
     "data": {
      "text/plain": [
       "Index(['Serial Number', 'Company Name', 'Employee Markme', 'Description',\n",
       "       'Leave'],\n",
       "      dtype='object')"
      ]
     },
     "metadata": {},
     "execution_count": 12
    }
   ],
   "source": [
    "data.columns"
   ]
  },
  {
   "cell_type": "code",
   "execution_count": 14,
   "metadata": {},
   "outputs": [
    {
     "output_type": "execute_result",
     "data": {
      "text/plain": [
       "               SN                   Company Name  Employee Markme  \\\n",
       "0   9788189999599                 TALES OF SHIVA             Mark   \n",
       "1   9780099578079      1Q84 THE COMPLETE TRILOGY  HARUKI MURAKAMI   \n",
       "2   9780198082897                       MY KUMAN             Mark   \n",
       "3   9780007880331        THE GOD OF SMAAL THINGS    ARUNDHATI ROY   \n",
       "4   9780545060455               THE BLACK CIRCLE             Mark   \n",
       "..            ...                            ...              ...   \n",
       "94  9788184821536  MORE STORIES FROM THE JATAKAS             Mark   \n",
       "95  9788184821543           MORE TALES OF BIRBAL                -   \n",
       "96  9788184821550         TALES FROM THE JATAKAS                -   \n",
       "97  9788184821567               RAMarkS OF MEWAR                -   \n",
       "98  9788184821574       THE SONS OF THE PANDAVAS                -   \n",
       "\n",
       "           Description  Leave  \n",
       "0                 mark      0  \n",
       "1                 Mark      0  \n",
       "2                 Mark      0  \n",
       "3   4TH HARPER COLLINS      2  \n",
       "4   4TH HARPER COLLINS      0  \n",
       "..                 ...    ...  \n",
       "94                 ACK      0  \n",
       "95                 ACK      0  \n",
       "96                 ACK      0  \n",
       "97                 ACK      0  \n",
       "98                 ACK      0  \n",
       "\n",
       "[99 rows x 5 columns]"
      ],
      "text/html": "<div>\n<style scoped>\n    .dataframe tbody tr th:only-of-type {\n        vertical-align: middle;\n    }\n\n    .dataframe tbody tr th {\n        vertical-align: top;\n    }\n\n    .dataframe thead th {\n        text-align: right;\n    }\n</style>\n<table border=\"1\" class=\"dataframe\">\n  <thead>\n    <tr style=\"text-align: right;\">\n      <th></th>\n      <th>SN</th>\n      <th>Company Name</th>\n      <th>Employee Markme</th>\n      <th>Description</th>\n      <th>Leave</th>\n    </tr>\n  </thead>\n  <tbody>\n    <tr>\n      <th>0</th>\n      <td>9788189999599</td>\n      <td>TALES OF SHIVA</td>\n      <td>Mark</td>\n      <td>mark</td>\n      <td>0</td>\n    </tr>\n    <tr>\n      <th>1</th>\n      <td>9780099578079</td>\n      <td>1Q84 THE COMPLETE TRILOGY</td>\n      <td>HARUKI MURAKAMI</td>\n      <td>Mark</td>\n      <td>0</td>\n    </tr>\n    <tr>\n      <th>2</th>\n      <td>9780198082897</td>\n      <td>MY KUMAN</td>\n      <td>Mark</td>\n      <td>Mark</td>\n      <td>0</td>\n    </tr>\n    <tr>\n      <th>3</th>\n      <td>9780007880331</td>\n      <td>THE GOD OF SMAAL THINGS</td>\n      <td>ARUNDHATI ROY</td>\n      <td>4TH HARPER COLLINS</td>\n      <td>2</td>\n    </tr>\n    <tr>\n      <th>4</th>\n      <td>9780545060455</td>\n      <td>THE BLACK CIRCLE</td>\n      <td>Mark</td>\n      <td>4TH HARPER COLLINS</td>\n      <td>0</td>\n    </tr>\n    <tr>\n      <th>...</th>\n      <td>...</td>\n      <td>...</td>\n      <td>...</td>\n      <td>...</td>\n      <td>...</td>\n    </tr>\n    <tr>\n      <th>94</th>\n      <td>9788184821536</td>\n      <td>MORE STORIES FROM THE JATAKAS</td>\n      <td>Mark</td>\n      <td>ACK</td>\n      <td>0</td>\n    </tr>\n    <tr>\n      <th>95</th>\n      <td>9788184821543</td>\n      <td>MORE TALES OF BIRBAL</td>\n      <td>-</td>\n      <td>ACK</td>\n      <td>0</td>\n    </tr>\n    <tr>\n      <th>96</th>\n      <td>9788184821550</td>\n      <td>TALES FROM THE JATAKAS</td>\n      <td>-</td>\n      <td>ACK</td>\n      <td>0</td>\n    </tr>\n    <tr>\n      <th>97</th>\n      <td>9788184821567</td>\n      <td>RAMarkS OF MEWAR</td>\n      <td>-</td>\n      <td>ACK</td>\n      <td>0</td>\n    </tr>\n    <tr>\n      <th>98</th>\n      <td>9788184821574</td>\n      <td>THE SONS OF THE PANDAVAS</td>\n      <td>-</td>\n      <td>ACK</td>\n      <td>0</td>\n    </tr>\n  </tbody>\n</table>\n<p>99 rows × 5 columns</p>\n</div>"
     },
     "metadata": {},
     "execution_count": 14
    }
   ],
   "source": [
    "data.rename(columns = {'Serial Number': 'SN'}, inplace=True)\n",
    "data"
   ]
  },
  {
   "cell_type": "code",
   "execution_count": 15,
   "metadata": {},
   "outputs": [
    {
     "output_type": "execute_result",
     "data": {
      "text/plain": [
       "SN                 0\n",
       "Company Name       0\n",
       "Employee Markme    2\n",
       "Description        0\n",
       "Leave              0\n",
       "dtype: int64"
      ]
     },
     "metadata": {},
     "execution_count": 15
    }
   ],
   "source": [
    "data.isnull().sum()"
   ]
  },
  {
   "cell_type": "code",
   "execution_count": 19,
   "metadata": {},
   "outputs": [
    {
     "output_type": "execute_result",
     "data": {
      "text/plain": [
       "SN                 0\n",
       "Company Name       0\n",
       "Employee Markme    0\n",
       "Description        0\n",
       "Leave              0\n",
       "dtype: int64"
      ]
     },
     "metadata": {},
     "execution_count": 19
    }
   ],
   "source": [
    "data = data.dropna(how='any', axis=0)\n",
    "data.isnull().sum()"
   ]
  },
  {
   "cell_type": "code",
   "execution_count": 20,
   "metadata": {},
   "outputs": [
    {
     "output_type": "execute_result",
     "data": {
      "text/plain": [
       "               SN                   Company Name  Employee Markme  \\\n",
       "0   9788189999599                 TALES OF SHIVA             Mark   \n",
       "1   9780099578079      1Q84 THE COMPLETE TRILOGY  HARUKI MURAKAMI   \n",
       "2   9780198082897                       MY KUMAN             Mark   \n",
       "3   9780007880331        THE GOD OF SMAAL THINGS    ARUNDHATI ROY   \n",
       "4   9780545060455               THE BLACK CIRCLE             Mark   \n",
       "..            ...                            ...              ...   \n",
       "94  9788184821536  MORE STORIES FROM THE JATAKAS             Mark   \n",
       "95  9788184821543           MORE TALES OF BIRBAL                -   \n",
       "96  9788184821550         TALES FROM THE JATAKAS                -   \n",
       "97  9788184821567               RAMarkS OF MEWAR                -   \n",
       "98  9788184821574       THE SONS OF THE PANDAVAS                -   \n",
       "\n",
       "           Description  Leave  \n",
       "0                 mark      0  \n",
       "1                 Mark      0  \n",
       "2                 Mark      0  \n",
       "3   4TH HARPER COLLINS      2  \n",
       "4   4TH HARPER COLLINS      0  \n",
       "..                 ...    ...  \n",
       "94                 ACK      0  \n",
       "95                 ACK      0  \n",
       "96                 ACK      0  \n",
       "97                 ACK      0  \n",
       "98                 ACK      0  \n",
       "\n",
       "[97 rows x 5 columns]"
      ],
      "text/html": "<div>\n<style scoped>\n    .dataframe tbody tr th:only-of-type {\n        vertical-align: middle;\n    }\n\n    .dataframe tbody tr th {\n        vertical-align: top;\n    }\n\n    .dataframe thead th {\n        text-align: right;\n    }\n</style>\n<table border=\"1\" class=\"dataframe\">\n  <thead>\n    <tr style=\"text-align: right;\">\n      <th></th>\n      <th>SN</th>\n      <th>Company Name</th>\n      <th>Employee Markme</th>\n      <th>Description</th>\n      <th>Leave</th>\n    </tr>\n  </thead>\n  <tbody>\n    <tr>\n      <th>0</th>\n      <td>9788189999599</td>\n      <td>TALES OF SHIVA</td>\n      <td>Mark</td>\n      <td>mark</td>\n      <td>0</td>\n    </tr>\n    <tr>\n      <th>1</th>\n      <td>9780099578079</td>\n      <td>1Q84 THE COMPLETE TRILOGY</td>\n      <td>HARUKI MURAKAMI</td>\n      <td>Mark</td>\n      <td>0</td>\n    </tr>\n    <tr>\n      <th>2</th>\n      <td>9780198082897</td>\n      <td>MY KUMAN</td>\n      <td>Mark</td>\n      <td>Mark</td>\n      <td>0</td>\n    </tr>\n    <tr>\n      <th>3</th>\n      <td>9780007880331</td>\n      <td>THE GOD OF SMAAL THINGS</td>\n      <td>ARUNDHATI ROY</td>\n      <td>4TH HARPER COLLINS</td>\n      <td>2</td>\n    </tr>\n    <tr>\n      <th>4</th>\n      <td>9780545060455</td>\n      <td>THE BLACK CIRCLE</td>\n      <td>Mark</td>\n      <td>4TH HARPER COLLINS</td>\n      <td>0</td>\n    </tr>\n    <tr>\n      <th>...</th>\n      <td>...</td>\n      <td>...</td>\n      <td>...</td>\n      <td>...</td>\n      <td>...</td>\n    </tr>\n    <tr>\n      <th>94</th>\n      <td>9788184821536</td>\n      <td>MORE STORIES FROM THE JATAKAS</td>\n      <td>Mark</td>\n      <td>ACK</td>\n      <td>0</td>\n    </tr>\n    <tr>\n      <th>95</th>\n      <td>9788184821543</td>\n      <td>MORE TALES OF BIRBAL</td>\n      <td>-</td>\n      <td>ACK</td>\n      <td>0</td>\n    </tr>\n    <tr>\n      <th>96</th>\n      <td>9788184821550</td>\n      <td>TALES FROM THE JATAKAS</td>\n      <td>-</td>\n      <td>ACK</td>\n      <td>0</td>\n    </tr>\n    <tr>\n      <th>97</th>\n      <td>9788184821567</td>\n      <td>RAMarkS OF MEWAR</td>\n      <td>-</td>\n      <td>ACK</td>\n      <td>0</td>\n    </tr>\n    <tr>\n      <th>98</th>\n      <td>9788184821574</td>\n      <td>THE SONS OF THE PANDAVAS</td>\n      <td>-</td>\n      <td>ACK</td>\n      <td>0</td>\n    </tr>\n  </tbody>\n</table>\n<p>97 rows × 5 columns</p>\n</div>"
     },
     "metadata": {},
     "execution_count": 20
    }
   ],
   "source": [
    "data = data.drop(data.head(0).index)\n",
    "data"
   ]
  },
  {
   "cell_type": "code",
   "execution_count": 21,
   "metadata": {},
   "outputs": [
    {
     "output_type": "execute_result",
     "data": {
      "text/plain": [
       "<bound method NDFrame.head of                SN                   Company Name  Employee Markme  \\\n",
       "0   9788189999599                 TALES OF SHIVA             Mark   \n",
       "1   9780099578079      1Q84 THE COMPLETE TRILOGY  HARUKI MURAKAMI   \n",
       "2   9780198082897                       MY KUMAN             Mark   \n",
       "3   9780007880331        THE GOD OF SMAAL THINGS    ARUNDHATI ROY   \n",
       "4   9780545060455               THE BLACK CIRCLE             Mark   \n",
       "..            ...                            ...              ...   \n",
       "94  9788184821536  MORE STORIES FROM THE JATAKAS             Mark   \n",
       "95  9788184821543           MORE TALES OF BIRBAL                -   \n",
       "96  9788184821550         TALES FROM THE JATAKAS                -   \n",
       "97  9788184821567               RAMarkS OF MEWAR                -   \n",
       "98  9788184821574       THE SONS OF THE PANDAVAS                -   \n",
       "\n",
       "           Description  Leave  \n",
       "0                 mark      0  \n",
       "1                 Mark      0  \n",
       "2                 Mark      0  \n",
       "3   4TH HARPER COLLINS      2  \n",
       "4   4TH HARPER COLLINS      0  \n",
       "..                 ...    ...  \n",
       "94                 ACK      0  \n",
       "95                 ACK      0  \n",
       "96                 ACK      0  \n",
       "97                 ACK      0  \n",
       "98                 ACK      0  \n",
       "\n",
       "[97 rows x 5 columns]>"
      ]
     },
     "metadata": {},
     "execution_count": 21
    }
   ],
   "source": [
    "data.head\n"
   ]
  },
  {
   "cell_type": "code",
   "execution_count": 22,
   "metadata": {},
   "outputs": [
    {
     "output_type": "execute_result",
     "data": {
      "text/plain": [
       "<bound method NDFrame.head of                SN                   Company Name  Employee Markme  \\\n",
       "1   9780099578079      1Q84 THE COMPLETE TRILOGY  HARUKI MURAKAMI   \n",
       "2   9780198082897                       MY KUMAN             Mark   \n",
       "3   9780007880331        THE GOD OF SMAAL THINGS    ARUNDHATI ROY   \n",
       "4   9780545060455               THE BLACK CIRCLE             Mark   \n",
       "5   9788126525072  THE THREE LAWS OF PERFORMANCE             Mark   \n",
       "..            ...                            ...              ...   \n",
       "94  9788184821536  MORE STORIES FROM THE JATAKAS             Mark   \n",
       "95  9788184821543           MORE TALES OF BIRBAL                -   \n",
       "96  9788184821550         TALES FROM THE JATAKAS                -   \n",
       "97  9788184821567               RAMarkS OF MEWAR                -   \n",
       "98  9788184821574       THE SONS OF THE PANDAVAS                -   \n",
       "\n",
       "           Description  Leave  \n",
       "1                 Mark      0  \n",
       "2                 Mark      0  \n",
       "3   4TH HARPER COLLINS      2  \n",
       "4   4TH HARPER COLLINS      0  \n",
       "5   4TH HARPER COLLINS      0  \n",
       "..                 ...    ...  \n",
       "94                 ACK      0  \n",
       "95                 ACK      0  \n",
       "96                 ACK      0  \n",
       "97                 ACK      0  \n",
       "98                 ACK      0  \n",
       "\n",
       "[96 rows x 5 columns]>"
      ]
     },
     "metadata": {},
     "execution_count": 22
    }
   ],
   "source": [
    "data = data.drop(data.index[[0]])\n",
    "data.head"
   ]
  },
  {
   "cell_type": "code",
   "execution_count": 23,
   "metadata": {},
   "outputs": [
    {
     "output_type": "execute_result",
     "data": {
      "text/plain": [
       "<bound method NDFrame.head of                SN                   Company Name  Employee Markme  \\\n",
       "1   9780099578079      1Q84 THE COMPLETE TRILOGY  HARUKI MURAKAMI   \n",
       "2   9780198082897                       MY KUMAN                M   \n",
       "3   9780007880331        THE GOD OF SMAAL THINGS    ARUNDHATI ROY   \n",
       "4   9780545060455               THE BLACK CIRCLE                M   \n",
       "5   9788126525072  THE THREE LAWS OF PERFORMANCE                M   \n",
       "..            ...                            ...              ...   \n",
       "94  9788184821536  MORE STORIES FROM THE JATAKAS                M   \n",
       "95  9788184821543           MORE TALES OF BIRBAL                -   \n",
       "96  9788184821550         TALES FROM THE JATAKAS                -   \n",
       "97  9788184821567               RAMarkS OF MEWAR                -   \n",
       "98  9788184821574       THE SONS OF THE PANDAVAS                -   \n",
       "\n",
       "           Description  Leave  \n",
       "1                 Mark      0  \n",
       "2                 Mark      0  \n",
       "3   4TH HARPER COLLINS      2  \n",
       "4   4TH HARPER COLLINS      0  \n",
       "5   4TH HARPER COLLINS      0  \n",
       "..                 ...    ...  \n",
       "94                 ACK      0  \n",
       "95                 ACK      0  \n",
       "96                 ACK      0  \n",
       "97                 ACK      0  \n",
       "98                 ACK      0  \n",
       "\n",
       "[96 rows x 5 columns]>"
      ]
     },
     "metadata": {},
     "execution_count": 23
    }
   ],
   "source": [
    "data['Employee Markme'] = data['Employee Markme'].replace(['Mark'], 'M')\n",
    "data.head"
   ]
  },
  {
   "cell_type": "code",
   "execution_count": 24,
   "metadata": {},
   "outputs": [],
   "source": [
    "# data.filna('0', isplace=True)\n",
    "# fill o into null value"
   ]
  }
 ]
}