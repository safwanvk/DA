{
 "metadata": {
  "language_info": {
   "codemirror_mode": {
    "name": "ipython",
    "version": 3
   },
   "file_extension": ".py",
   "mimetype": "text/x-python",
   "name": "python",
   "nbconvert_exporter": "python",
   "pygments_lexer": "ipython3",
   "version": "3.8.5-final"
  },
  "orig_nbformat": 2,
  "kernelspec": {
   "name": "python385jvsc74a57bd08f3acc5225abed06ffc5b305e810ea628c3b712ef69ce3c38ff3f20fb057bcd9",
   "display_name": "Python 3.8.5 64-bit ('venv')"
  },
  "metadata": {
   "interpreter": {
    "hash": "8f3acc5225abed06ffc5b305e810ea628c3b712ef69ce3c38ff3f20fb057bcd9"
   }
  }
 },
 "nbformat": 4,
 "nbformat_minor": 2,
 "cells": [
  {
   "cell_type": "code",
   "execution_count": 5,
   "metadata": {},
   "outputs": [],
   "source": [
    "import pandas as pandas\n",
    "import requests\n",
    "from bs4 import BeautifulSoup"
   ]
  },
  {
   "cell_type": "code",
   "execution_count": 19,
   "metadata": {},
   "outputs": [],
   "source": [
    "url = 'https://islamqa.info/en/answers/1/interruption-of-wudhu'"
   ]
  },
  {
   "cell_type": "code",
   "execution_count": 7,
   "metadata": {},
   "outputs": [
    {
     "output_type": "execute_result",
     "data": {
      "text/plain": [
       "<Response [200]>"
      ]
     },
     "metadata": {},
     "execution_count": 7
    }
   ],
   "source": [
    "page = requests.get(url)\n",
    "page"
   ]
  },
  {
   "cell_type": "code",
   "execution_count": 20,
   "metadata": {},
   "outputs": [
    {
     "output_type": "execute_result",
     "data": {
      "text/plain": [
       "an account\",\"submit_reset\":\"Reset\",\"back-to-login\":\"Log in again\",\"ask-to-register\":\"Create new account\",\"ask-to-login\":\"Log in\"},\"labels\":{\"email\":\"Email\",\"password\":\"Password\",\"username\":\"User name\"}},\"en.intro\":{\"skip\":\"Skip\",\"next\":\"Next\",\"previous\":\"Back\",\"done\":\"End\",\"home\":{\"step-1-not-user\":\"Register an Islamqa account. Once logged in, access account features here.\",\"step-1-is-user\":\"Access your account features via these links\",\"step-2-is-user\":\"The red dot indicates new notifications in your account.\",\"step-2\":\"Open languages bar from this button.\",\"step-4\":\"Once registered and logged in, click the bookmark icon to keep in your saved items.\"},\"single\":{\"step-1\":\"Tools to save, print and share answers.\",\"step-2\":\"Enhance your reading experience\",\"step-3\":\"Add comment\",\"step-4\":\"Related Answers\"},\"topics\":{\"step-1\":\"Switch between 3 types of categories: general, selected events & focus topics and most important.\",\"step-2\":\"View parent categories, expand all or filter alphabetically.\",\"step-3\":\"Click the arrow to expand the category tree or click the title to visit the category directly.\"},\"profile\":{\"step-1\":\"Explore the site and click bookmark icon on any answer to keep it in your saved items.\",\"step-2\":\"Add items from saved to a custom list to group related saved items.\",\"step-3\":\"Explore categories and click follow to see updates from followed topics in this section.\",\"step-4\":\"Once you have submitted a question, track progress or view answered questions here.\",\"step-5\":\"Send new questions using this section.\",\"step-6\":\"Track your comments and any replies to your comments from the site administration.\",\"step-7\":\"Complete your profile details before asking a question to assist us to support your specific needs.\",\"step-8\":\"Change your account email, link social logins and update your account password here.\",\"saved\":{\"step-1\":\"Explore the site and click bookmark icon on any answer to keep it in your saved items.\",\"step-2\":\"Once saved you can add items to lists via this icon.\"},\"lists\":{\"step-1\":\"Add items from saved to a custom list to group related saved items.\",\"step-2\":\"Create a new list using this button.\"},\"single_list\":{\"step-1\":\"Re-arrange items in your list using the drag and drop icon.\",\"step-2\":\"Add notes to your list using this button.\",\"step-3\":\"Share your list with others via social media, email or link.\",\"step-4\":\"Download your list items as a pdf.\"},\"my_topics\":{\"step-1\":\"Follow categories by clicking the follow button in the single category page\"}}},\"en.validation\":{\"accepted\":\"The :attribute must be accepted.\",\"active_url\":\"The :attribute is not a valid URL.\",\"after\":\"The :attribute must be a date after :date.\",\"alpha\":\"The :attribute may only contain letters.\",\"alpha_dash\":\"The :attribute may only contain letters, numbers, and dashes.\",\"alpha_num\":\"The :attribute may only contain letters and numbers.\",\"array\":\"The :attribute must be an array.\",\"before\":\"The :attribute must be a date before :date.\",\"between\":{\"numeric\":\"The :attribute must be between :min and :max.\",\"file\":\"The :attribute must be between :min and :max kilobytes.\",\"string\":\"The :attribute must be between :min and :max characters.\",\"array\":\"The :attribute must have between :min and :max items.\"},\"boolean\":\"The :attribute field must be true or false.\",\"confirmed\":\"The :attribute confirmation does not match.\",\"date\":\"The :attribute is not a valid date.\",\"date_format\":\"The :attribute does not match the format :format.\",\"different\":\"The :attribute and :other must be different.\",\"digits\":\"The :attribute must be :digits digits.\",\"digits_between\":\"The :attribute must be between :min and :max digits.\",\"email\":\"The :attribute must be a valid email address.\",\"exists\":\"The selected :attribute is invalid.\",\"filled\":\"The :attribute field is required.\",\"image\":\"The :attribute must be an image.\",\"in\":\"The selected :attribute is invalid.\",\"integer\":\"The :attribute must be an integer.\",\"ip\":\"The :attribute must be a valid IP address.\",\"json\":\"The :attribute must be a valid JSON string.\",\"max\":{\"numeric\":\"The :attribute may not be greater than :max.\",\"file\":\"The :attribute may not be greater than :max kilobytes.\",\"string\":\"The :attribute may not be greater than :max characters.\",\"array\":\"The :attribute may not have more than :max items.\"},\"mimes\":\"The :attribute must be a file of type: :values.\",\"min\":{\"numeric\":\"The :attribute must be at least :min.\",\"file\":\"The :attribute must be at least :min kilobytes.\",\"string\":\"The :attribute must be at least :min characters.\",\"array\":\"The :attribute must have at least :min items.\"},\"not_in\":\"The selected :attribute is invalid.\",\"numeric\":\"The :attribute must be a number.\",\"regex\":\"The :attribute format is invalid.\",\"required\":\"The :attribute field is required.\",\"required_if\":\"The :attribute field is required when :other is :value.\",\"required_unless\":\"The :attribute field is required unless :other is in :values.\",\"required_with\":\"The :attribute field is required when :values is present.\",\"required_with_all\":\"The :attribute field is required when :values is present.\",\"required_without\":\"The :attribute field is required when :values is not present.\",\"required_without_all\":\"The :attribute field is required when none of :values are present.\",\"same\":\"The :attribute and :other must match.\",\"size\":{\"numeric\":\"The :attribute must be :size.\",\"file\":\"The :attribute must be :size kilobytes.\",\"string\":\"The :attribute must be :size characters.\",\"array\":\"The :attribute must contain :size items.\"},\"string\":\"The :attribute must be a string.\",\"timezone\":\"The :attribute must be a valid zone.\",\"unique\":\"The :attribute has already been taken.\",\"url\":\"The :attribute format is invalid.\",\"password\":\"Password must contain letters, numbers and symbols, and it should contain at least a number and a capital letter.\",\"custom\":{\"g-recaptcha-response\":{\"recaptcha\":\"Robot validation required!\"}},\"attributes\":{\"name\":\"Name\",\"username\":\"Username\",\"email\":\"Email\",\"first_name\":\"First name\",\"last_name\":\"Last name\",\"password\":\"Password\",\"password_confirmation\":\"Password confirmation\",\"city\":\"City\",\"country\":\"Country\",\"address\":\"Address\",\"phone\":\"Phone\",\"mobile\":\"Mobile\",\"age\":\"Age\",\"sex\":\"Sex\",\"gender\":\"Gender\",\"day\":\"Day\",\"month\":\"Month\",\"year\":\"Year\",\"hour\":\"Hour\",\"minute\":\"Minute\",\"second\":\"Second\",\"title\":\"Title\",\"content\":\"Content\",\"description\":\"Description\",\"excerpt\":\"Excerpt\",\"date\":\"Date\",\"time\":\"Time\",\"available\":\"Available\",\"size\":\"Size\",\"lang\":\"Language\",\"question\":\"Question text\",\"subject\":\"Question subject\",\"text\":\"Text\",\"message_subject\":\"Message subject\",\"message_text\":\"Message text\",\"comment_subject\":\"Comment subject\",\"comment_text\":\"Comment text\",\"comment_type\":\"Comment type\",\"feedback_type\":\"Feedback type\",\"metadata\":{\"gender\":\"gender\",\"marital_status\":\"marital status\",\"nationality\":\"nationality\",\"birth_date\":\"birth date\",\"profession\":\"profession\",\"religion\":\"religion\",\"languages\":\"spoken languages\",\"education_level\":\"education level\"}}},\"en.newsletter\":{\"already_subscribed\":\"You have already subscribed\",\"subscribe-success-and-check-your-email\":\"Subscribe success, Please check you email.\",\"subscribe-failed\":\"Sorry, unable to subscribe. Please try again later!\",\"subscribe-message-after-confirmation\":\"You are now subscribed to the mailing list\",\"unsubscribe-message-after-confirmation\":\"You are now unsubscribed from the mailing list\",\"email\":{\"assalamu_alaykom\":\"Asalaamu alaikum warahmatAllahi wabarakaatuh.\",\"featured_answer\":\"Featured Answer\",\"featured_answer_description\":\"In our Featured Answer each week we share an answer to a question regarding one important principles of Islamic belief or practice\",\"question\":\"Question\",\"read_answer\":\"read answer\",\"new_this_week\":\"New This Week\",\"from_book_shelf\":\"From the bookshelf\",\"view_book\":\"view book\",\"unsubscribe_here\":\"unsubscribe here\",\"footer_note\":\"Islam Q&A is an academic, educational, da\\xe2\\x80\\x98wah website which aims to offer advice and academic answers based on evidence from religious texts in an adequate and easy-to-understand manner. These answers are supervised by Shaykh Muhammad Saalih al-Munajjid (may Allah preserve him).\",\"subject\":\"Islam Q&A Newsletter\"}},\"en.settings\":{\"emails\":\"Email\",\"social_media\":\"Social media sites\",\"social_media_description\":\"Connect social media profiles to your account to make it easy to enter without a password\",\"search\":\"Search\",\"search_hint_message\":\"Click here to search with Google Search, or continue with our own search engine to help us develop it further\",\"google_search\":\"Search using Google.\",\"website_search\":\"Search using our website.\",\"help_us\":\"Join Us\",\"help_us_description\":\"Would you like to help us improve the experience of our site users?\",\"delete_my_account\":\"Delete my account.\",\"sure_question\":\"Are you sure you want to complete this process?\",\"account_will_deleted_after\":\"Your account will be deleted in :period day\\xe2\\x80\\x99s time. The request to delete it will be cancelled if you log on within that period.\",\"all_your_data_will_deleted\":\"When your account is deleted, all information connected to your account will be deleted, and you will not be able to restore it.\",\"in_case_question_in_process\":\"If there are questions waiting to be answered and you have entered our system, they will be worked on and the answers will be sent to your e-mail address.\",\"delete_workflow_notes\":\"If you choose to stop the work on your questions, that will be done in 15 days\\xe2\\x80\\x99 time.\",\"cancel_workflow_process\":\"Stop working on my questions and delete them from your system.\",\"labels\":{\"add_new_email\":\"Add new e-mail\",\"yes_help_us\":\"Yes, I would like to help improve users\\' experience\"},\"tooltip\":{\"email_verified\":\"Email Verified\",\"email_not_verified\":\"E-mail not verified\",\"email_primary\":\"Required\",\"delete\":\"Delete\",\"send_verify_email\":\"Send verification e-mail.\",\"set_as_primary\":\"Select as main e-mail.\"}},\"en.ie_detect\":{\"browser_not_supported\":\"This browser is not supported\",\"browser_not_supported_msg\":\"The site may not be working correctly because you are using Internet Explorer. Please update it to Microsoft Edge, or use another modern browser such as Google Chrome or Firefox\"},\"en.my_questions\":{\"question_not_answered\":\"question not answered\",\"question_answered\":\"question answered\",\"question_subject\":\"question subject\",\"question_date\":\"question date\",\"comments\":\"comments\",\"there_is_no\":\"there is no\",\"delete_question\":\"Are you sure you want to delete this question?\",\"cannot_delete_question\":\"Sorry, this question cannot be deleted because it has already entered the queue for answering.\"},\"en.contribution\":{\"contribute\":\"Contribute\",\"contribute_now\":\"Contribute Now\",\"contribute_securely\":\"Contribute Securely\",\"encryption_algorithm\":\"SSL & AES-256bit\",\"pay_with_credit\":\"Pay with credit\\\\/debit card\",\"pay_securely_on_site\":\"Pay securely on our website via Stripe\",\"or_pay_via\":\"Or Pay Via\",\"pay_via_paypal_include\":\"Pay via PayPal includes Credit\\\\/Debit Cards & Recurring Payment options\",\"personal_details\":\"Personal Details\",\"card_details\":\"Card Details\",\"amount\":\"Amount\",\"card_number\":\"Card Number\",\"cvc\":\"CVC\",\"zip_code\":\"Postal Code\",\"car_holder_name\":\"Name on card\",\"email\":\"E-mail Address\",\"address\":\"Address\",\"enter_amount\":\"Enter the amount to check your available payment methods.\",\"payment_successful\":\"You payment was successful!\",\"thank_you_for_generosity\":\"Thank you for your generosity in contributing towards IslamQA.\",\"may_allah_bless_and_reward_you\":\"May Allah bless you and reward you for supporting this initiative and make it a means of attaining the pleasure of Allah.\\\\n    May He (swt) bless your families, your homes and your sustenance\",\"your_contribution_help_us\":\"Your contribution help us to ensure the continuity of our project in serving people all over the world with answers to their Islamic questions.\",\"support_islamqa\":\"Support IslamQA\",\"first_paragraph\":\"By the grace of Allah, for almost 25 years, IslamQA has been providing scholarly answers to questions from people on a wide range of issues.\",\"second_paragraph\":\"We are asking all our friends and visitors to contribute generously in order to ensure the continuity of our website Insha-Allah.\",\"third_paragraph\":\"We ask Allah to bless you, your families and wealth, multiply your reward greatly and grant you success in this life and the life to come.\",\"amp_paragraph\":\"Please contribute generously in order to ensure the continuity of our website InshaAllah.\",\"content_header\":{\"desktop_title\":\"Contribute during these blessed days.\",\"mobile_title\":\"Contribute during these blessed days.\",\"desktop_description\":\"Spread the light of Islamic knowledge\\\\n and earn immense rewards insha-Allah\",\"mobile_description\":\"Spread the light of Islamic knowledge and earn immense rewards\"},\"modal\":{\"desktop_title\":\"Share in the Reward of guiding 1000\\'s by supporting IslamQA\\'s ongoing work\",\"mobile_title\":\"Support IslamQA\\\\nSpread Islamic Guidance\",\"first_paragraph\":\"For almost 25 years, IslamQA has served people by providing scholarly, authentic researched answers to 1000\\'s of questions.\",\"second_paragraph\":\"Help us to continue reaching people in over 200 countries and territories in 16 languages.\",\"hadith\":\"The Messenger (\\xef\\xb7\\xba) was the most generous of the men; and he was the most generous during the month of Ramadan.\",\"muslim_bukhari\":\"AL-BUKHARI & MUSLIM\",\"mobile_third_paragraph\":\"Share in the Reward of Guiding 1000\\'s\",\"support_islamqa\":\"Support IslamQA\",\"hajj\":{\"earn_rewards_desktop\":\"Race To Do Good, Don\\'t Miss Out.\",\"earn_rewards_mobile\":\"Race To Do Good, Don\\'t Miss Out.\",\"best_days\":\"The Best of the Best Days Are Upon Us!\",\"hadith\":\"The Prophet (\\xef\\xb7\\xba) said: \\\\n\\xe2\\x80\\x9cThere is no day on which Allaah frees more people from the Fire than the Day of \\xe2\\x80\\x98Arafaah. He comes close and expresses His pride to the angels, saying, \\xe2\\x80\\x98What do these people want?\\xe2\\x80\\x99\\xe2\\x80\\x9d\",\"bukhari\":\"MUSLIM\",\"spread_knowledge\":\"Strive for Rewards\\\\non these Blessed Days\",\"contribute_to_islamqa\":\"Support IslamQA\"}},\"top_box\":{\"support_islamqa_works\":\"Support IslamQA\\'s Work.\",\"support_islamqa\":\"Support IslamQA\",\"bring_lite_to_life\":\"Bring Light to the lives of Millions & Multiply the Rewards.\",\"laylatul_qadr\":\"Laylatul Qadr is better than a 1000 months\",\"hajj\":{\"earn_reward_around_world\":\"The Best of the Best Days Are Upon Us!\\\\nRace To Do Good, Don\\'t Miss Out.\",\"earn_reward\":\"The Best of the Best Days Are Upon Us!\\\\nRace To Do Good, Don\\'t Miss Out.\",\"number_of_years\":\"24 years\",\"number_of_countries\":\"200+ countries\",\"number_of_languages\":\"16 Languages\",\"empower_ummah\":\"Empowering the Ummah!\",\"best_days\":\"Race\\\\nTo Do\\\\nGood\"}}}}\\n    });\\n\\n    window.isUser = false;\\n    window.isMobile = false;\\n    window.currentRouteName = \\'fatawa.single\\';\\n    window.SearchEngine = \\'google\\';\\n    window.SearchLanguages = [\"ar\",\"en\",\"id\",\"tr\",\"fr\",\"ur\",\"bn\",\"ru\",\"es\",\"fa\",\"hi\",\"ge\",\"pt\",\"zh\",\"ug\"];\\n    window.introLanguages = [\\'ar\\', \\'en\\'];\\n    window.flash = \\'\\';\\n    window.sessionError = \\'\\';\\n</script>\\n<script defer src=\"/site/js/app.js?id=e0227d22cf44a8de1f40\"></script>\\n        <script defer src=\"/site/js/auth.js?id=30832dacde96e3329f66\"></script>\\n\\n    <script>\\n      window.contribution = {\\n        slug: \\'hajj_1441_2\\',\\n        style: \\'hajj\\',\\n        appearance: {\\n          popup: \\'once_session\\',\\n          top_banner: \\'once_session\\',\\n        }\\n      };\\n    </script>\\n    <script defer src=\"/site/js/contribution.js?id=d93d8c8121fb54d5fc4b\"></script>\\n<script defer src=\"/site/js/search/bundle.js?id=8dff1f248fee61c129b4\"></script>\\n\\n\\n                <script defer src=\"/site/js/evaluation.js?id=86c71713181ef848ebb1\"></script>\\n        <script defer src=\"/site/js/single.js?id=5f42789dc024d7f7a3e6\"></script>\\n        <script>\\n      var scrolledBar = $(\\'.single-layout__scrolled-bar\\');\\n\\n      function refreshScrolledBarRight() {\\n        var container = $(\\'.single-layout__title\\').offset().left;\\n        if ($(\\'body\\').hasClass(\\'is-rtl\\')) {\\n          scrolledBar.css(\\'right\\', container - $(\\'.single-layout__scrolled-bar\\').outerWidth() - 30);\\n        } else {\\n          // console.log(container);\\n          scrolledBar.css(\\'right\\', container + $(\\'.single-layout__title\\').outerWidth() + 30);\\n        }\\n        scrolledBar.css(\\'top\\', $(\\'.single-layout__title\\').offset().top + 20);\\n      }\\n\\n      $(window).resize(function () {\\n        refreshScrolledBarRight();\\n      });\\n\\n      function fixingBar() {\\n        scrolledBar.scrollToFixed({\\n          marginTop: 144,\\n          zIndex: 20,\\n          limit: function () {\\n            return $($(\\'.single-layout__source\\').length ? \\'.single-layout__source\\' : \\'.footer\\').offset().top -\\n              $(this).outerHeight(true) - 10;\\n          },\\n          postAbsolute: function () {\\n            $(this).addClass(\\'is-show\\');\\n          },\\n        });\\n      }\\n\\n      (function () {\\n        refreshScrolledBarRight();\\n        fixingBar();\\n      }());\\n\\n      $(document).ready(function () {\\n        function jumpTo(to) {\\n          document.getElementById(to).scrollIntoView({ behavior: \\'smooth\\' });\\n        }\\n\\n        $(\\'[data-jump-to]\\').click(function (e) {\\n          jumpTo($(this).data(\\'jump-to\\'));\\n        });\\n\\n        $(\\'[data-toggle-search-box]\\').on(\\'click\\', function (e) {\\n          e.preventDefault();\\n\\n          if (\\n            $(this).closest(\\'.column\\').hasClass(\\'is-open\\') &&\\n            !$(this).hasClass(\\'search-clear\\') &&\\n            $(this).closest(\\'form\\').find(\\'input\\').val()\\n          ) {\\n            $(this).closest(\\'form\\').submit();\\n            return;\\n          }\\n\\n          $(this).closest(\\'.column\\')\\n            .toggleClass(\\'is-open\\')\\n            .find(\\'form\\')\\n            .each(function () {\\n              $(\\'[data-toggle-search-box]:eq(1)\\', this).toggleClass(\\'is-active\\');\\n            })\\n        });\\n      });\\n    </script>\\n\\n\\n\\n<script>\\n  $(document).ready(function () {\\n    var feedBackButton = $(\\'.__feedback-button\\');\\n    var feedBackHeight = $(feedBackButton).outerHeight();\\n    var headerHeight = $(\\'.header-section\\').outerHeight();\\n    if ($(\\'body\\').hasClass(\\'is-rtl\\')) {\\n      $(feedBackButton).css({ \\'left\\': feedBackHeight });\\n      $(feedBackButton).css({ \\'top\\': headerHeight + $(feedBackButton).outerWidth() + 100 });\\n    } else {\\n      $(feedBackButton).css({ \\'right\\': feedBackHeight });\\n      $(feedBackButton).css({ \\'top\\': headerHeight + $(feedBackButton).outerWidth() });\\n    }\\n    $(feedBackButton).show();\\n  });\\n</script>\\n\\n\\n    <script type=\"text/javascript\" charset=\"utf-8\">\\n      var onloadCallback = function () {\\n        // console.log(\\'onloadCallback\\');\\n        $(\\'.g-recaptcha\\').each(function () {\\n          var object = $(this);\\n          window[object.attr(\\'id\\')] = grecaptcha.render(object.attr(\\'id\\'), {\\n            \\'sitekey\\': \\'6Lf3DUIUAAAAAC7JZujqBym4Thc2ZMGOWyln9gtU\\',\\n            \\'size\\': \\'invisible\\',\\n          });\\n        });\\n      };\\n    </script>\\n\\n\\n<script type=\"application/ld+json\">\\n{\\n  \"@context\" : \"http://schema.org\",\\n  \"@type\" : \"WebSite\",\\n  \"name\" : \"Islam Question & Answer\",\\n  \"image\": \"https://islamqa.info/upload/logos/en-logo-sm.png\",\\n  \"url\": \"https://islamqa.info/en\",\\n  \"sameAs\": [\\n                        \"https://www.facebook.com/IslamQAcom\",                                \"https://twitter.com/IslamQAcom\",                                            \"https://www.youtube.com/channel/UCNiLZ4Nq_eh1YeItHqahtVg\",                                \"https://soundcloud.com/islamqa\",                                            \"https://www.instagram.com/islamqa/\"                ],\\n    \"potentialAction\" : {\\n      \"@type\" : \"SearchAction\",\\n      \"target\" : \"https://islamqa.info/en/search?q={search_term_string}\",\\n    \"query-input\" : \"required name=search_term_string\"\\n  }\\n}\\n\\n\\n</script>\\n\\n</body>\\n</html>\\n'"
      ]
     },
     "metadata": {},
     "execution_count": 20
    }
   ],
   "source": [
    "page.content"
   ]
  },
  {
   "cell_type": "code",
   "execution_count": 21,
   "metadata": {},
   "outputs": [
    {
     "output_type": "execute_result",
     "data": {
      "text/plain": [
       "ou can click the button below to create one\",\"register_modal_note\":\"If you have an account, log in\",\"forget-title\":\"Reset Username or Password\",\"login-title\":\"Log in\",\"register-title\":\"Create an account\",\"or\":\"or\",\"ask_forget_password_1\":\"Can't log in to your account?\",\"ask_forget_password_2\":\"Forgot username or password?\",\"message\":{\"activation_required\":\"Activation is required\"},\"buttons\":{\"submit_login\":\"Log in\",\"submit_signup\":\"Create an account\",\"submit_reset\":\"Reset\",\"back-to-login\":\"Log in again\",\"ask-to-register\":\"Create new account\",\"ask-to-login\":\"Log in\"},\"labels\":{\"email\":\"Email\",\"password\":\"Password\",\"username\":\"User name\"}},\"en.intro\":{\"skip\":\"Skip\",\"next\":\"Next\",\"previous\":\"Back\",\"done\":\"End\",\"home\":{\"step-1-not-user\":\"Register an Islamqa account. Once logged in, access account features here.\",\"step-1-is-user\":\"Access your account features via these links\",\"step-2-is-user\":\"The red dot indicates new notifications in your account.\",\"step-2\":\"Open languages bar from this button.\",\"step-4\":\"Once registered and logged in, click the bookmark icon to keep in your saved items.\"},\"single\":{\"step-1\":\"Tools to save, print and share answers.\",\"step-2\":\"Enhance your reading experience\",\"step-3\":\"Add comment\",\"step-4\":\"Related Answers\"},\"topics\":{\"step-1\":\"Switch between 3 types of categories: general, selected events & focus topics and most important.\",\"step-2\":\"View parent categories, expand all or filter alphabetically.\",\"step-3\":\"Click the arrow to expand the category tree or click the title to visit the category directly.\"},\"profile\":{\"step-1\":\"Explore the site and click bookmark icon on any answer to keep it in your saved items.\",\"step-2\":\"Add items from saved to a custom list to group related saved items.\",\"step-3\":\"Explore categories and click follow to see updates from followed topics in this section.\",\"step-4\":\"Once you have submitted a question, track progress or view answered questions here.\",\"step-5\":\"Send new questions using this section.\",\"step-6\":\"Track your comments and any replies to your comments from the site administration.\",\"step-7\":\"Complete your profile details before asking a question to assist us to support your specific needs.\",\"step-8\":\"Change your account email, link social logins and update your account password here.\",\"saved\":{\"step-1\":\"Explore the site and click bookmark icon on any answer to keep it in your saved items.\",\"step-2\":\"Once saved you can add items to lists via this icon.\"},\"lists\":{\"step-1\":\"Add items from saved to a custom list to group related saved items.\",\"step-2\":\"Create a new list using this button.\"},\"single_list\":{\"step-1\":\"Re-arrange items in your list using the drag and drop icon.\",\"step-2\":\"Add notes to your list using this button.\",\"step-3\":\"Share your list with others via social media, email or link.\",\"step-4\":\"Download your list items as a pdf.\"},\"my_topics\":{\"step-1\":\"Follow categories by clicking the follow button in the single category page\"}}},\"en.validation\":{\"accepted\":\"The :attribute must be accepted.\",\"active_url\":\"The :attribute is not a valid URL.\",\"after\":\"The :attribute must be a date after :date.\",\"alpha\":\"The :attribute may only contain letters.\",\"alpha_dash\":\"The :attribute may only contain letters, numbers, and dashes.\",\"alpha_num\":\"The :attribute may only contain letters and numbers.\",\"array\":\"The :attribute must be an array.\",\"before\":\"The :attribute must be a date before :date.\",\"between\":{\"numeric\":\"The :attribute must be between :min and :max.\",\"file\":\"The :attribute must be between :min and :max kilobytes.\",\"string\":\"The :attribute must be between :min and :max characters.\",\"array\":\"The :attribute must have between :min and :max items.\"},\"boolean\":\"The :attribute field must be true or false.\",\"confirmed\":\"The :attribute confirmation does not match.\",\"date\":\"The :attribute is not a valid date.\",\"date_format\":\"The :attribute does not match the format :format.\",\"different\":\"The :attribute and :other must be different.\",\"digits\":\"The :attribute must be :digits digits.\",\"digits_between\":\"The :attribute must be between :min and :max digits.\",\"email\":\"The :attribute must be a valid email address.\",\"exists\":\"The selected :attribute is invalid.\",\"filled\":\"The :attribute field is required.\",\"image\":\"The :attribute must be an image.\",\"in\":\"The selected :attribute is invalid.\",\"integer\":\"The :attribute must be an integer.\",\"ip\":\"The :attribute must be a valid IP address.\",\"json\":\"The :attribute must be a valid JSON string.\",\"max\":{\"numeric\":\"The :attribute may not be greater than :max.\",\"file\":\"The :attribute may not be greater than :max kilobytes.\",\"string\":\"The :attribute may not be greater than :max characters.\",\"array\":\"The :attribute may not have more than :max items.\"},\"mimes\":\"The :attribute must be a file of type: :values.\",\"min\":{\"numeric\":\"The :attribute must be at least :min.\",\"file\":\"The :attribute must be at least :min kilobytes.\",\"string\":\"The :attribute must be at least :min characters.\",\"array\":\"The :attribute must have at least :min items.\"},\"not_in\":\"The selected :attribute is invalid.\",\"numeric\":\"The :attribute must be a number.\",\"regex\":\"The :attribute format is invalid.\",\"required\":\"The :attribute field is required.\",\"required_if\":\"The :attribute field is required when :other is :value.\",\"required_unless\":\"The :attribute field is required unless :other is in :values.\",\"required_with\":\"The :attribute field is required when :values is present.\",\"required_with_all\":\"The :attribute field is required when :values is present.\",\"required_without\":\"The :attribute field is required when :values is not present.\",\"required_without_all\":\"The :attribute field is required when none of :values are present.\",\"same\":\"The :attribute and :other must match.\",\"size\":{\"numeric\":\"The :attribute must be :size.\",\"file\":\"The :attribute must be :size kilobytes.\",\"string\":\"The :attribute must be :size characters.\",\"array\":\"The :attribute must contain :size items.\"},\"string\":\"The :attribute must be a string.\",\"timezone\":\"The :attribute must be a valid zone.\",\"unique\":\"The :attribute has already been taken.\",\"url\":\"The :attribute format is invalid.\",\"password\":\"Password must contain letters, numbers and symbols, and it should contain at least a number and a capital letter.\",\"custom\":{\"g-recaptcha-response\":{\"recaptcha\":\"Robot validation required!\"}},\"attributes\":{\"name\":\"Name\",\"username\":\"Username\",\"email\":\"Email\",\"first_name\":\"First name\",\"last_name\":\"Last name\",\"password\":\"Password\",\"password_confirmation\":\"Password confirmation\",\"city\":\"City\",\"country\":\"Country\",\"address\":\"Address\",\"phone\":\"Phone\",\"mobile\":\"Mobile\",\"age\":\"Age\",\"sex\":\"Sex\",\"gender\":\"Gender\",\"day\":\"Day\",\"month\":\"Month\",\"year\":\"Year\",\"hour\":\"Hour\",\"minute\":\"Minute\",\"second\":\"Second\",\"title\":\"Title\",\"content\":\"Content\",\"description\":\"Description\",\"excerpt\":\"Excerpt\",\"date\":\"Date\",\"time\":\"Time\",\"available\":\"Available\",\"size\":\"Size\",\"lang\":\"Language\",\"question\":\"Question text\",\"subject\":\"Question subject\",\"text\":\"Text\",\"message_subject\":\"Message subject\",\"message_text\":\"Message text\",\"comment_subject\":\"Comment subject\",\"comment_text\":\"Comment text\",\"comment_type\":\"Comment type\",\"feedback_type\":\"Feedback type\",\"metadata\":{\"gender\":\"gender\",\"marital_status\":\"marital status\",\"nationality\":\"nationality\",\"birth_date\":\"birth date\",\"profession\":\"profession\",\"religion\":\"religion\",\"languages\":\"spoken languages\",\"education_level\":\"education level\"}}},\"en.newsletter\":{\"already_subscribed\":\"You have already subscribed\",\"subscribe-success-and-check-your-email\":\"Subscribe success, Please check you email.\",\"subscribe-failed\":\"Sorry, unable to subscribe. Please try again later!\",\"subscribe-message-after-confirmation\":\"You are now subscribed to the mailing list\",\"unsubscribe-message-after-confirmation\":\"You are now unsubscribed from the mailing list\",\"email\":{\"assalamu_alaykom\":\"Asalaamu alaikum warahmatAllahi wabarakaatuh.\",\"featured_answer\":\"Featured Answer\",\"featured_answer_description\":\"In our Featured Answer each week we share an answer to a question regarding one important principles of Islamic belief or practice\",\"question\":\"Question\",\"read_answer\":\"read answer\",\"new_this_week\":\"New This Week\",\"from_book_shelf\":\"From the bookshelf\",\"view_book\":\"view book\",\"unsubscribe_here\":\"unsubscribe here\",\"footer_note\":\"Islam Q&A is an academic, educational, da‘wah website which aims to offer advice and academic answers based on evidence from religious texts in an adequate and easy-to-understand manner. These answers are supervised by Shaykh Muhammad Saalih al-Munajjid (may Allah preserve him).\",\"subject\":\"Islam Q&A Newsletter\"}},\"en.settings\":{\"emails\":\"Email\",\"social_media\":\"Social media sites\",\"social_media_description\":\"Connect social media profiles to your account to make it easy to enter without a password\",\"search\":\"Search\",\"search_hint_message\":\"Click here to search with Google Search, or continue with our own search engine to help us develop it further\",\"google_search\":\"Search using Google.\",\"website_search\":\"Search using our website.\",\"help_us\":\"Join Us\",\"help_us_description\":\"Would you like to help us improve the experience of our site users?\",\"delete_my_account\":\"Delete my account.\",\"sure_question\":\"Are you sure you want to complete this process?\",\"account_will_deleted_after\":\"Your account will be deleted in :period day’s time. The request to delete it will be cancelled if you log on within that period.\",\"all_your_data_will_deleted\":\"When your account is deleted, all information connected to your account will be deleted, and you will not be able to restore it.\",\"in_case_question_in_process\":\"If there are questions waiting to be answered and you have entered our system, they will be worked on and the answers will be sent to your e-mail address.\",\"delete_workflow_notes\":\"If you choose to stop the work on your questions, that will be done in 15 days’ time.\",\"cancel_workflow_process\":\"Stop working on my questions and delete them from your system.\",\"labels\":{\"add_new_email\":\"Add new e-mail\",\"yes_help_us\":\"Yes, I would like to help improve users' experience\"},\"tooltip\":{\"email_verified\":\"Email Verified\",\"email_not_verified\":\"E-mail not verified\",\"email_primary\":\"Required\",\"delete\":\"Delete\",\"send_verify_email\":\"Send verification e-mail.\",\"set_as_primary\":\"Select as main e-mail.\"}},\"en.ie_detect\":{\"browser_not_supported\":\"This browser is not supported\",\"browser_not_supported_msg\":\"The site may not be working correctly because you are using Internet Explorer. Please update it to Microsoft Edge, or use another modern browser such as Google Chrome or Firefox\"},\"en.my_questions\":{\"question_not_answered\":\"question not answered\",\"question_answered\":\"question answered\",\"question_subject\":\"question subject\",\"question_date\":\"question date\",\"comments\":\"comments\",\"there_is_no\":\"there is no\",\"delete_question\":\"Are you sure you want to delete this question?\",\"cannot_delete_question\":\"Sorry, this question cannot be deleted because it has already entered the queue for answering.\"},\"en.contribution\":{\"contribute\":\"Contribute\",\"contribute_now\":\"Contribute Now\",\"contribute_securely\":\"Contribute Securely\",\"encryption_algorithm\":\"SSL & AES-256bit\",\"pay_with_credit\":\"Pay with credit\\/debit card\",\"pay_securely_on_site\":\"Pay securely on our website via Stripe\",\"or_pay_via\":\"Or Pay Via\",\"pay_via_paypal_include\":\"Pay via PayPal includes Credit\\/Debit Cards & Recurring Payment options\",\"personal_details\":\"Personal Details\",\"card_details\":\"Card Details\",\"amount\":\"Amount\",\"card_number\":\"Card Number\",\"cvc\":\"CVC\",\"zip_code\":\"Postal Code\",\"car_holder_name\":\"Name on card\",\"email\":\"E-mail Address\",\"address\":\"Address\",\"enter_amount\":\"Enter the amount to check your available payment methods.\",\"payment_successful\":\"You payment was successful!\",\"thank_you_for_generosity\":\"Thank you for your generosity in contributing towards IslamQA.\",\"may_allah_bless_and_reward_you\":\"May Allah bless you and reward you for supporting this initiative and make it a means of attaining the pleasure of Allah.\\n    May He (swt) bless your families, your homes and your sustenance\",\"your_contribution_help_us\":\"Your contribution help us to ensure the continuity of our project in serving people all over the world with answers to their Islamic questions.\",\"support_islamqa\":\"Support IslamQA\",\"first_paragraph\":\"By the grace of Allah, for almost 25 years, IslamQA has been providing scholarly answers to questions from people on a wide range of issues.\",\"second_paragraph\":\"We are asking all our friends and visitors to contribute generously in order to ensure the continuity of our website Insha-Allah.\",\"third_paragraph\":\"We ask Allah to bless you, your families and wealth, multiply your reward greatly and grant you success in this life and the life to come.\",\"amp_paragraph\":\"Please contribute generously in order to ensure the continuity of our website InshaAllah.\",\"content_header\":{\"desktop_title\":\"Contribute during these blessed days.\",\"mobile_title\":\"Contribute during these blessed days.\",\"desktop_description\":\"Spread the light of Islamic knowledge\\n and earn immense rewards insha-Allah\",\"mobile_description\":\"Spread the light of Islamic knowledge and earn immense rewards\"},\"modal\":{\"desktop_title\":\"Share in the Reward of guiding 1000's by supporting IslamQA's ongoing work\",\"mobile_title\":\"Support IslamQA\\nSpread Islamic Guidance\",\"first_paragraph\":\"For almost 25 years, IslamQA has served people by providing scholarly, authentic researched answers to 1000's of questions.\",\"second_paragraph\":\"Help us to continue reaching people in over 200 countries and territories in 16 languages.\",\"hadith\":\"The Messenger (ﷺ) was the most generous of the men; and he was the most generous during the month of Ramadan.\",\"muslim_bukhari\":\"AL-BUKHARI & MUSLIM\",\"mobile_third_paragraph\":\"Share in the Reward of Guiding 1000's\",\"support_islamqa\":\"Support IslamQA\",\"hajj\":{\"earn_rewards_desktop\":\"Race To Do Good, Don't Miss Out.\",\"earn_rewards_mobile\":\"Race To Do Good, Don't Miss Out.\",\"best_days\":\"The Best of the Best Days Are Upon Us!\",\"hadith\":\"The Prophet (ﷺ) said: \\n“There is no day on which Allaah frees more people from the Fire than the Day of ‘Arafaah. He comes close and expresses His pride to the angels, saying, ‘What do these people want?’”\",\"bukhari\":\"MUSLIM\",\"spread_knowledge\":\"Strive for Rewards\\non these Blessed Days\",\"contribute_to_islamqa\":\"Support IslamQA\"}},\"top_box\":{\"support_islamqa_works\":\"Support IslamQA's Work.\",\"support_islamqa\":\"Support IslamQA\",\"bring_lite_to_life\":\"Bring Light to the lives of Millions & Multiply the Rewards.\",\"laylatul_qadr\":\"Laylatul Qadr is better than a 1000 months\",\"hajj\":{\"earn_reward_around_world\":\"The Best of the Best Days Are Upon Us!\\nRace To Do Good, Don't Miss Out.\",\"earn_reward\":\"The Best of the Best Days Are Upon Us!\\nRace To Do Good, Don't Miss Out.\",\"number_of_years\":\"24 years\",\"number_of_countries\":\"200+ countries\",\"number_of_languages\":\"16 Languages\",\"empower_ummah\":\"Empowering the Ummah!\",\"best_days\":\"Race\\nTo Do\\nGood\"}}}}\n",
       "    });\n",
       "\n",
       "    window.isUser = false;\n",
       "    window.isMobile = false;\n",
       "    window.currentRouteName = 'fatawa.single';\n",
       "    window.SearchEngine = 'google';\n",
       "    window.SearchLanguages = [\"ar\",\"en\",\"id\",\"tr\",\"fr\",\"ur\",\"bn\",\"ru\",\"es\",\"fa\",\"hi\",\"ge\",\"pt\",\"zh\",\"ug\"];\n",
       "    window.introLanguages = ['ar', 'en'];\n",
       "    window.flash = '';\n",
       "    window.sessionError = '';\n",
       "</script>\n",
       "<script defer=\"\" src=\"/site/js/app.js?id=e0227d22cf44a8de1f40\"></script>\n",
       "<script defer=\"\" src=\"/site/js/auth.js?id=30832dacde96e3329f66\"></script>\n",
       "<script>\n",
       "      window.contribution = {\n",
       "        slug: 'hajj_1441_2',\n",
       "        style: 'hajj',\n",
       "        appearance: {\n",
       "          popup: 'once_session',\n",
       "          top_banner: 'once_session',\n",
       "        }\n",
       "      };\n",
       "    </script>\n",
       "<script defer=\"\" src=\"/site/js/contribution.js?id=d93d8c8121fb54d5fc4b\"></script>\n",
       "<script defer=\"\" src=\"/site/js/search/bundle.js?id=8dff1f248fee61c129b4\"></script>\n",
       "<script defer=\"\" src=\"/site/js/evaluation.js?id=86c71713181ef848ebb1\"></script>\n",
       "<script defer=\"\" src=\"/site/js/single.js?id=5f42789dc024d7f7a3e6\"></script>\n",
       "<script>\n",
       "      var scrolledBar = $('.single-layout__scrolled-bar');\n",
       "\n",
       "      function refreshScrolledBarRight() {\n",
       "        var container = $('.single-layout__title').offset().left;\n",
       "        if ($('body').hasClass('is-rtl')) {\n",
       "          scrolledBar.css('right', container - $('.single-layout__scrolled-bar').outerWidth() - 30);\n",
       "        } else {\n",
       "          // console.log(container);\n",
       "          scrolledBar.css('right', container + $('.single-layout__title').outerWidth() + 30);\n",
       "        }\n",
       "        scrolledBar.css('top', $('.single-layout__title').offset().top + 20);\n",
       "      }\n",
       "\n",
       "      $(window).resize(function () {\n",
       "        refreshScrolledBarRight();\n",
       "      });\n",
       "\n",
       "      function fixingBar() {\n",
       "        scrolledBar.scrollToFixed({\n",
       "          marginTop: 144,\n",
       "          zIndex: 20,\n",
       "          limit: function () {\n",
       "            return $($('.single-layout__source').length ? '.single-layout__source' : '.footer').offset().top -\n",
       "              $(this).outerHeight(true) - 10;\n",
       "          },\n",
       "          postAbsolute: function () {\n",
       "            $(this).addClass('is-show');\n",
       "          },\n",
       "        });\n",
       "      }\n",
       "\n",
       "      (function () {\n",
       "        refreshScrolledBarRight();\n",
       "        fixingBar();\n",
       "      }());\n",
       "\n",
       "      $(document).ready(function () {\n",
       "        function jumpTo(to) {\n",
       "          document.getElementById(to).scrollIntoView({ behavior: 'smooth' });\n",
       "        }\n",
       "\n",
       "        $('[data-jump-to]').click(function (e) {\n",
       "          jumpTo($(this).data('jump-to'));\n",
       "        });\n",
       "\n",
       "        $('[data-toggle-search-box]').on('click', function (e) {\n",
       "          e.preventDefault();\n",
       "\n",
       "          if (\n",
       "            $(this).closest('.column').hasClass('is-open') &&\n",
       "            !$(this).hasClass('search-clear') &&\n",
       "            $(this).closest('form').find('input').val()\n",
       "          ) {\n",
       "            $(this).closest('form').submit();\n",
       "            return;\n",
       "          }\n",
       "\n",
       "          $(this).closest('.column')\n",
       "            .toggleClass('is-open')\n",
       "            .find('form')\n",
       "            .each(function () {\n",
       "              $('[data-toggle-search-box]:eq(1)', this).toggleClass('is-active');\n",
       "            })\n",
       "        });\n",
       "      });\n",
       "    </script>\n",
       "<script>\n",
       "  $(document).ready(function () {\n",
       "    var feedBackButton = $('.__feedback-button');\n",
       "    var feedBackHeight = $(feedBackButton).outerHeight();\n",
       "    var headerHeight = $('.header-section').outerHeight();\n",
       "    if ($('body').hasClass('is-rtl')) {\n",
       "      $(feedBackButton).css({ 'left': feedBackHeight });\n",
       "      $(feedBackButton).css({ 'top': headerHeight + $(feedBackButton).outerWidth() + 100 });\n",
       "    } else {\n",
       "      $(feedBackButton).css({ 'right': feedBackHeight });\n",
       "      $(feedBackButton).css({ 'top': headerHeight + $(feedBackButton).outerWidth() });\n",
       "    }\n",
       "    $(feedBackButton).show();\n",
       "  });\n",
       "</script>\n",
       "<script charset=\"utf-8\" type=\"text/javascript\">\n",
       "      var onloadCallback = function () {\n",
       "        // console.log('onloadCallback');\n",
       "        $('.g-recaptcha').each(function () {\n",
       "          var object = $(this);\n",
       "          window[object.attr('id')] = grecaptcha.render(object.attr('id'), {\n",
       "            'sitekey': '6Lf3DUIUAAAAAC7JZujqBym4Thc2ZMGOWyln9gtU',\n",
       "            'size': 'invisible',\n",
       "          });\n",
       "        });\n",
       "      };\n",
       "    </script>\n",
       "<script type=\"application/ld+json\">\n",
       "{\n",
       "  \"@context\" : \"http://schema.org\",\n",
       "  \"@type\" : \"WebSite\",\n",
       "  \"name\" : \"Islam Question & Answer\",\n",
       "  \"image\": \"https://islamqa.info/upload/logos/en-logo-sm.png\",\n",
       "  \"url\": \"https://islamqa.info/en\",\n",
       "  \"sameAs\": [\n",
       "                        \"https://www.facebook.com/IslamQAcom\",                                \"https://twitter.com/IslamQAcom\",                                            \"https://www.youtube.com/channel/UCNiLZ4Nq_eh1YeItHqahtVg\",                                \"https://soundcloud.com/islamqa\",                                            \"https://www.instagram.com/islamqa/\"                ],\n",
       "    \"potentialAction\" : {\n",
       "      \"@type\" : \"SearchAction\",\n",
       "      \"target\" : \"https://islamqa.info/en/search?q={search_term_string}\",\n",
       "    \"query-input\" : \"required name=search_term_string\"\n",
       "  }\n",
       "}\n",
       "\n",
       "\n",
       "</script>\n",
       "</body>\n",
       "</html>"
      ]
     },
     "metadata": {},
     "execution_count": 21
    }
   ],
   "source": [
    "soup = BeautifulSoup(page.content, 'html.parser')\n",
    "soup"
   ]
  },
  {
   "cell_type": "code",
   "execution_count": 29,
   "metadata": {},
   "outputs": [
    {
     "output_type": "execute_result",
     "data": {
      "text/plain": [
       "[<div class=\"content\">\n",
       " <p>Praise be to Allah.</p><p style=\"direction: ltr; \">Allaah has prescribed fasting in accordance with the highest wisdom. </p>\n",
       " <p style=\"direction: ltr; \">He has commanded the fasting person to fast in a moderate manner, so he should not harm himself by fasting or consume anything that will invalidate the fast. </p>\n",
       " <p style=\"direction: ltr;\">Hence the things that invalidate the fast are of two types: </p>\n",
       " <p style=\"direction: ltr;\">Some of the things that invalidate the fast involve things coming out of the body, such as intercourse, deliberate vomiting, menstruation and cupping. These things that come out of the body weaken it. Hence Allaah has described them as being things that invalidate the fast, so that the fasting person will not combine the weakness that results from fasting with the weakness that results from these things, and thus be harmed by his fast or his fast no longer be moderate. </p>\n",
       " <p style=\"direction: ltr;\">And some of the things that invalidate the fast involve things entering the body, such as eating and drinking. If the fasting person eats or drinks, he does not achieve the purpose of fasting. </p>\n",
       " <p style=\"direction: ltr;\">Majmoo’ al-Fataawa, 25/248 </p>\n",
       " <p style=\"direction: ltr;\">Allaah has summed up the things that break the fast in the verse where He says (interpretation of the meaning): </p>\n",
       " <p style=\"direction: ltr;\">“So now have sexual relations with them and seek that which Allaah has ordained for you (offspring), and eat and drink until the white thread (light) of dawn appears to you distinct from the black thread (darkness of night), then complete your Sawm (fast) till the nightfall”</p>\n",
       " <p style=\"direction: ltr;\">[al-Baqarah 2:187]</p>\n",
       " <p style=\"direction: ltr;\">In this verse Allaah mentions the main things that invalidate the fast, which are eating, drinking and intercourse. The other things that break the fast were mentioned by the Prophet (peace and blessings of Allaah be upon him) in his Sunnah. </p>\n",
       " <p style=\"direction: ltr;\">There are seven things that break the fast, as follows: </p>\n",
       " <p style=\"direction: ltr;\">1-Intercourse</p>\n",
       " <p style=\"direction: ltr;\">2-Masturbation</p>\n",
       " <p style=\"direction: ltr;\">3-Eating and drinking</p>\n",
       " <p style=\"direction: ltr;\">4-Anything that is regarded as coming under the same heading as eating and drinking</p>\n",
       " <p style=\"direction: ltr;\">5-Letting blood by means of cupping and the like</p>\n",
       " <p style=\"direction: ltr;\">6-Vomiting deliberately</p>\n",
       " <p style=\"direction: ltr;\">7-Menstruation and nifaas</p>\n",
       " <p style=\"direction: ltr;\">The first of the things that invalidate the fast is: intercourse.</p>\n",
       " <p style=\"direction: ltr;\">This is the most serious and the most sinful of the things that invalidate the fast. </p>\n",
       " <p style=\"direction: ltr;\">Whoever has intercourse during the day in Ramadaan deliberately and of his or her own free will, in which the two circumcised parts meet and the tip of the penis disappears in either of the two passages, has invalidated his fast, whether he ejaculates or not. He has to repent, complete that day (i.e., not eat or drink until sunset), make up that day’s fast later on and offer a severe expiation. The evidence for that is the hadeeth narrated by Abu Hurayrah (may Allaah be pleased with him) who said: A man came to the Prophet (peace and blessings of Allaah be upon him) and said, “I am doomed, O Messenger of Allaah!” He said, “Why are you doomed?” He said, “I had intercourse with my wife (during the day) in Ramadaan.” He said, “Can you free a slave?” He said, “No.” He said, “Can you fast for two consecutive months?” He said, “No.” He said, “Can you feed sixty poor persons?” He said, “No.”… </p>\n",
       " <p style=\"direction: ltr;\">Narrated by al-Bukhaari, 1936; Muslim, 1111. </p>\n",
       " <p style=\"direction: ltr;\">No expiation is required for any of the things that break the fast apart from intercourse. </p>\n",
       " <p style=\"direction: ltr;\">The second of the things that invalidate the fast is masturbation.</p>\n",
       " <p style=\"direction: ltr;\">This means causing ejaculation or climax by using the hand etc. </p>\n",
       " <p style=\"direction: ltr;\">The evidence that masturbation is one of the things that invalidate the fast is the words of Allaah in the hadeeth qudsi in which He says of the fasting person: “He gives up his food and drink and desire for My sake.” Narrated by al-Bukhaari, 1894; Muslim, 1151. Causing ejaculation comes under the heading of the desire which the fasting person gives up. </p>\n",
       " <p style=\"direction: ltr;\">Whoever masturbates during the day in Ramadaan has to repent to Allaah and refrain from eating and drinking for the rest of the day, and he has to make up that fast later on.  </p>\n",
       " <p style=\"direction: ltr;\">If he starts to masturbate then stops without ejaculating, he has to repent, but his fast is still valid, and he does not have to make it up later because he did not ejaculate. The fasting person should keep away from everything that provokes desire and shun bad thoughts. </p>\n",
       " <p style=\"direction: ltr;\">With regard to the emission of madhiy (prostatic fluid), the most correct view is that it does not invalidate the fast. </p>\n",
       " <p style=\"direction: ltr;\">The third of the things that invalidate the fast is eating or drinking </p>\n",
       " <p style=\"direction: ltr;\">This refers to food or drink reaching the stomach via the mouth. </p>\n",
       " <p style=\"direction: ltr;\">If anything reaches the stomach via the nose, this is like eating or drinking. </p>\n",
       " <p style=\"direction: ltr;\">Hence the Prophet (peace and blessings of Allaah be upon him) said: “Snuff up water deeply into the nose (when doing wudoo’), except when you are fasting.” Narrated by al-Tirmidhi, 788. If water reaching the stomach via the nose did not invalidate the fast, the Prophet (peace and blessings of Allaah be upon him) would not have told those who are fasting not to snuff up water deeply into the nose. </p>\n",
       " <p style=\"direction: ltr;\">The fourth of the things that invalidate the fast is anything that is regarded as coming under the same heading as eating and drinking </p>\n",
       " <p style=\"direction: ltr;\">This includes two things: </p>\n",
       " <p style=\"direction: ltr;\">1-Transfusion of blood to one who is fasting – such as if he bleeds heavily and is given a blood transfusion. This invalidates the fast because blood is formed from food and drink.</p>\n",
       " <p style=\"direction: ltr;\">2-Receiving via a needle (as in the case of a drip) nourishing substances which take the place of food and drink, because this is the same as food and drink. Shaykh Ibn ‘Uthaymeen, Majaalis Shahr Ramadaan, p/ 70.</p>\n",
       " <p style=\"direction: ltr;\">With regard to injections which do not replace food and drink, rather they are administered for the purpose of medical treatment – such as penicillin or insulin – or are given to energize the body, or for the purpose of vaccinations, these do not affect the fast, whether they are intravenous or intramuscular (injected into a vein or a muscle). Fataawa Muhammad ibn Ibraaheem, 4/189. But to be on the safe side, these injections may be given at night. </p>\n",
       " <p style=\"direction: ltr;\">Kidney dialysis, in which blood is extracted, cleaned and then returned to the body with the additional of chemical substances such as sugars and salts etc. is regarded as invalidating the fast. Fataawa al-Lajnah al-Daa’imah, 10/19 </p>\n",
       " <p style=\"direction: ltr;\">The fifth of the things that invalidate the fast is letting blood by means of cupping </p>\n",
       " <p style=\"direction: ltr;\">Because the Prophet (peace and blessings of Allaah be upon him) said: “The cupper and the one for whom cupping is done have both invalidated their fast.” Narrated by Abu Dawood, 2367; classed as saheeh by al-Albaani in Saheeh Abi Dawood, 2047. </p>\n",
       " <p style=\"direction: ltr;\">Donating blood comes under the same heading as cupping, because it affects the body in the same way. </p>\n",
       " <p style=\"direction: ltr;\">Based on this, it is not permissible for a person who is fasting to donate blood unless it is essential, in which case it is permissible. In that case the donor has broken his fast and must make up that day later on. Ibn ‘Uthaymeen, Majaalis Shahr Ramadaan, p. 71 </p>\n",
       " <p style=\"direction: ltr;\">If a person suffers a nosebleed, his fast is valid, because that happened involuntarily. Fataawa al-Lajnah al-Daa’imah, 10/264 </p>\n",
       " <p style=\"direction: ltr;\">With regard to bleeding that results from extraction of a tooth, surgery or a blood test etc., that does not invalidate the fast because it is not cupping or something that is similar to cupping, unless it has an effect on the body similar to that of cupping. </p>\n",
       " <p style=\"direction: ltr;\">The sixth of the things that invalidate the fast is vomiting deliberately </p>\n",
       " <p style=\"direction: ltr;\">Because the Prophet (peace and blessings of Allaah be upon him) said: “Whoever vomits involuntarily does not have to make up the fast, but whoever vomits deliberately let him make up the fast.” Narrated by al-Tirmidhi, 720, classed as saheeh by al-Albaani in Saheeh al-Tirmidhi, 577. </p>\n",
       " <p style=\"direction: ltr;\">Ibn al-Mundhir said: The scholars are agreed that the fast of one who vomits deliberately is invalidated. Al-Mughni, 4/368. </p>\n",
       " <p style=\"direction: ltr;\">Whoever vomits deliberately by sticking his finger in his throat, pressing his stomach, deliberately smelling something nasty or persisting in looking at something that makes him vomit, has to make up his fast later on. </p>\n",
       " <p style=\"direction: ltr;\">If his gorge rises, he should not suppress it, because that will harm him. Majaalis Sharh Ramadaan, Ibn ‘Uthaymeen, p. 71. </p>\n",
       " <p style=\"direction: ltr;\">The seventh of the things that invalidate the fast is the blood of menses and nifaas </p>\n",
       " <p style=\"direction: ltr;\">Because the Prophet (peace and blessings of Allaah be upon him) said: “Is it not the case that when she gets her period, she does not pray or fast?” Narrated by al-Bukhaari, 304. </p>\n",
       " <p style=\"direction: ltr;\">When a woman sees the blood of her period or nifaas (post-partum bleeding), her fast becomes invalid even if that is one moment before sunset. </p>\n",
       " <p style=\"direction: ltr;\">If a woman feels that her period has started but no blood comes out until after sunset, her fast is still valid. </p>\n",
       " <p style=\"direction: ltr;\">If the bleeding of a woman who is menstruating or in nifaas ceases at night and she has the intention of fasting, then dawn comes before she does ghusl, the view of all the scholars is that her fast is valid. Al-Fath, 4/148. </p>\n",
       " <p style=\"direction: ltr;\">It is preferable for a woman to keep to her natural cycle and to accept that which Allaah has decreed for her, and not to take any medicine to prevent her period. She should accept what Allaah has decreed for her of not fasting during her period, and make up those days later on. This is what the Mothers of the Believers and the women of the Salaf used to do. Fataawa al-Lajnah al-Daa’imah, 10/151. In addition, it has been medically proven that these means of preventing menstruation are harmful and many women have suffered menstrual irregularities as a result. If a woman takes pills and her period stops as a result, that is fine, she can fast and her fast is acceptable.  </p>\n",
       " <p style=\"direction: ltr;\">These are things that invalidate the fast. All of them – apart from menses and nifaas – only invalidate the fast if three conditions are met: that the person was aware of the ruling and not ignorant of it; that he did it knowingly and not out of forgetfulness; and that he did it by choice and was not forced to do it. </p>\n",
       " <p style=\"direction: ltr;\">We should also note some things that do not invalidate the fast: </p>\n",
       " <p style=\"direction: ltr;\">Enemas, eyedrops, eardrops, tooth extraction and treatment of injuries do not invalidate the fast. Majmoo’ Fataawa Shaykh al-Islam, 25/233; 25/245 </p>\n",
       " <p style=\"direction: ltr;\">Medical tablets that are placed under the tongue to treat asthma attacks etc, so long as you avoid swallowing any residue. </p>\n",
       " <p style=\"direction: ltr;\">Insertion of anything into the vagina such as pessaries, or a speculum, or the doctor’s fingers for the purpose of medical examination. </p>\n",
       " <p style=\"direction: ltr;\">Insertion of medical instruments or IUD into the womb. </p>\n",
       " <p style=\"direction: ltr;\">Anything that enters the urinary tract of a male or female, such as a catheter tube, or medical scopes, or opaque dyes inserted for the purpose of x-rays, or medicine, or a solution to wash the bladder. </p>\n",
       " <p style=\"direction: ltr;\">Fillings, extractions or cleaning of the teeth, whether with a siwaak or toothbrush, so long as you avoid swallowing anything that reaches the throat.  </p>\n",
       " <p style=\"direction: ltr;\">Rinsing the mouth, gargling, sprays etc. so long as you avoid swallowing anything that reaches the throat.  </p>\n",
       " <p style=\"direction: ltr;\">Oxygen or anaesthetic gases, so long as that does not give the patient any kind of nourishment. </p>\n",
       " <p style=\"direction: ltr;\">Anything that may enter the body via absorption through the skin, such as creams, poultices, etc.  </p>\n",
       " <p style=\"direction: ltr;\">Insertion of a fine tube via the veins for diagnostic imaging or treatment of the veins of the heart or any part of the body. </p>\n",
       " <p style=\"direction: ltr;\">Insertion of a scope through the stomach wall to examine the intestines by means of a surgical operation (laparoscopy). </p>\n",
       " <p style=\"direction: ltr;\">Taking samples from the liver or any other part of the body, so long as that is not accompanied by administration of solutions. </p>\n",
       " <p style=\"direction: ltr;\">Endoscopy, so long as that is not accompanied by administration of solutions or other substances. </p>\n",
       " <p style=\"direction: ltr;\">Introduction of any medical instruments or materials to the brain or spinal column. </p>\n",
       " <p style=\"direction: ltr;\">And Allaah knows best. </p>\n",
       " <p style=\"direction: ltr;\">See Majaalis Ramadaan by Shaykh Ibn ‘Uthaymeen, and the booklet Sab’oona Mas’alah fi’l-Siyaam.</p>\n",
       " </div>]"
      ]
     },
     "metadata": {},
     "execution_count": 29
    }
   ],
   "source": [
    "qa = soup.findAll(attrs = {\"class\": \"content\"})\n",
    "qa"
   ]
  },
  {
   "cell_type": "code",
   "execution_count": 16,
   "metadata": {},
   "outputs": [
    {
     "output_type": "execute_result",
     "data": {
      "text/plain": [
       "' Praise be to Allah.Allaah has prescribed fasting in accordance with the highest wisdom.\\xa0 He has commanded the fasting person to fast in a moderate manner, so he should not harm himself by fasting or consume anything that will invalidate the fast.\\xa0 Hence the things that invalidate the fast are of two types:\\xa0 Some of the things that invalidate the fast involve things coming out of the body, such as intercourse, deliberate vomiting, menstruation and cupping. These things that come out of the body weaken it. Hence Allaah has described them as being things that invalidate the fast, so that the fasting person will not combine the weakness that results from fasting with the weakness that results from these things, and thus be harmed by his fast or his fast no longer be moderate.\\xa0 And some of the things that invalidate the fast involve things entering the body, such as eating and drinking. If the fasting person eats or drinks, he does not achieve the purpose of fasting.\\xa0 Majmoo’ al-Fataawa, 25/248\\xa0 Allaah has summed up the things that break the fast in the verse where He says (interpretation of the meaning):\\xa0 “So now have sexual relations with them and seek that which Allaah has ordained for you (offspring), and eat and drink until the white thread (light) of dawn appears to you distinct from the black thread (darkness of night), then complete your Sawm (fast) till the nightfall” [al-Baqarah 2:187] In this verse Allaah mentions the main things that invalidate the fast, which are eating, drinking and intercourse. The other things that break the fast were mentioned by the Prophet (peace and blessings of Allaah be upon him) in his Sunnah.\\xa0 There are seven things that break the fast, as follows:\\xa0 1-Intercourse 2-Masturbation 3-Eating and drinking 4-Anything that is regarded as coming under the same heading as eating and drinking 5-Letting blood by means of cupping and the like 6-Vomiting deliberately 7-Menstruation and nifaas The first of the things that invalidate the fast is: intercourse. This is the most serious and the most sinful of the things that invalidate the fast.\\xa0 Whoever has intercourse during the day in Ramadaan deliberately and of his or her own free will, in which the two circumcised parts meet and the tip of the penis disappears in either of the two passages, has invalidated his fast, whether he ejaculates or not. He has to repent, complete that day (i.e., not eat or drink until sunset), make up that day’s fast later on and offer a severe expiation. The evidence for that is the hadeeth narrated by Abu Hurayrah (may Allaah be pleased with him) who said: A man came to the Prophet (peace and blessings of Allaah be upon him) and said, “I am doomed, O Messenger of Allaah!” He said, “Why are you doomed?” He said, “I had intercourse with my wife (during the day) in Ramadaan.” He said, “Can you free a slave?” He said, “No.” He said, “Can you fast for two consecutive months?” He said, “No.” He said, “Can you feed sixty poor persons?” He said, “No.”…\\xa0 Narrated by al-Bukhaari, 1936; Muslim, 1111.\\xa0 No expiation is required for any of the things that break the fast apart from intercourse.\\xa0 The second of the things that invalidate the fast is masturbation. This means causing ejaculation or climax by using the hand etc.\\xa0 The evidence that masturbation is one of the things that invalidate the fast is the words of Allaah in the hadeeth qudsi in which He says of the fasting person: “He gives up his food and drink and desire for My sake.” Narrated by al-Bukhaari, 1894; Muslim, 1151. Causing ejaculation comes under the heading of the desire which the fasting person gives up.\\xa0 Whoever masturbates during the day in Ramadaan has to repent to Allaah and refrain from eating and drinking for the rest of the day, and he has to make up that fast later on. \\xa0 If he starts to masturbate then stops without ejaculating, he has to repent, but his fast is still valid, and he does not have to make it up later because he did not ejaculate. The fasting person should keep away from everything that provokes desire and shun bad thoughts.\\xa0 With regard to the emission of madhiy (prostatic fluid), the most correct view is that it does not invalidate the fast.\\xa0 The third of the things that invalidate the fast is eating or drinking\\xa0 This refers to food or drink reaching the stomach via the mouth.\\xa0 If anything reaches the stomach via the nose, this is like eating or drinking.\\xa0 Hence the Prophet (peace and blessings of Allaah be upon him) said: “Snuff up water deeply into the nose (when doing wudoo’), except when you are fasting.” Narrated by al-Tirmidhi, 788. If water reaching the stomach via the nose did not invalidate the fast, the Prophet (peace and blessings of Allaah be upon him) would not have told those who are fasting not to snuff up water deeply into the nose.\\xa0 The fourth of the things that invalidate the fast is anything that is regarded as coming under the same heading as eating and drinking\\xa0 This includes two things:\\xa0 1-Transfusion of blood to one who is fasting – such as if he bleeds heavily and is given a blood transfusion. This invalidates the fast because blood is formed from food and drink. 2-Receiving via a needle (as in the case of a drip) nourishing substances which take the place of food and drink, because this is the same as food and drink. Shaykh Ibn ‘Uthaymeen, Majaalis Shahr Ramadaan, p/ 70. With regard to injections which do not replace food and drink, rather they are administered for the purpose of medical treatment – such as penicillin or insulin – or are given to energize the body, or for the purpose of vaccinations, these do not affect the fast, whether they are intravenous or intramuscular (injected into a vein or a muscle). Fataawa Muhammad ibn Ibraaheem, 4/189. But to be on the safe side, these injections may be given at night.\\xa0 Kidney dialysis, in which blood is extracted, cleaned and then returned to the body with the additional of chemical substances such as sugars and salts etc. is regarded as invalidating the fast. Fataawa al-Lajnah al-Daa’imah, 10/19\\xa0 The fifth of the things that invalidate the fast is letting blood by means of cupping\\xa0 Because the Prophet (peace and blessings of Allaah be upon him) said: “The cupper and the one for whom cupping is done have both invalidated their fast.” Narrated by Abu Dawood, 2367; classed as saheeh by al-Albaani in Saheeh Abi Dawood, 2047.\\xa0 Donating blood comes under the same heading as cupping, because it affects the body in the same way.\\xa0 Based on this, it is not permissible for a person who is fasting to donate blood unless it is essential, in which case it is permissible. In that case the donor has broken his fast and must make up that day later on. Ibn ‘Uthaymeen, Majaalis Shahr Ramadaan, p. 71\\xa0 If a person suffers a nosebleed, his fast is valid, because that happened involuntarily. Fataawa al-Lajnah al-Daa’imah, 10/264\\xa0 With regard to bleeding that results from extraction of a tooth, surgery or a blood test etc., that does not invalidate the fast because it is not cupping or something that is similar to cupping, unless it has an effect on the body similar to that of cupping.\\xa0 The sixth of the things that invalidate the fast is vomiting deliberately\\xa0 Because the Prophet (peace and blessings of Allaah be upon him) said: “Whoever vomits involuntarily does not have to make up the fast, but whoever vomits deliberately let him make up the fast.” Narrated by al-Tirmidhi, 720, classed as saheeh by al-Albaani in Saheeh al-Tirmidhi, 577.\\xa0 Ibn al-Mundhir said: The scholars are agreed that the fast of one who vomits deliberately is invalidated. Al-Mughni, 4/368.\\xa0 Whoever vomits deliberately by sticking his finger in his throat, pressing his stomach, deliberately smelling something nasty or persisting in looking at something that makes him vomit, has to make up his fast later on.\\xa0 If his gorge rises, he should not suppress it, because that will harm him. Majaalis Sharh Ramadaan, Ibn ‘Uthaymeen, p. 71.\\xa0 The seventh of the things that invalidate the fast is the blood of menses and nifaas\\xa0 Because the Prophet (peace and blessings of Allaah be upon him) said: “Is it not the case that when she gets her period, she does not pray or fast?” Narrated by al-Bukhaari, 304.\\xa0 When a woman sees the blood of her period or nifaas (post-partum bleeding), her fast becomes invalid even if that is one moment before sunset.\\xa0 If a woman feels that her period has started but no blood comes out until after sunset, her fast is still valid.\\xa0 If the bleeding of a woman who is menstruating or in nifaas ceases at night and she has the intention of fasting, then dawn comes before she does ghusl, the view of all the scholars is that her fast is valid. Al-Fath, 4/148.\\xa0 It is preferable for a woman to keep to her natural cycle and to accept that which Allaah has decreed for her, and not to take any medicine to prevent her period. She should accept what Allaah has decreed for her of not fasting during her period, and make up those days later on. This is what the Mothers of the Believers and the women of the Salaf used to do. Fataawa al-Lajnah al-Daa’imah, 10/151. In addition, it has been medically proven that these means of preventing menstruation are harmful and many women have suffered menstrual irregularities as a result. If a woman takes pills and her period stops as a result, that is fine, she can fast and her fast is acceptable. \\xa0 These are things that invalidate the fast. All of them – apart from menses and nifaas – only invalidate the fast if three conditions are met: that the person was aware of the ruling and not ignorant of it; that he did it knowingly and not out of forgetfulness; and that he did it by choice and was not forced to do it.\\xa0 We should also note some things that do not invalidate the fast:\\xa0 Enemas, eyedrops, eardrops, tooth extraction and treatment of injuries do not invalidate the fast. Majmoo’ Fataawa Shaykh al-Islam, 25/233; 25/245\\xa0 Medical tablets that are placed under the tongue to treat asthma attacks etc, so long as you avoid swallowing any residue.\\xa0 Insertion of anything into the vagina such as pessaries, or a speculum, or the doctor’s fingers for the purpose of medical examination.\\xa0 Insertion of medical instruments or IUD into the womb.\\xa0 Anything that enters the urinary tract of a male or female, such as a catheter tube, or medical scopes, or opaque dyes inserted for the purpose of x-rays, or medicine, or a solution to wash the bladder.\\xa0 Fillings, extractions or cleaning of the teeth, whether with a siwaak or toothbrush, so long as you avoid swallowing anything that reaches the throat. \\xa0 Rinsing the mouth, gargling, sprays etc. so long as you avoid swallowing anything that reaches the throat. \\xa0 Oxygen or anaesthetic gases, so long as that does not give the patient any kind of nourishment.\\xa0 Anything that may enter the body via absorption through the skin, such as creams, poultices, etc. \\xa0 Insertion of a fine tube via the veins for diagnostic imaging or treatment of the veins of the heart or any part of the body.\\xa0 Insertion of a scope through the stomach wall to examine the intestines by means of a surgical operation (laparoscopy).\\xa0 Taking samples from the liver or any other part of the body, so long as that is not accompanied by administration of solutions.\\xa0 Endoscopy, so long as that is not accompanied by administration of solutions or other substances.\\xa0 Introduction of any medical instruments or materials to the brain or spinal column.\\xa0 And Allaah knows best.\\xa0 See Majaalis Ramadaan by Shaykh Ibn ‘Uthaymeen, and the booklet Sab’oona Mas’alah fi’l-Siyaam. '"
      ]
     },
     "metadata": {},
     "execution_count": 16
    }
   ],
   "source": [
    "a = qa[0].text.replace('\\n', ' ')\n",
    "a"
   ]
  },
  {
   "cell_type": "code",
   "execution_count": 31,
   "metadata": {},
   "outputs": [
    {
     "output_type": "execute_result",
     "data": {
      "text/plain": [
       "'                            Things that invalidate the fast                        '"
      ]
     },
     "metadata": {},
     "execution_count": 31
    }
   ],
   "source": [
    "sum = soup.find(attrs = {'class': 'title is-4 is-size-5-touch'}).text.replace('\\n', '')\n",
    "sum"
   ]
  },
  {
   "cell_type": "code",
   "execution_count": 35,
   "metadata": {},
   "outputs": [
    {
     "output_type": "execute_result",
     "data": {
      "text/plain": [
       "'\\n\\n\\n\\n\\n                            38023\\n                        '"
      ]
     },
     "metadata": {},
     "execution_count": 35
    }
   ],
   "source": [
    "no = soup.find(attrs = {'class': 'subtitle has-text-weight-bold has-title-case cursor-pointer tooltip'}).text\n",
    "no"
   ]
  },
  {
   "cell_type": "code",
   "execution_count": null,
   "metadata": {},
   "outputs": [],
   "source": []
  }
 ]
}